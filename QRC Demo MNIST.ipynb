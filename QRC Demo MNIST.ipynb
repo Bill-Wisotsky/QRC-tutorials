{
 "cells": [
  {
   "cell_type": "code",
   "execution_count": 1,
   "id": "d892ba92",
   "metadata": {},
   "outputs": [
    {
     "name": "stderr",
     "output_type": "stream",
     "text": [
      "\u001b[32m\u001b[1m  Activating\u001b[22m\u001b[39m project at `c:\\Users\\mkornjaca\\Documents\\GitHub\\BloqadeReservoir.jl\\notebooks`\n"
     ]
    },
    {
     "data": {
      "text/plain": [
       "true"
      ]
     },
     "metadata": {},
     "output_type": "display_data"
    }
   ],
   "source": [
    "# Initialize the environment\n",
    "using Pkg\n",
    "Pkg.activate(\".\")\n",
    "Pkg.instantiate()\n",
    "ENV[\"DATADEPS_ALWAYS_ACCEPT\"] = true # accept the download of the MNIST dataset\n",
    "SHOW_PROGRESS_BAR = true # turn off progress bars"
   ]
  },
  {
   "attachments": {},
   "cell_type": "markdown",
   "id": "a038e9ca-8a29-4b8d-993e-17fcb3470308",
   "metadata": {},
   "source": [
    "# Quantum Reservoir Computing Demo\n",
    "\n",
    "In this notebook we will show you how to train a model to classify MNIST images using quantum reservoir computing (QRC) in Julia programming language. The general idea is that the chaotic, non-linear dynamics of quantum systems can be used to create a non-linear mapping from a low-dimensional space (which will be PCA embeddings extracted from the MNIST images) to a high dimensional space. In order to construct the mapping, we first ensure that information from the image will totally specify the dynamics of the quantum system. Then, we measure certain properties (in this case, spin expectations and correlations) over time. These measurements form the output of the mapping.   \n",
    "\n",
    "Through the embedding in this high dimensional space classification on using standard ML techniques is expected to perform better. \n",
    "\n",
    "This demo provides a toy model that does not require access to a quantum computer. It uses classical, numerical simulations of a quantum system with 10 qubits. The classical simulation makes use of the package Bloqade, which is designed for numerical simulations of neutral-atom architectures. \n",
    "\n",
    "Neutral atom architectures provide access to several variational parameters. In this demo, we map pixelated descriptions of the images to the local detuning terms in the Rydberg Hamiltonian. We then measure the quantum system and train the classical model which maps the quantum readout from the measurement to the desired prediction. As all training process is in the classical part (excuted on a classical computer), we expect the training is substantially shorter than other traditional quantum machine learning models. More details on numerical simulation of neutral-atom architectures, and the range of the parameters can be found from [Bloqade.jl](https://queracomputing.github.io/Bloqade.jl/dev/) documentation. "
   ]
  },
  {
   "cell_type": "code",
   "execution_count": 2,
   "id": "21e53e03-5371-494f-a192-f21163051596",
   "metadata": {},
   "outputs": [],
   "source": [
    "# import required libraries\n",
    "using MLDatasets\n",
    "using MultivariateStats\n",
    "using OneHotArrays\n",
    "using Flux\n",
    "using Bloqade\n",
    "using Colors\n",
    "using ProgressBars\n",
    "using JLD2"
   ]
  },
  {
   "cell_type": "code",
   "execution_count": 3,
   "id": "fea12b36-2f1c-4538-8cec-c365091a7d6d",
   "metadata": {},
   "outputs": [
    {
     "data": {
      "text/plain": [
       "dataset MNIST:\n",
       "  metadata  =>    Dict{String, Any} with 3 entries\n",
       "  split     =>    :test\n",
       "  features  =>    28×28×10000 Array{Float32, 3}\n",
       "  targets   =>    10000-element Vector{Int64}"
      ]
     },
     "metadata": {},
     "output_type": "display_data"
    }
   ],
   "source": [
    "# Download the MNIST dataset\n",
    "\n",
    "# training data set (each image has 28x28 pixels and there are 60000 training samples)\n",
    "data_train = MNIST(:train)\n",
    "# test data set (10000 test samples)\n",
    "data_test = MNIST(:test) "
   ]
  },
  {
   "cell_type": "code",
   "execution_count": 4,
   "id": "122d68ab-68f0-4d82-a0a1-3217d480bbba",
   "metadata": {
    "tags": []
   },
   "outputs": [
    {
     "data": {
      "image/svg+xml": [
       "<?xml version=\"1.0\" encoding=\"UTF-8\"?>\n",
       "<!DOCTYPE svg PUBLIC \"-//W3C//DTD SVG 1.1//EN\"\n",
       " \"http://www.w3.org/Graphics/SVG/1.1/DTD/svg11.dtd\">\n",
       "<svg xmlns=\"http://www.w3.org/2000/svg\" version=\"1.1\"\n",
       "     width=\"150mm\" height=\"150mm\"\n",
       "     viewBox=\"0 0 28 28\" preserveAspectRatio=\"none\"\n",
       "     shape-rendering=\"crispEdges\" stroke=\"none\">\n",
       "<rect width=\".81\" height=\".81\" x=\"0\" y=\"0\" fill=\"#000000\" />\n",
       "<rect width=\".81\" height=\".81\" x=\"1\" y=\"0\" fill=\"#000000\" />\n",
       "<rect width=\".81\" height=\".81\" x=\"2\" y=\"0\" fill=\"#000000\" />\n",
       "<rect width=\".81\" height=\".81\" x=\"3\" y=\"0\" fill=\"#000000\" />\n",
       "<rect width=\".81\" height=\".81\" x=\"4\" y=\"0\" fill=\"#000000\" />\n",
       "<rect width=\".81\" height=\".81\" x=\"5\" y=\"0\" fill=\"#000000\" />\n",
       "<rect width=\".81\" height=\".81\" x=\"6\" y=\"0\" fill=\"#000000\" />\n",
       "<rect width=\".81\" height=\".81\" x=\"7\" y=\"0\" fill=\"#000000\" />\n",
       "<rect width=\".81\" height=\".81\" x=\"8\" y=\"0\" fill=\"#000000\" />\n",
       "<rect width=\".81\" height=\".81\" x=\"9\" y=\"0\" fill=\"#000000\" />\n",
       "<rect width=\".81\" height=\".81\" x=\"10\" y=\"0\" fill=\"#000000\" />\n",
       "<rect width=\".81\" height=\".81\" x=\"11\" y=\"0\" fill=\"#000000\" />\n",
       "<rect width=\".81\" height=\".81\" x=\"12\" y=\"0\" fill=\"#000000\" />\n",
       "<rect width=\".81\" height=\".81\" x=\"13\" y=\"0\" fill=\"#000000\" />\n",
       "<rect width=\".81\" height=\".81\" x=\"14\" y=\"0\" fill=\"#000000\" />\n",
       "<rect width=\".81\" height=\".81\" x=\"15\" y=\"0\" fill=\"#000000\" />\n",
       "<rect width=\".81\" height=\".81\" x=\"16\" y=\"0\" fill=\"#000000\" />\n",
       "<rect width=\".81\" height=\".81\" x=\"17\" y=\"0\" fill=\"#000000\" />\n",
       "<rect width=\".81\" height=\".81\" x=\"18\" y=\"0\" fill=\"#000000\" />\n",
       "<rect width=\".81\" height=\".81\" x=\"19\" y=\"0\" fill=\"#000000\" />\n",
       "<rect width=\".81\" height=\".81\" x=\"20\" y=\"0\" fill=\"#000000\" />\n",
       "<rect width=\".81\" height=\".81\" x=\"21\" y=\"0\" fill=\"#000000\" />\n",
       "<rect width=\".81\" height=\".81\" x=\"22\" y=\"0\" fill=\"#000000\" />\n",
       "<rect width=\".81\" height=\".81\" x=\"23\" y=\"0\" fill=\"#000000\" />\n",
       "<rect width=\".81\" height=\".81\" x=\"24\" y=\"0\" fill=\"#000000\" />\n",
       "<rect width=\".81\" height=\".81\" x=\"25\" y=\"0\" fill=\"#000000\" />\n",
       "<rect width=\".81\" height=\".81\" x=\"26\" y=\"0\" fill=\"#000000\" />\n",
       "<rect width=\".81\" height=\".81\" x=\"27\" y=\"0\" fill=\"#000000\" />\n",
       "<rect width=\".81\" height=\".81\" x=\"0\" y=\"1\" fill=\"#000000\" />\n",
       "<rect width=\".81\" height=\".81\" x=\"1\" y=\"1\" fill=\"#000000\" />\n",
       "<rect width=\".81\" height=\".81\" x=\"2\" y=\"1\" fill=\"#000000\" />\n",
       "<rect width=\".81\" height=\".81\" x=\"3\" y=\"1\" fill=\"#000000\" />\n",
       "<rect width=\".81\" height=\".81\" x=\"4\" y=\"1\" fill=\"#000000\" />\n",
       "<rect width=\".81\" height=\".81\" x=\"5\" y=\"1\" fill=\"#000000\" />\n",
       "<rect width=\".81\" height=\".81\" x=\"6\" y=\"1\" fill=\"#000000\" />\n",
       "<rect width=\".81\" height=\".81\" x=\"7\" y=\"1\" fill=\"#000000\" />\n",
       "<rect width=\".81\" height=\".81\" x=\"8\" y=\"1\" fill=\"#000000\" />\n",
       "<rect width=\".81\" height=\".81\" x=\"9\" y=\"1\" fill=\"#000000\" />\n",
       "<rect width=\".81\" height=\".81\" x=\"10\" y=\"1\" fill=\"#000000\" />\n",
       "<rect width=\".81\" height=\".81\" x=\"11\" y=\"1\" fill=\"#000000\" />\n",
       "<rect width=\".81\" height=\".81\" x=\"12\" y=\"1\" fill=\"#000000\" />\n",
       "<rect width=\".81\" height=\".81\" x=\"13\" y=\"1\" fill=\"#000000\" />\n",
       "<rect width=\".81\" height=\".81\" x=\"14\" y=\"1\" fill=\"#000000\" />\n",
       "<rect width=\".81\" height=\".81\" x=\"15\" y=\"1\" fill=\"#000000\" />\n",
       "<rect width=\".81\" height=\".81\" x=\"16\" y=\"1\" fill=\"#000000\" />\n",
       "<rect width=\".81\" height=\".81\" x=\"17\" y=\"1\" fill=\"#000000\" />\n",
       "<rect width=\".81\" height=\".81\" x=\"18\" y=\"1\" fill=\"#000000\" />\n",
       "<rect width=\".81\" height=\".81\" x=\"19\" y=\"1\" fill=\"#000000\" />\n",
       "<rect width=\".81\" height=\".81\" x=\"20\" y=\"1\" fill=\"#000000\" />\n",
       "<rect width=\".81\" height=\".81\" x=\"21\" y=\"1\" fill=\"#000000\" />\n",
       "<rect width=\".81\" height=\".81\" x=\"22\" y=\"1\" fill=\"#000000\" />\n",
       "<rect width=\".81\" height=\".81\" x=\"23\" y=\"1\" fill=\"#000000\" />\n",
       "<rect width=\".81\" height=\".81\" x=\"24\" y=\"1\" fill=\"#000000\" />\n",
       "<rect width=\".81\" height=\".81\" x=\"25\" y=\"1\" fill=\"#000000\" />\n",
       "<rect width=\".81\" height=\".81\" x=\"26\" y=\"1\" fill=\"#000000\" />\n",
       "<rect width=\".81\" height=\".81\" x=\"27\" y=\"1\" fill=\"#000000\" />\n",
       "<rect width=\".81\" height=\".81\" x=\"0\" y=\"2\" fill=\"#000000\" />\n",
       "<rect width=\".81\" height=\".81\" x=\"1\" y=\"2\" fill=\"#000000\" />\n",
       "<rect width=\".81\" height=\".81\" x=\"2\" y=\"2\" fill=\"#000000\" />\n",
       "<rect width=\".81\" height=\".81\" x=\"3\" y=\"2\" fill=\"#000000\" />\n",
       "<rect width=\".81\" height=\".81\" x=\"4\" y=\"2\" fill=\"#000000\" />\n",
       "<rect width=\".81\" height=\".81\" x=\"5\" y=\"2\" fill=\"#000000\" />\n",
       "<rect width=\".81\" height=\".81\" x=\"6\" y=\"2\" fill=\"#000000\" />\n",
       "<rect width=\".81\" height=\".81\" x=\"7\" y=\"2\" fill=\"#000000\" />\n",
       "<rect width=\".81\" height=\".81\" x=\"8\" y=\"2\" fill=\"#000000\" />\n",
       "<rect width=\".81\" height=\".81\" x=\"9\" y=\"2\" fill=\"#000000\" />\n",
       "<rect width=\".81\" height=\".81\" x=\"10\" y=\"2\" fill=\"#000000\" />\n",
       "<rect width=\".81\" height=\".81\" x=\"11\" y=\"2\" fill=\"#000000\" />\n",
       "<rect width=\".81\" height=\".81\" x=\"12\" y=\"2\" fill=\"#000000\" />\n",
       "<rect width=\".81\" height=\".81\" x=\"13\" y=\"2\" fill=\"#000000\" />\n",
       "<rect width=\".81\" height=\".81\" x=\"14\" y=\"2\" fill=\"#000000\" />\n",
       "<rect width=\".81\" height=\".81\" x=\"15\" y=\"2\" fill=\"#000000\" />\n",
       "<rect width=\".81\" height=\".81\" x=\"16\" y=\"2\" fill=\"#000000\" />\n",
       "<rect width=\".81\" height=\".81\" x=\"17\" y=\"2\" fill=\"#000000\" />\n",
       "<rect width=\".81\" height=\".81\" x=\"18\" y=\"2\" fill=\"#000000\" />\n",
       "<rect width=\".81\" height=\".81\" x=\"19\" y=\"2\" fill=\"#000000\" />\n",
       "<rect width=\".81\" height=\".81\" x=\"20\" y=\"2\" fill=\"#000000\" />\n",
       "<rect width=\".81\" height=\".81\" x=\"21\" y=\"2\" fill=\"#000000\" />\n",
       "<rect width=\".81\" height=\".81\" x=\"22\" y=\"2\" fill=\"#000000\" />\n",
       "<rect width=\".81\" height=\".81\" x=\"23\" y=\"2\" fill=\"#000000\" />\n",
       "<rect width=\".81\" height=\".81\" x=\"24\" y=\"2\" fill=\"#000000\" />\n",
       "<rect width=\".81\" height=\".81\" x=\"25\" y=\"2\" fill=\"#000000\" />\n",
       "<rect width=\".81\" height=\".81\" x=\"26\" y=\"2\" fill=\"#000000\" />\n",
       "<rect width=\".81\" height=\".81\" x=\"27\" y=\"2\" fill=\"#000000\" />\n",
       "<rect width=\".81\" height=\".81\" x=\"0\" y=\"3\" fill=\"#000000\" />\n",
       "<rect width=\".81\" height=\".81\" x=\"1\" y=\"3\" fill=\"#000000\" />\n",
       "<rect width=\".81\" height=\".81\" x=\"2\" y=\"3\" fill=\"#000000\" />\n",
       "<rect width=\".81\" height=\".81\" x=\"3\" y=\"3\" fill=\"#000000\" />\n",
       "<rect width=\".81\" height=\".81\" x=\"4\" y=\"3\" fill=\"#000000\" />\n",
       "<rect width=\".81\" height=\".81\" x=\"5\" y=\"3\" fill=\"#000000\" />\n",
       "<rect width=\".81\" height=\".81\" x=\"6\" y=\"3\" fill=\"#000000\" />\n",
       "<rect width=\".81\" height=\".81\" x=\"7\" y=\"3\" fill=\"#000000\" />\n",
       "<rect width=\".81\" height=\".81\" x=\"8\" y=\"3\" fill=\"#000000\" />\n",
       "<rect width=\".81\" height=\".81\" x=\"9\" y=\"3\" fill=\"#000000\" />\n",
       "<rect width=\".81\" height=\".81\" x=\"10\" y=\"3\" fill=\"#000000\" />\n",
       "<rect width=\".81\" height=\".81\" x=\"11\" y=\"3\" fill=\"#000000\" />\n",
       "<rect width=\".81\" height=\".81\" x=\"12\" y=\"3\" fill=\"#000000\" />\n",
       "<rect width=\".81\" height=\".81\" x=\"13\" y=\"3\" fill=\"#000000\" />\n",
       "<rect width=\".81\" height=\".81\" x=\"14\" y=\"3\" fill=\"#000000\" />\n",
       "<rect width=\".81\" height=\".81\" x=\"15\" y=\"3\" fill=\"#000000\" />\n",
       "<rect width=\".81\" height=\".81\" x=\"16\" y=\"3\" fill=\"#000000\" />\n",
       "<rect width=\".81\" height=\".81\" x=\"17\" y=\"3\" fill=\"#000000\" />\n",
       "<rect width=\".81\" height=\".81\" x=\"18\" y=\"3\" fill=\"#000000\" />\n",
       "<rect width=\".81\" height=\".81\" x=\"19\" y=\"3\" fill=\"#000000\" />\n",
       "<rect width=\".81\" height=\".81\" x=\"20\" y=\"3\" fill=\"#000000\" />\n",
       "<rect width=\".81\" height=\".81\" x=\"21\" y=\"3\" fill=\"#000000\" />\n",
       "<rect width=\".81\" height=\".81\" x=\"22\" y=\"3\" fill=\"#000000\" />\n",
       "<rect width=\".81\" height=\".81\" x=\"23\" y=\"3\" fill=\"#000000\" />\n",
       "<rect width=\".81\" height=\".81\" x=\"24\" y=\"3\" fill=\"#000000\" />\n",
       "<rect width=\".81\" height=\".81\" x=\"25\" y=\"3\" fill=\"#000000\" />\n",
       "<rect width=\".81\" height=\".81\" x=\"26\" y=\"3\" fill=\"#000000\" />\n",
       "<rect width=\".81\" height=\".81\" x=\"27\" y=\"3\" fill=\"#000000\" />\n",
       "<rect width=\".81\" height=\".81\" x=\"0\" y=\"4\" fill=\"#000000\" />\n",
       "<rect width=\".81\" height=\".81\" x=\"1\" y=\"4\" fill=\"#000000\" />\n",
       "<rect width=\".81\" height=\".81\" x=\"2\" y=\"4\" fill=\"#000000\" />\n",
       "<rect width=\".81\" height=\".81\" x=\"3\" y=\"4\" fill=\"#000000\" />\n",
       "<rect width=\".81\" height=\".81\" x=\"4\" y=\"4\" fill=\"#000000\" />\n",
       "<rect width=\".81\" height=\".81\" x=\"5\" y=\"4\" fill=\"#000000\" />\n",
       "<rect width=\".81\" height=\".81\" x=\"6\" y=\"4\" fill=\"#000000\" />\n",
       "<rect width=\".81\" height=\".81\" x=\"7\" y=\"4\" fill=\"#000000\" />\n",
       "<rect width=\".81\" height=\".81\" x=\"8\" y=\"4\" fill=\"#000000\" />\n",
       "<rect width=\".81\" height=\".81\" x=\"9\" y=\"4\" fill=\"#000000\" />\n",
       "<rect width=\".81\" height=\".81\" x=\"10\" y=\"4\" fill=\"#000000\" />\n",
       "<rect width=\".81\" height=\".81\" x=\"11\" y=\"4\" fill=\"#000000\" />\n",
       "<rect width=\".81\" height=\".81\" x=\"12\" y=\"4\" fill=\"#000000\" />\n",
       "<rect width=\".81\" height=\".81\" x=\"13\" y=\"4\" fill=\"#000000\" />\n",
       "<rect width=\".81\" height=\".81\" x=\"14\" y=\"4\" fill=\"#000000\" />\n",
       "<rect width=\".81\" height=\".81\" x=\"15\" y=\"4\" fill=\"#000000\" />\n",
       "<rect width=\".81\" height=\".81\" x=\"16\" y=\"4\" fill=\"#000000\" />\n",
       "<rect width=\".81\" height=\".81\" x=\"17\" y=\"4\" fill=\"#000000\" />\n",
       "<rect width=\".81\" height=\".81\" x=\"18\" y=\"4\" fill=\"#000000\" />\n",
       "<rect width=\".81\" height=\".81\" x=\"19\" y=\"4\" fill=\"#000000\" />\n",
       "<rect width=\".81\" height=\".81\" x=\"20\" y=\"4\" fill=\"#000000\" />\n",
       "<rect width=\".81\" height=\".81\" x=\"21\" y=\"4\" fill=\"#000000\" />\n",
       "<rect width=\".81\" height=\".81\" x=\"22\" y=\"4\" fill=\"#000000\" />\n",
       "<rect width=\".81\" height=\".81\" x=\"23\" y=\"4\" fill=\"#000000\" />\n",
       "<rect width=\".81\" height=\".81\" x=\"24\" y=\"4\" fill=\"#000000\" />\n",
       "<rect width=\".81\" height=\".81\" x=\"25\" y=\"4\" fill=\"#000000\" />\n",
       "<rect width=\".81\" height=\".81\" x=\"26\" y=\"4\" fill=\"#000000\" />\n",
       "<rect width=\".81\" height=\".81\" x=\"27\" y=\"4\" fill=\"#000000\" />\n",
       "<rect width=\".81\" height=\".81\" x=\"0\" y=\"5\" fill=\"#000000\" />\n",
       "<rect width=\".81\" height=\".81\" x=\"1\" y=\"5\" fill=\"#000000\" />\n",
       "<rect width=\".81\" height=\".81\" x=\"2\" y=\"5\" fill=\"#000000\" />\n",
       "<rect width=\".81\" height=\".81\" x=\"3\" y=\"5\" fill=\"#000000\" />\n",
       "<rect width=\".81\" height=\".81\" x=\"4\" y=\"5\" fill=\"#000000\" />\n",
       "<rect width=\".81\" height=\".81\" x=\"5\" y=\"5\" fill=\"#000000\" />\n",
       "<rect width=\".81\" height=\".81\" x=\"6\" y=\"5\" fill=\"#000000\" />\n",
       "<rect width=\".81\" height=\".81\" x=\"7\" y=\"5\" fill=\"#000000\" />\n",
       "<rect width=\".81\" height=\".81\" x=\"8\" y=\"5\" fill=\"#000000\" />\n",
       "<rect width=\".81\" height=\".81\" x=\"9\" y=\"5\" fill=\"#000000\" />\n",
       "<rect width=\".81\" height=\".81\" x=\"10\" y=\"5\" fill=\"#000000\" />\n",
       "<rect width=\".81\" height=\".81\" x=\"11\" y=\"5\" fill=\"#000000\" />\n",
       "<rect width=\".81\" height=\".81\" x=\"12\" y=\"5\" fill=\"#030303\" />\n",
       "<rect width=\".81\" height=\".81\" x=\"13\" y=\"5\" fill=\"#121212\" />\n",
       "<rect width=\".81\" height=\".81\" x=\"14\" y=\"5\" fill=\"#121212\" />\n",
       "<rect width=\".81\" height=\".81\" x=\"15\" y=\"5\" fill=\"#121212\" />\n",
       "<rect width=\".81\" height=\".81\" x=\"16\" y=\"5\" fill=\"#7E7E7E\" />\n",
       "<rect width=\".81\" height=\".81\" x=\"17\" y=\"5\" fill=\"#888888\" />\n",
       "<rect width=\".81\" height=\".81\" x=\"18\" y=\"5\" fill=\"#AFAFAF\" />\n",
       "<rect width=\".81\" height=\".81\" x=\"19\" y=\"5\" fill=\"#1A1A1A\" />\n",
       "<rect width=\".81\" height=\".81\" x=\"20\" y=\"5\" fill=\"#A6A6A6\" />\n",
       "<rect width=\".81\" height=\".81\" x=\"21\" y=\"5\" fill=\"#FFFFFF\" />\n",
       "<rect width=\".81\" height=\".81\" x=\"22\" y=\"5\" fill=\"#F7F7F7\" />\n",
       "<rect width=\".81\" height=\".81\" x=\"23\" y=\"5\" fill=\"#7F7F7F\" />\n",
       "<rect width=\".81\" height=\".81\" x=\"24\" y=\"5\" fill=\"#000000\" />\n",
       "<rect width=\".81\" height=\".81\" x=\"25\" y=\"5\" fill=\"#000000\" />\n",
       "<rect width=\".81\" height=\".81\" x=\"26\" y=\"5\" fill=\"#000000\" />\n",
       "<rect width=\".81\" height=\".81\" x=\"27\" y=\"5\" fill=\"#000000\" />\n",
       "<rect width=\".81\" height=\".81\" x=\"0\" y=\"6\" fill=\"#000000\" />\n",
       "<rect width=\".81\" height=\".81\" x=\"1\" y=\"6\" fill=\"#000000\" />\n",
       "<rect width=\".81\" height=\".81\" x=\"2\" y=\"6\" fill=\"#000000\" />\n",
       "<rect width=\".81\" height=\".81\" x=\"3\" y=\"6\" fill=\"#000000\" />\n",
       "<rect width=\".81\" height=\".81\" x=\"4\" y=\"6\" fill=\"#000000\" />\n",
       "<rect width=\".81\" height=\".81\" x=\"5\" y=\"6\" fill=\"#000000\" />\n",
       "<rect width=\".81\" height=\".81\" x=\"6\" y=\"6\" fill=\"#000000\" />\n",
       "<rect width=\".81\" height=\".81\" x=\"7\" y=\"6\" fill=\"#000000\" />\n",
       "<rect width=\".81\" height=\".81\" x=\"8\" y=\"6\" fill=\"#1E1E1E\" />\n",
       "<rect width=\".81\" height=\".81\" x=\"9\" y=\"6\" fill=\"#242424\" />\n",
       "<rect width=\".81\" height=\".81\" x=\"10\" y=\"6\" fill=\"#5E5E5E\" />\n",
       "<rect width=\".81\" height=\".81\" x=\"11\" y=\"6\" fill=\"#9A9A9A\" />\n",
       "<rect width=\".81\" height=\".81\" x=\"12\" y=\"6\" fill=\"#AAAAAA\" />\n",
       "<rect width=\".81\" height=\".81\" x=\"13\" y=\"6\" fill=\"#FDFDFD\" />\n",
       "<rect width=\".81\" height=\".81\" x=\"14\" y=\"6\" fill=\"#FDFDFD\" />\n",
       "<rect width=\".81\" height=\".81\" x=\"15\" y=\"6\" fill=\"#FDFDFD\" />\n",
       "<rect width=\".81\" height=\".81\" x=\"16\" y=\"6\" fill=\"#FDFDFD\" />\n",
       "<rect width=\".81\" height=\".81\" x=\"17\" y=\"6\" fill=\"#FDFDFD\" />\n",
       "<rect width=\".81\" height=\".81\" x=\"18\" y=\"6\" fill=\"#E1E1E1\" />\n",
       "<rect width=\".81\" height=\".81\" x=\"19\" y=\"6\" fill=\"#ACACAC\" />\n",
       "<rect width=\".81\" height=\".81\" x=\"20\" y=\"6\" fill=\"#FDFDFD\" />\n",
       "<rect width=\".81\" height=\".81\" x=\"21\" y=\"6\" fill=\"#F2F2F2\" />\n",
       "<rect width=\".81\" height=\".81\" x=\"22\" y=\"6\" fill=\"#C3C3C3\" />\n",
       "<rect width=\".81\" height=\".81\" x=\"23\" y=\"6\" fill=\"#404040\" />\n",
       "<rect width=\".81\" height=\".81\" x=\"24\" y=\"6\" fill=\"#000000\" />\n",
       "<rect width=\".81\" height=\".81\" x=\"25\" y=\"6\" fill=\"#000000\" />\n",
       "<rect width=\".81\" height=\".81\" x=\"26\" y=\"6\" fill=\"#000000\" />\n",
       "<rect width=\".81\" height=\".81\" x=\"27\" y=\"6\" fill=\"#000000\" />\n",
       "<rect width=\".81\" height=\".81\" x=\"0\" y=\"7\" fill=\"#000000\" />\n",
       "<rect width=\".81\" height=\".81\" x=\"1\" y=\"7\" fill=\"#000000\" />\n",
       "<rect width=\".81\" height=\".81\" x=\"2\" y=\"7\" fill=\"#000000\" />\n",
       "<rect width=\".81\" height=\".81\" x=\"3\" y=\"7\" fill=\"#000000\" />\n",
       "<rect width=\".81\" height=\".81\" x=\"4\" y=\"7\" fill=\"#000000\" />\n",
       "<rect width=\".81\" height=\".81\" x=\"5\" y=\"7\" fill=\"#000000\" />\n",
       "<rect width=\".81\" height=\".81\" x=\"6\" y=\"7\" fill=\"#000000\" />\n",
       "<rect width=\".81\" height=\".81\" x=\"7\" y=\"7\" fill=\"#313131\" />\n",
       "<rect width=\".81\" height=\".81\" x=\"8\" y=\"7\" fill=\"#EEEEEE\" />\n",
       "<rect width=\".81\" height=\".81\" x=\"9\" y=\"7\" fill=\"#FDFDFD\" />\n",
       "<rect width=\".81\" height=\".81\" x=\"10\" y=\"7\" fill=\"#FDFDFD\" />\n",
       "<rect width=\".81\" height=\".81\" x=\"11\" y=\"7\" fill=\"#FDFDFD\" />\n",
       "<rect width=\".81\" height=\".81\" x=\"12\" y=\"7\" fill=\"#FDFDFD\" />\n",
       "<rect width=\".81\" height=\".81\" x=\"13\" y=\"7\" fill=\"#FDFDFD\" />\n",
       "<rect width=\".81\" height=\".81\" x=\"14\" y=\"7\" fill=\"#FDFDFD\" />\n",
       "<rect width=\".81\" height=\".81\" x=\"15\" y=\"7\" fill=\"#FDFDFD\" />\n",
       "<rect width=\".81\" height=\".81\" x=\"16\" y=\"7\" fill=\"#FDFDFD\" />\n",
       "<rect width=\".81\" height=\".81\" x=\"17\" y=\"7\" fill=\"#FBFBFB\" />\n",
       "<rect width=\".81\" height=\".81\" x=\"18\" y=\"7\" fill=\"#5D5D5D\" />\n",
       "<rect width=\".81\" height=\".81\" x=\"19\" y=\"7\" fill=\"#525252\" />\n",
       "<rect width=\".81\" height=\".81\" x=\"20\" y=\"7\" fill=\"#525252\" />\n",
       "<rect width=\".81\" height=\".81\" x=\"21\" y=\"7\" fill=\"#383838\" />\n",
       "<rect width=\".81\" height=\".81\" x=\"22\" y=\"7\" fill=\"#272727\" />\n",
       "<rect width=\".81\" height=\".81\" x=\"23\" y=\"7\" fill=\"#000000\" />\n",
       "<rect width=\".81\" height=\".81\" x=\"24\" y=\"7\" fill=\"#000000\" />\n",
       "<rect width=\".81\" height=\".81\" x=\"25\" y=\"7\" fill=\"#000000\" />\n",
       "<rect width=\".81\" height=\".81\" x=\"26\" y=\"7\" fill=\"#000000\" />\n",
       "<rect width=\".81\" height=\".81\" x=\"27\" y=\"7\" fill=\"#000000\" />\n",
       "<rect width=\".81\" height=\".81\" x=\"0\" y=\"8\" fill=\"#000000\" />\n",
       "<rect width=\".81\" height=\".81\" x=\"1\" y=\"8\" fill=\"#000000\" />\n",
       "<rect width=\".81\" height=\".81\" x=\"2\" y=\"8\" fill=\"#000000\" />\n",
       "<rect width=\".81\" height=\".81\" x=\"3\" y=\"8\" fill=\"#000000\" />\n",
       "<rect width=\".81\" height=\".81\" x=\"4\" y=\"8\" fill=\"#000000\" />\n",
       "<rect width=\".81\" height=\".81\" x=\"5\" y=\"8\" fill=\"#000000\" />\n",
       "<rect width=\".81\" height=\".81\" x=\"6\" y=\"8\" fill=\"#000000\" />\n",
       "<rect width=\".81\" height=\".81\" x=\"7\" y=\"8\" fill=\"#121212\" />\n",
       "<rect width=\".81\" height=\".81\" x=\"8\" y=\"8\" fill=\"#DBDBDB\" />\n",
       "<rect width=\".81\" height=\".81\" x=\"9\" y=\"8\" fill=\"#FDFDFD\" />\n",
       "<rect width=\".81\" height=\".81\" x=\"10\" y=\"8\" fill=\"#FDFDFD\" />\n",
       "<rect width=\".81\" height=\".81\" x=\"11\" y=\"8\" fill=\"#FDFDFD\" />\n",
       "<rect width=\".81\" height=\".81\" x=\"12\" y=\"8\" fill=\"#FDFDFD\" />\n",
       "<rect width=\".81\" height=\".81\" x=\"13\" y=\"8\" fill=\"#FDFDFD\" />\n",
       "<rect width=\".81\" height=\".81\" x=\"14\" y=\"8\" fill=\"#C6C6C6\" />\n",
       "<rect width=\".81\" height=\".81\" x=\"15\" y=\"8\" fill=\"#B6B6B6\" />\n",
       "<rect width=\".81\" height=\".81\" x=\"16\" y=\"8\" fill=\"#F7F7F7\" />\n",
       "<rect width=\".81\" height=\".81\" x=\"17\" y=\"8\" fill=\"#F1F1F1\" />\n",
       "<rect width=\".81\" height=\".81\" x=\"18\" y=\"8\" fill=\"#000000\" />\n",
       "<rect width=\".81\" height=\".81\" x=\"19\" y=\"8\" fill=\"#000000\" />\n",
       "<rect width=\".81\" height=\".81\" x=\"20\" y=\"8\" fill=\"#000000\" />\n",
       "<rect width=\".81\" height=\".81\" x=\"21\" y=\"8\" fill=\"#000000\" />\n",
       "<rect width=\".81\" height=\".81\" x=\"22\" y=\"8\" fill=\"#000000\" />\n",
       "<rect width=\".81\" height=\".81\" x=\"23\" y=\"8\" fill=\"#000000\" />\n",
       "<rect width=\".81\" height=\".81\" x=\"24\" y=\"8\" fill=\"#000000\" />\n",
       "<rect width=\".81\" height=\".81\" x=\"25\" y=\"8\" fill=\"#000000\" />\n",
       "<rect width=\".81\" height=\".81\" x=\"26\" y=\"8\" fill=\"#000000\" />\n",
       "<rect width=\".81\" height=\".81\" x=\"27\" y=\"8\" fill=\"#000000\" />\n",
       "<rect width=\".81\" height=\".81\" x=\"0\" y=\"9\" fill=\"#000000\" />\n",
       "<rect width=\".81\" height=\".81\" x=\"1\" y=\"9\" fill=\"#000000\" />\n",
       "<rect width=\".81\" height=\".81\" x=\"2\" y=\"9\" fill=\"#000000\" />\n",
       "<rect width=\".81\" height=\".81\" x=\"3\" y=\"9\" fill=\"#000000\" />\n",
       "<rect width=\".81\" height=\".81\" x=\"4\" y=\"9\" fill=\"#000000\" />\n",
       "<rect width=\".81\" height=\".81\" x=\"5\" y=\"9\" fill=\"#000000\" />\n",
       "<rect width=\".81\" height=\".81\" x=\"6\" y=\"9\" fill=\"#000000\" />\n",
       "<rect width=\".81\" height=\".81\" x=\"7\" y=\"9\" fill=\"#000000\" />\n",
       "<rect width=\".81\" height=\".81\" x=\"8\" y=\"9\" fill=\"#505050\" />\n",
       "<rect width=\".81\" height=\".81\" x=\"9\" y=\"9\" fill=\"#9C9C9C\" />\n",
       "<rect width=\".81\" height=\".81\" x=\"10\" y=\"9\" fill=\"#6B6B6B\" />\n",
       "<rect width=\".81\" height=\".81\" x=\"11\" y=\"9\" fill=\"#FDFDFD\" />\n",
       "<rect width=\".81\" height=\".81\" x=\"12\" y=\"9\" fill=\"#FDFDFD\" />\n",
       "<rect width=\".81\" height=\".81\" x=\"13\" y=\"9\" fill=\"#CDCDCD\" />\n",
       "<rect width=\".81\" height=\".81\" x=\"14\" y=\"9\" fill=\"#0B0B0B\" />\n",
       "<rect width=\".81\" height=\".81\" x=\"15\" y=\"9\" fill=\"#000000\" />\n",
       "<rect width=\".81\" height=\".81\" x=\"16\" y=\"9\" fill=\"#2B2B2B\" />\n",
       "<rect width=\".81\" height=\".81\" x=\"17\" y=\"9\" fill=\"#9A9A9A\" />\n",
       "<rect width=\".81\" height=\".81\" x=\"18\" y=\"9\" fill=\"#000000\" />\n",
       "<rect width=\".81\" height=\".81\" x=\"19\" y=\"9\" fill=\"#000000\" />\n",
       "<rect width=\".81\" height=\".81\" x=\"20\" y=\"9\" fill=\"#000000\" />\n",
       "<rect width=\".81\" height=\".81\" x=\"21\" y=\"9\" fill=\"#000000\" />\n",
       "<rect width=\".81\" height=\".81\" x=\"22\" y=\"9\" fill=\"#000000\" />\n",
       "<rect width=\".81\" height=\".81\" x=\"23\" y=\"9\" fill=\"#000000\" />\n",
       "<rect width=\".81\" height=\".81\" x=\"24\" y=\"9\" fill=\"#000000\" />\n",
       "<rect width=\".81\" height=\".81\" x=\"25\" y=\"9\" fill=\"#000000\" />\n",
       "<rect width=\".81\" height=\".81\" x=\"26\" y=\"9\" fill=\"#000000\" />\n",
       "<rect width=\".81\" height=\".81\" x=\"27\" y=\"9\" fill=\"#000000\" />\n",
       "<rect width=\".81\" height=\".81\" x=\"0\" y=\"10\" fill=\"#000000\" />\n",
       "<rect width=\".81\" height=\".81\" x=\"1\" y=\"10\" fill=\"#000000\" />\n",
       "<rect width=\".81\" height=\".81\" x=\"2\" y=\"10\" fill=\"#000000\" />\n",
       "<rect width=\".81\" height=\".81\" x=\"3\" y=\"10\" fill=\"#000000\" />\n",
       "<rect width=\".81\" height=\".81\" x=\"4\" y=\"10\" fill=\"#000000\" />\n",
       "<rect width=\".81\" height=\".81\" x=\"5\" y=\"10\" fill=\"#000000\" />\n",
       "<rect width=\".81\" height=\".81\" x=\"6\" y=\"10\" fill=\"#000000\" />\n",
       "<rect width=\".81\" height=\".81\" x=\"7\" y=\"10\" fill=\"#000000\" />\n",
       "<rect width=\".81\" height=\".81\" x=\"8\" y=\"10\" fill=\"#000000\" />\n",
       "<rect width=\".81\" height=\".81\" x=\"9\" y=\"10\" fill=\"#0E0E0E\" />\n",
       "<rect width=\".81\" height=\".81\" x=\"10\" y=\"10\" fill=\"#010101\" />\n",
       "<rect width=\".81\" height=\".81\" x=\"11\" y=\"10\" fill=\"#9A9A9A\" />\n",
       "<rect width=\".81\" height=\".81\" x=\"12\" y=\"10\" fill=\"#FDFDFD\" />\n",
       "<rect width=\".81\" height=\".81\" x=\"13\" y=\"10\" fill=\"#5A5A5A\" />\n",
       "<rect width=\".81\" height=\".81\" x=\"14\" y=\"10\" fill=\"#000000\" />\n",
       "<rect width=\".81\" height=\".81\" x=\"15\" y=\"10\" fill=\"#000000\" />\n",
       "<rect width=\".81\" height=\".81\" x=\"16\" y=\"10\" fill=\"#000000\" />\n",
       "<rect width=\".81\" height=\".81\" x=\"17\" y=\"10\" fill=\"#000000\" />\n",
       "<rect width=\".81\" height=\".81\" x=\"18\" y=\"10\" fill=\"#000000\" />\n",
       "<rect width=\".81\" height=\".81\" x=\"19\" y=\"10\" fill=\"#000000\" />\n",
       "<rect width=\".81\" height=\".81\" x=\"20\" y=\"10\" fill=\"#000000\" />\n",
       "<rect width=\".81\" height=\".81\" x=\"21\" y=\"10\" fill=\"#000000\" />\n",
       "<rect width=\".81\" height=\".81\" x=\"22\" y=\"10\" fill=\"#000000\" />\n",
       "<rect width=\".81\" height=\".81\" x=\"23\" y=\"10\" fill=\"#000000\" />\n",
       "<rect width=\".81\" height=\".81\" x=\"24\" y=\"10\" fill=\"#000000\" />\n",
       "<rect width=\".81\" height=\".81\" x=\"25\" y=\"10\" fill=\"#000000\" />\n",
       "<rect width=\".81\" height=\".81\" x=\"26\" y=\"10\" fill=\"#000000\" />\n",
       "<rect width=\".81\" height=\".81\" x=\"27\" y=\"10\" fill=\"#000000\" />\n",
       "<rect width=\".81\" height=\".81\" x=\"0\" y=\"11\" fill=\"#000000\" />\n",
       "<rect width=\".81\" height=\".81\" x=\"1\" y=\"11\" fill=\"#000000\" />\n",
       "<rect width=\".81\" height=\".81\" x=\"2\" y=\"11\" fill=\"#000000\" />\n",
       "<rect width=\".81\" height=\".81\" x=\"3\" y=\"11\" fill=\"#000000\" />\n",
       "<rect width=\".81\" height=\".81\" x=\"4\" y=\"11\" fill=\"#000000\" />\n",
       "<rect width=\".81\" height=\".81\" x=\"5\" y=\"11\" fill=\"#000000\" />\n",
       "<rect width=\".81\" height=\".81\" x=\"6\" y=\"11\" fill=\"#000000\" />\n",
       "<rect width=\".81\" height=\".81\" x=\"7\" y=\"11\" fill=\"#000000\" />\n",
       "<rect width=\".81\" height=\".81\" x=\"8\" y=\"11\" fill=\"#000000\" />\n",
       "<rect width=\".81\" height=\".81\" x=\"9\" y=\"11\" fill=\"#000000\" />\n",
       "<rect width=\".81\" height=\".81\" x=\"10\" y=\"11\" fill=\"#000000\" />\n",
       "<rect width=\".81\" height=\".81\" x=\"11\" y=\"11\" fill=\"#8B8B8B\" />\n",
       "<rect width=\".81\" height=\".81\" x=\"12\" y=\"11\" fill=\"#FDFDFD\" />\n",
       "<rect width=\".81\" height=\".81\" x=\"13\" y=\"11\" fill=\"#BEBEBE\" />\n",
       "<rect width=\".81\" height=\".81\" x=\"14\" y=\"11\" fill=\"#020202\" />\n",
       "<rect width=\".81\" height=\".81\" x=\"15\" y=\"11\" fill=\"#000000\" />\n",
       "<rect width=\".81\" height=\".81\" x=\"16\" y=\"11\" fill=\"#000000\" />\n",
       "<rect width=\".81\" height=\".81\" x=\"17\" y=\"11\" fill=\"#000000\" />\n",
       "<rect width=\".81\" height=\".81\" x=\"18\" y=\"11\" fill=\"#000000\" />\n",
       "<rect width=\".81\" height=\".81\" x=\"19\" y=\"11\" fill=\"#000000\" />\n",
       "<rect width=\".81\" height=\".81\" x=\"20\" y=\"11\" fill=\"#000000\" />\n",
       "<rect width=\".81\" height=\".81\" x=\"21\" y=\"11\" fill=\"#000000\" />\n",
       "<rect width=\".81\" height=\".81\" x=\"22\" y=\"11\" fill=\"#000000\" />\n",
       "<rect width=\".81\" height=\".81\" x=\"23\" y=\"11\" fill=\"#000000\" />\n",
       "<rect width=\".81\" height=\".81\" x=\"24\" y=\"11\" fill=\"#000000\" />\n",
       "<rect width=\".81\" height=\".81\" x=\"25\" y=\"11\" fill=\"#000000\" />\n",
       "<rect width=\".81\" height=\".81\" x=\"26\" y=\"11\" fill=\"#000000\" />\n",
       "<rect width=\".81\" height=\".81\" x=\"27\" y=\"11\" fill=\"#000000\" />\n",
       "<rect width=\".81\" height=\".81\" x=\"0\" y=\"12\" fill=\"#000000\" />\n",
       "<rect width=\".81\" height=\".81\" x=\"1\" y=\"12\" fill=\"#000000\" />\n",
       "<rect width=\".81\" height=\".81\" x=\"2\" y=\"12\" fill=\"#000000\" />\n",
       "<rect width=\".81\" height=\".81\" x=\"3\" y=\"12\" fill=\"#000000\" />\n",
       "<rect width=\".81\" height=\".81\" x=\"4\" y=\"12\" fill=\"#000000\" />\n",
       "<rect width=\".81\" height=\".81\" x=\"5\" y=\"12\" fill=\"#000000\" />\n",
       "<rect width=\".81\" height=\".81\" x=\"6\" y=\"12\" fill=\"#000000\" />\n",
       "<rect width=\".81\" height=\".81\" x=\"7\" y=\"12\" fill=\"#000000\" />\n",
       "<rect width=\".81\" height=\".81\" x=\"8\" y=\"12\" fill=\"#000000\" />\n",
       "<rect width=\".81\" height=\".81\" x=\"9\" y=\"12\" fill=\"#000000\" />\n",
       "<rect width=\".81\" height=\".81\" x=\"10\" y=\"12\" fill=\"#000000\" />\n",
       "<rect width=\".81\" height=\".81\" x=\"11\" y=\"12\" fill=\"#0B0B0B\" />\n",
       "<rect width=\".81\" height=\".81\" x=\"12\" y=\"12\" fill=\"#BEBEBE\" />\n",
       "<rect width=\".81\" height=\".81\" x=\"13\" y=\"12\" fill=\"#FDFDFD\" />\n",
       "<rect width=\".81\" height=\".81\" x=\"14\" y=\"12\" fill=\"#464646\" />\n",
       "<rect width=\".81\" height=\".81\" x=\"15\" y=\"12\" fill=\"#000000\" />\n",
       "<rect width=\".81\" height=\".81\" x=\"16\" y=\"12\" fill=\"#000000\" />\n",
       "<rect width=\".81\" height=\".81\" x=\"17\" y=\"12\" fill=\"#000000\" />\n",
       "<rect width=\".81\" height=\".81\" x=\"18\" y=\"12\" fill=\"#000000\" />\n",
       "<rect width=\".81\" height=\".81\" x=\"19\" y=\"12\" fill=\"#000000\" />\n",
       "<rect width=\".81\" height=\".81\" x=\"20\" y=\"12\" fill=\"#000000\" />\n",
       "<rect width=\".81\" height=\".81\" x=\"21\" y=\"12\" fill=\"#000000\" />\n",
       "<rect width=\".81\" height=\".81\" x=\"22\" y=\"12\" fill=\"#000000\" />\n",
       "<rect width=\".81\" height=\".81\" x=\"23\" y=\"12\" fill=\"#000000\" />\n",
       "<rect width=\".81\" height=\".81\" x=\"24\" y=\"12\" fill=\"#000000\" />\n",
       "<rect width=\".81\" height=\".81\" x=\"25\" y=\"12\" fill=\"#000000\" />\n",
       "<rect width=\".81\" height=\".81\" x=\"26\" y=\"12\" fill=\"#000000\" />\n",
       "<rect width=\".81\" height=\".81\" x=\"27\" y=\"12\" fill=\"#000000\" />\n",
       "<rect width=\".81\" height=\".81\" x=\"0\" y=\"13\" fill=\"#000000\" />\n",
       "<rect width=\".81\" height=\".81\" x=\"1\" y=\"13\" fill=\"#000000\" />\n",
       "<rect width=\".81\" height=\".81\" x=\"2\" y=\"13\" fill=\"#000000\" />\n",
       "<rect width=\".81\" height=\".81\" x=\"3\" y=\"13\" fill=\"#000000\" />\n",
       "<rect width=\".81\" height=\".81\" x=\"4\" y=\"13\" fill=\"#000000\" />\n",
       "<rect width=\".81\" height=\".81\" x=\"5\" y=\"13\" fill=\"#000000\" />\n",
       "<rect width=\".81\" height=\".81\" x=\"6\" y=\"13\" fill=\"#000000\" />\n",
       "<rect width=\".81\" height=\".81\" x=\"7\" y=\"13\" fill=\"#000000\" />\n",
       "<rect width=\".81\" height=\".81\" x=\"8\" y=\"13\" fill=\"#000000\" />\n",
       "<rect width=\".81\" height=\".81\" x=\"9\" y=\"13\" fill=\"#000000\" />\n",
       "<rect width=\".81\" height=\".81\" x=\"10\" y=\"13\" fill=\"#000000\" />\n",
       "<rect width=\".81\" height=\".81\" x=\"11\" y=\"13\" fill=\"#000000\" />\n",
       "<rect width=\".81\" height=\".81\" x=\"12\" y=\"13\" fill=\"#232323\" />\n",
       "<rect width=\".81\" height=\".81\" x=\"13\" y=\"13\" fill=\"#F1F1F1\" />\n",
       "<rect width=\".81\" height=\".81\" x=\"14\" y=\"13\" fill=\"#E1E1E1\" />\n",
       "<rect width=\".81\" height=\".81\" x=\"15\" y=\"13\" fill=\"#A0A0A0\" />\n",
       "<rect width=\".81\" height=\".81\" x=\"16\" y=\"13\" fill=\"#6C6C6C\" />\n",
       "<rect width=\".81\" height=\".81\" x=\"17\" y=\"13\" fill=\"#010101\" />\n",
       "<rect width=\".81\" height=\".81\" x=\"18\" y=\"13\" fill=\"#000000\" />\n",
       "<rect width=\".81\" height=\".81\" x=\"19\" y=\"13\" fill=\"#000000\" />\n",
       "<rect width=\".81\" height=\".81\" x=\"20\" y=\"13\" fill=\"#000000\" />\n",
       "<rect width=\".81\" height=\".81\" x=\"21\" y=\"13\" fill=\"#000000\" />\n",
       "<rect width=\".81\" height=\".81\" x=\"22\" y=\"13\" fill=\"#000000\" />\n",
       "<rect width=\".81\" height=\".81\" x=\"23\" y=\"13\" fill=\"#000000\" />\n",
       "<rect width=\".81\" height=\".81\" x=\"24\" y=\"13\" fill=\"#000000\" />\n",
       "<rect width=\".81\" height=\".81\" x=\"25\" y=\"13\" fill=\"#000000\" />\n",
       "<rect width=\".81\" height=\".81\" x=\"26\" y=\"13\" fill=\"#000000\" />\n",
       "<rect width=\".81\" height=\".81\" x=\"27\" y=\"13\" fill=\"#000000\" />\n",
       "<rect width=\".81\" height=\".81\" x=\"0\" y=\"14\" fill=\"#000000\" />\n",
       "<rect width=\".81\" height=\".81\" x=\"1\" y=\"14\" fill=\"#000000\" />\n",
       "<rect width=\".81\" height=\".81\" x=\"2\" y=\"14\" fill=\"#000000\" />\n",
       "<rect width=\".81\" height=\".81\" x=\"3\" y=\"14\" fill=\"#000000\" />\n",
       "<rect width=\".81\" height=\".81\" x=\"4\" y=\"14\" fill=\"#000000\" />\n",
       "<rect width=\".81\" height=\".81\" x=\"5\" y=\"14\" fill=\"#000000\" />\n",
       "<rect width=\".81\" height=\".81\" x=\"6\" y=\"14\" fill=\"#000000\" />\n",
       "<rect width=\".81\" height=\".81\" x=\"7\" y=\"14\" fill=\"#000000\" />\n",
       "<rect width=\".81\" height=\".81\" x=\"8\" y=\"14\" fill=\"#000000\" />\n",
       "<rect width=\".81\" height=\".81\" x=\"9\" y=\"14\" fill=\"#000000\" />\n",
       "<rect width=\".81\" height=\".81\" x=\"10\" y=\"14\" fill=\"#000000\" />\n",
       "<rect width=\".81\" height=\".81\" x=\"11\" y=\"14\" fill=\"#000000\" />\n",
       "<rect width=\".81\" height=\".81\" x=\"12\" y=\"14\" fill=\"#000000\" />\n",
       "<rect width=\".81\" height=\".81\" x=\"13\" y=\"14\" fill=\"#515151\" />\n",
       "<rect width=\".81\" height=\".81\" x=\"14\" y=\"14\" fill=\"#F0F0F0\" />\n",
       "<rect width=\".81\" height=\".81\" x=\"15\" y=\"14\" fill=\"#FDFDFD\" />\n",
       "<rect width=\".81\" height=\".81\" x=\"16\" y=\"14\" fill=\"#FDFDFD\" />\n",
       "<rect width=\".81\" height=\".81\" x=\"17\" y=\"14\" fill=\"#777777\" />\n",
       "<rect width=\".81\" height=\".81\" x=\"18\" y=\"14\" fill=\"#191919\" />\n",
       "<rect width=\".81\" height=\".81\" x=\"19\" y=\"14\" fill=\"#000000\" />\n",
       "<rect width=\".81\" height=\".81\" x=\"20\" y=\"14\" fill=\"#000000\" />\n",
       "<rect width=\".81\" height=\".81\" x=\"21\" y=\"14\" fill=\"#000000\" />\n",
       "<rect width=\".81\" height=\".81\" x=\"22\" y=\"14\" fill=\"#000000\" />\n",
       "<rect width=\".81\" height=\".81\" x=\"23\" y=\"14\" fill=\"#000000\" />\n",
       "<rect width=\".81\" height=\".81\" x=\"24\" y=\"14\" fill=\"#000000\" />\n",
       "<rect width=\".81\" height=\".81\" x=\"25\" y=\"14\" fill=\"#000000\" />\n",
       "<rect width=\".81\" height=\".81\" x=\"26\" y=\"14\" fill=\"#000000\" />\n",
       "<rect width=\".81\" height=\".81\" x=\"27\" y=\"14\" fill=\"#000000\" />\n",
       "<rect width=\".81\" height=\".81\" x=\"0\" y=\"15\" fill=\"#000000\" />\n",
       "<rect width=\".81\" height=\".81\" x=\"1\" y=\"15\" fill=\"#000000\" />\n",
       "<rect width=\".81\" height=\".81\" x=\"2\" y=\"15\" fill=\"#000000\" />\n",
       "<rect width=\".81\" height=\".81\" x=\"3\" y=\"15\" fill=\"#000000\" />\n",
       "<rect width=\".81\" height=\".81\" x=\"4\" y=\"15\" fill=\"#000000\" />\n",
       "<rect width=\".81\" height=\".81\" x=\"5\" y=\"15\" fill=\"#000000\" />\n",
       "<rect width=\".81\" height=\".81\" x=\"6\" y=\"15\" fill=\"#000000\" />\n",
       "<rect width=\".81\" height=\".81\" x=\"7\" y=\"15\" fill=\"#000000\" />\n",
       "<rect width=\".81\" height=\".81\" x=\"8\" y=\"15\" fill=\"#000000\" />\n",
       "<rect width=\".81\" height=\".81\" x=\"9\" y=\"15\" fill=\"#000000\" />\n",
       "<rect width=\".81\" height=\".81\" x=\"10\" y=\"15\" fill=\"#000000\" />\n",
       "<rect width=\".81\" height=\".81\" x=\"11\" y=\"15\" fill=\"#000000\" />\n",
       "<rect width=\".81\" height=\".81\" x=\"12\" y=\"15\" fill=\"#000000\" />\n",
       "<rect width=\".81\" height=\".81\" x=\"13\" y=\"15\" fill=\"#000000\" />\n",
       "<rect width=\".81\" height=\".81\" x=\"14\" y=\"15\" fill=\"#2D2D2D\" />\n",
       "<rect width=\".81\" height=\".81\" x=\"15\" y=\"15\" fill=\"#BABABA\" />\n",
       "<rect width=\".81\" height=\".81\" x=\"16\" y=\"15\" fill=\"#FDFDFD\" />\n",
       "<rect width=\".81\" height=\".81\" x=\"17\" y=\"15\" fill=\"#FDFDFD\" />\n",
       "<rect width=\".81\" height=\".81\" x=\"18\" y=\"15\" fill=\"#969696\" />\n",
       "<rect width=\".81\" height=\".81\" x=\"19\" y=\"15\" fill=\"#1B1B1B\" />\n",
       "<rect width=\".81\" height=\".81\" x=\"20\" y=\"15\" fill=\"#000000\" />\n",
       "<rect width=\".81\" height=\".81\" x=\"21\" y=\"15\" fill=\"#000000\" />\n",
       "<rect width=\".81\" height=\".81\" x=\"22\" y=\"15\" fill=\"#000000\" />\n",
       "<rect width=\".81\" height=\".81\" x=\"23\" y=\"15\" fill=\"#000000\" />\n",
       "<rect width=\".81\" height=\".81\" x=\"24\" y=\"15\" fill=\"#000000\" />\n",
       "<rect width=\".81\" height=\".81\" x=\"25\" y=\"15\" fill=\"#000000\" />\n",
       "<rect width=\".81\" height=\".81\" x=\"26\" y=\"15\" fill=\"#000000\" />\n",
       "<rect width=\".81\" height=\".81\" x=\"27\" y=\"15\" fill=\"#000000\" />\n",
       "<rect width=\".81\" height=\".81\" x=\"0\" y=\"16\" fill=\"#000000\" />\n",
       "<rect width=\".81\" height=\".81\" x=\"1\" y=\"16\" fill=\"#000000\" />\n",
       "<rect width=\".81\" height=\".81\" x=\"2\" y=\"16\" fill=\"#000000\" />\n",
       "<rect width=\".81\" height=\".81\" x=\"3\" y=\"16\" fill=\"#000000\" />\n",
       "<rect width=\".81\" height=\".81\" x=\"4\" y=\"16\" fill=\"#000000\" />\n",
       "<rect width=\".81\" height=\".81\" x=\"5\" y=\"16\" fill=\"#000000\" />\n",
       "<rect width=\".81\" height=\".81\" x=\"6\" y=\"16\" fill=\"#000000\" />\n",
       "<rect width=\".81\" height=\".81\" x=\"7\" y=\"16\" fill=\"#000000\" />\n",
       "<rect width=\".81\" height=\".81\" x=\"8\" y=\"16\" fill=\"#000000\" />\n",
       "<rect width=\".81\" height=\".81\" x=\"9\" y=\"16\" fill=\"#000000\" />\n",
       "<rect width=\".81\" height=\".81\" x=\"10\" y=\"16\" fill=\"#000000\" />\n",
       "<rect width=\".81\" height=\".81\" x=\"11\" y=\"16\" fill=\"#000000\" />\n",
       "<rect width=\".81\" height=\".81\" x=\"12\" y=\"16\" fill=\"#000000\" />\n",
       "<rect width=\".81\" height=\".81\" x=\"13\" y=\"16\" fill=\"#000000\" />\n",
       "<rect width=\".81\" height=\".81\" x=\"14\" y=\"16\" fill=\"#000000\" />\n",
       "<rect width=\".81\" height=\".81\" x=\"15\" y=\"16\" fill=\"#101010\" />\n",
       "<rect width=\".81\" height=\".81\" x=\"16\" y=\"16\" fill=\"#5D5D5D\" />\n",
       "<rect width=\".81\" height=\".81\" x=\"17\" y=\"16\" fill=\"#FCFCFC\" />\n",
       "<rect width=\".81\" height=\".81\" x=\"18\" y=\"16\" fill=\"#FDFDFD\" />\n",
       "<rect width=\".81\" height=\".81\" x=\"19\" y=\"16\" fill=\"#BBBBBB\" />\n",
       "<rect width=\".81\" height=\".81\" x=\"20\" y=\"16\" fill=\"#000000\" />\n",
       "<rect width=\".81\" height=\".81\" x=\"21\" y=\"16\" fill=\"#000000\" />\n",
       "<rect width=\".81\" height=\".81\" x=\"22\" y=\"16\" fill=\"#000000\" />\n",
       "<rect width=\".81\" height=\".81\" x=\"23\" y=\"16\" fill=\"#000000\" />\n",
       "<rect width=\".81\" height=\".81\" x=\"24\" y=\"16\" fill=\"#000000\" />\n",
       "<rect width=\".81\" height=\".81\" x=\"25\" y=\"16\" fill=\"#000000\" />\n",
       "<rect width=\".81\" height=\".81\" x=\"26\" y=\"16\" fill=\"#000000\" />\n",
       "<rect width=\".81\" height=\".81\" x=\"27\" y=\"16\" fill=\"#000000\" />\n",
       "<rect width=\".81\" height=\".81\" x=\"0\" y=\"17\" fill=\"#000000\" />\n",
       "<rect width=\".81\" height=\".81\" x=\"1\" y=\"17\" fill=\"#000000\" />\n",
       "<rect width=\".81\" height=\".81\" x=\"2\" y=\"17\" fill=\"#000000\" />\n",
       "<rect width=\".81\" height=\".81\" x=\"3\" y=\"17\" fill=\"#000000\" />\n",
       "<rect width=\".81\" height=\".81\" x=\"4\" y=\"17\" fill=\"#000000\" />\n",
       "<rect width=\".81\" height=\".81\" x=\"5\" y=\"17\" fill=\"#000000\" />\n",
       "<rect width=\".81\" height=\".81\" x=\"6\" y=\"17\" fill=\"#000000\" />\n",
       "<rect width=\".81\" height=\".81\" x=\"7\" y=\"17\" fill=\"#000000\" />\n",
       "<rect width=\".81\" height=\".81\" x=\"8\" y=\"17\" fill=\"#000000\" />\n",
       "<rect width=\".81\" height=\".81\" x=\"9\" y=\"17\" fill=\"#000000\" />\n",
       "<rect width=\".81\" height=\".81\" x=\"10\" y=\"17\" fill=\"#000000\" />\n",
       "<rect width=\".81\" height=\".81\" x=\"11\" y=\"17\" fill=\"#000000\" />\n",
       "<rect width=\".81\" height=\".81\" x=\"12\" y=\"17\" fill=\"#000000\" />\n",
       "<rect width=\".81\" height=\".81\" x=\"13\" y=\"17\" fill=\"#000000\" />\n",
       "<rect width=\".81\" height=\".81\" x=\"14\" y=\"17\" fill=\"#000000\" />\n",
       "<rect width=\".81\" height=\".81\" x=\"15\" y=\"17\" fill=\"#000000\" />\n",
       "<rect width=\".81\" height=\".81\" x=\"16\" y=\"17\" fill=\"#000000\" />\n",
       "<rect width=\".81\" height=\".81\" x=\"17\" y=\"17\" fill=\"#F9F9F9\" />\n",
       "<rect width=\".81\" height=\".81\" x=\"18\" y=\"17\" fill=\"#FDFDFD\" />\n",
       "<rect width=\".81\" height=\".81\" x=\"19\" y=\"17\" fill=\"#F9F9F9\" />\n",
       "<rect width=\".81\" height=\".81\" x=\"20\" y=\"17\" fill=\"#404040\" />\n",
       "<rect width=\".81\" height=\".81\" x=\"21\" y=\"17\" fill=\"#000000\" />\n",
       "<rect width=\".81\" height=\".81\" x=\"22\" y=\"17\" fill=\"#000000\" />\n",
       "<rect width=\".81\" height=\".81\" x=\"23\" y=\"17\" fill=\"#000000\" />\n",
       "<rect width=\".81\" height=\".81\" x=\"24\" y=\"17\" fill=\"#000000\" />\n",
       "<rect width=\".81\" height=\".81\" x=\"25\" y=\"17\" fill=\"#000000\" />\n",
       "<rect width=\".81\" height=\".81\" x=\"26\" y=\"17\" fill=\"#000000\" />\n",
       "<rect width=\".81\" height=\".81\" x=\"27\" y=\"17\" fill=\"#000000\" />\n",
       "<rect width=\".81\" height=\".81\" x=\"0\" y=\"18\" fill=\"#000000\" />\n",
       "<rect width=\".81\" height=\".81\" x=\"1\" y=\"18\" fill=\"#000000\" />\n",
       "<rect width=\".81\" height=\".81\" x=\"2\" y=\"18\" fill=\"#000000\" />\n",
       "<rect width=\".81\" height=\".81\" x=\"3\" y=\"18\" fill=\"#000000\" />\n",
       "<rect width=\".81\" height=\".81\" x=\"4\" y=\"18\" fill=\"#000000\" />\n",
       "<rect width=\".81\" height=\".81\" x=\"5\" y=\"18\" fill=\"#000000\" />\n",
       "<rect width=\".81\" height=\".81\" x=\"6\" y=\"18\" fill=\"#000000\" />\n",
       "<rect width=\".81\" height=\".81\" x=\"7\" y=\"18\" fill=\"#000000\" />\n",
       "<rect width=\".81\" height=\".81\" x=\"8\" y=\"18\" fill=\"#000000\" />\n",
       "<rect width=\".81\" height=\".81\" x=\"9\" y=\"18\" fill=\"#000000\" />\n",
       "<rect width=\".81\" height=\".81\" x=\"10\" y=\"18\" fill=\"#000000\" />\n",
       "<rect width=\".81\" height=\".81\" x=\"11\" y=\"18\" fill=\"#000000\" />\n",
       "<rect width=\".81\" height=\".81\" x=\"12\" y=\"18\" fill=\"#000000\" />\n",
       "<rect width=\".81\" height=\".81\" x=\"13\" y=\"18\" fill=\"#000000\" />\n",
       "<rect width=\".81\" height=\".81\" x=\"14\" y=\"18\" fill=\"#2E2E2E\" />\n",
       "<rect width=\".81\" height=\".81\" x=\"15\" y=\"18\" fill=\"#828282\" />\n",
       "<rect width=\".81\" height=\".81\" x=\"16\" y=\"18\" fill=\"#B7B7B7\" />\n",
       "<rect width=\".81\" height=\".81\" x=\"17\" y=\"18\" fill=\"#FDFDFD\" />\n",
       "<rect width=\".81\" height=\".81\" x=\"18\" y=\"18\" fill=\"#FDFDFD\" />\n",
       "<rect width=\".81\" height=\".81\" x=\"19\" y=\"18\" fill=\"#CFCFCF\" />\n",
       "<rect width=\".81\" height=\".81\" x=\"20\" y=\"18\" fill=\"#020202\" />\n",
       "<rect width=\".81\" height=\".81\" x=\"21\" y=\"18\" fill=\"#000000\" />\n",
       "<rect width=\".81\" height=\".81\" x=\"22\" y=\"18\" fill=\"#000000\" />\n",
       "<rect width=\".81\" height=\".81\" x=\"23\" y=\"18\" fill=\"#000000\" />\n",
       "<rect width=\".81\" height=\".81\" x=\"24\" y=\"18\" fill=\"#000000\" />\n",
       "<rect width=\".81\" height=\".81\" x=\"25\" y=\"18\" fill=\"#000000\" />\n",
       "<rect width=\".81\" height=\".81\" x=\"26\" y=\"18\" fill=\"#000000\" />\n",
       "<rect width=\".81\" height=\".81\" x=\"27\" y=\"18\" fill=\"#000000\" />\n",
       "<rect width=\".81\" height=\".81\" x=\"0\" y=\"19\" fill=\"#000000\" />\n",
       "<rect width=\".81\" height=\".81\" x=\"1\" y=\"19\" fill=\"#000000\" />\n",
       "<rect width=\".81\" height=\".81\" x=\"2\" y=\"19\" fill=\"#000000\" />\n",
       "<rect width=\".81\" height=\".81\" x=\"3\" y=\"19\" fill=\"#000000\" />\n",
       "<rect width=\".81\" height=\".81\" x=\"4\" y=\"19\" fill=\"#000000\" />\n",
       "<rect width=\".81\" height=\".81\" x=\"5\" y=\"19\" fill=\"#000000\" />\n",
       "<rect width=\".81\" height=\".81\" x=\"6\" y=\"19\" fill=\"#000000\" />\n",
       "<rect width=\".81\" height=\".81\" x=\"7\" y=\"19\" fill=\"#000000\" />\n",
       "<rect width=\".81\" height=\".81\" x=\"8\" y=\"19\" fill=\"#000000\" />\n",
       "<rect width=\".81\" height=\".81\" x=\"9\" y=\"19\" fill=\"#000000\" />\n",
       "<rect width=\".81\" height=\".81\" x=\"10\" y=\"19\" fill=\"#000000\" />\n",
       "<rect width=\".81\" height=\".81\" x=\"11\" y=\"19\" fill=\"#000000\" />\n",
       "<rect width=\".81\" height=\".81\" x=\"12\" y=\"19\" fill=\"#272727\" />\n",
       "<rect width=\".81\" height=\".81\" x=\"13\" y=\"19\" fill=\"#949494\" />\n",
       "<rect width=\".81\" height=\".81\" x=\"14\" y=\"19\" fill=\"#E5E5E5\" />\n",
       "<rect width=\".81\" height=\".81\" x=\"15\" y=\"19\" fill=\"#FDFDFD\" />\n",
       "<rect width=\".81\" height=\".81\" x=\"16\" y=\"19\" fill=\"#FDFDFD\" />\n",
       "<rect width=\".81\" height=\".81\" x=\"17\" y=\"19\" fill=\"#FDFDFD\" />\n",
       "<rect width=\".81\" height=\".81\" x=\"18\" y=\"19\" fill=\"#FAFAFA\" />\n",
       "<rect width=\".81\" height=\".81\" x=\"19\" y=\"19\" fill=\"#B6B6B6\" />\n",
       "<rect width=\".81\" height=\".81\" x=\"20\" y=\"19\" fill=\"#000000\" />\n",
       "<rect width=\".81\" height=\".81\" x=\"21\" y=\"19\" fill=\"#000000\" />\n",
       "<rect width=\".81\" height=\".81\" x=\"22\" y=\"19\" fill=\"#000000\" />\n",
       "<rect width=\".81\" height=\".81\" x=\"23\" y=\"19\" fill=\"#000000\" />\n",
       "<rect width=\".81\" height=\".81\" x=\"24\" y=\"19\" fill=\"#000000\" />\n",
       "<rect width=\".81\" height=\".81\" x=\"25\" y=\"19\" fill=\"#000000\" />\n",
       "<rect width=\".81\" height=\".81\" x=\"26\" y=\"19\" fill=\"#000000\" />\n",
       "<rect width=\".81\" height=\".81\" x=\"27\" y=\"19\" fill=\"#000000\" />\n",
       "<rect width=\".81\" height=\".81\" x=\"0\" y=\"20\" fill=\"#000000\" />\n",
       "<rect width=\".81\" height=\".81\" x=\"1\" y=\"20\" fill=\"#000000\" />\n",
       "<rect width=\".81\" height=\".81\" x=\"2\" y=\"20\" fill=\"#000000\" />\n",
       "<rect width=\".81\" height=\".81\" x=\"3\" y=\"20\" fill=\"#000000\" />\n",
       "<rect width=\".81\" height=\".81\" x=\"4\" y=\"20\" fill=\"#000000\" />\n",
       "<rect width=\".81\" height=\".81\" x=\"5\" y=\"20\" fill=\"#000000\" />\n",
       "<rect width=\".81\" height=\".81\" x=\"6\" y=\"20\" fill=\"#000000\" />\n",
       "<rect width=\".81\" height=\".81\" x=\"7\" y=\"20\" fill=\"#000000\" />\n",
       "<rect width=\".81\" height=\".81\" x=\"8\" y=\"20\" fill=\"#000000\" />\n",
       "<rect width=\".81\" height=\".81\" x=\"9\" y=\"20\" fill=\"#000000\" />\n",
       "<rect width=\".81\" height=\".81\" x=\"10\" y=\"20\" fill=\"#181818\" />\n",
       "<rect width=\".81\" height=\".81\" x=\"11\" y=\"20\" fill=\"#727272\" />\n",
       "<rect width=\".81\" height=\".81\" x=\"12\" y=\"20\" fill=\"#DDDDDD\" />\n",
       "<rect width=\".81\" height=\".81\" x=\"13\" y=\"20\" fill=\"#FDFDFD\" />\n",
       "<rect width=\".81\" height=\".81\" x=\"14\" y=\"20\" fill=\"#FDFDFD\" />\n",
       "<rect width=\".81\" height=\".81\" x=\"15\" y=\"20\" fill=\"#FDFDFD\" />\n",
       "<rect width=\".81\" height=\".81\" x=\"16\" y=\"20\" fill=\"#FDFDFD\" />\n",
       "<rect width=\".81\" height=\".81\" x=\"17\" y=\"20\" fill=\"#C9C9C9\" />\n",
       "<rect width=\".81\" height=\".81\" x=\"18\" y=\"20\" fill=\"#4E4E4E\" />\n",
       "<rect width=\".81\" height=\".81\" x=\"19\" y=\"20\" fill=\"#000000\" />\n",
       "<rect width=\".81\" height=\".81\" x=\"20\" y=\"20\" fill=\"#000000\" />\n",
       "<rect width=\".81\" height=\".81\" x=\"21\" y=\"20\" fill=\"#000000\" />\n",
       "<rect width=\".81\" height=\".81\" x=\"22\" y=\"20\" fill=\"#000000\" />\n",
       "<rect width=\".81\" height=\".81\" x=\"23\" y=\"20\" fill=\"#000000\" />\n",
       "<rect width=\".81\" height=\".81\" x=\"24\" y=\"20\" fill=\"#000000\" />\n",
       "<rect width=\".81\" height=\".81\" x=\"25\" y=\"20\" fill=\"#000000\" />\n",
       "<rect width=\".81\" height=\".81\" x=\"26\" y=\"20\" fill=\"#000000\" />\n",
       "<rect width=\".81\" height=\".81\" x=\"27\" y=\"20\" fill=\"#000000\" />\n",
       "<rect width=\".81\" height=\".81\" x=\"0\" y=\"21\" fill=\"#000000\" />\n",
       "<rect width=\".81\" height=\".81\" x=\"1\" y=\"21\" fill=\"#000000\" />\n",
       "<rect width=\".81\" height=\".81\" x=\"2\" y=\"21\" fill=\"#000000\" />\n",
       "<rect width=\".81\" height=\".81\" x=\"3\" y=\"21\" fill=\"#000000\" />\n",
       "<rect width=\".81\" height=\".81\" x=\"4\" y=\"21\" fill=\"#000000\" />\n",
       "<rect width=\".81\" height=\".81\" x=\"5\" y=\"21\" fill=\"#000000\" />\n",
       "<rect width=\".81\" height=\".81\" x=\"6\" y=\"21\" fill=\"#000000\" />\n",
       "<rect width=\".81\" height=\".81\" x=\"7\" y=\"21\" fill=\"#000000\" />\n",
       "<rect width=\".81\" height=\".81\" x=\"8\" y=\"21\" fill=\"#171717\" />\n",
       "<rect width=\".81\" height=\".81\" x=\"9\" y=\"21\" fill=\"#424242\" />\n",
       "<rect width=\".81\" height=\".81\" x=\"10\" y=\"21\" fill=\"#D5D5D5\" />\n",
       "<rect width=\".81\" height=\".81\" x=\"11\" y=\"21\" fill=\"#FDFDFD\" />\n",
       "<rect width=\".81\" height=\".81\" x=\"12\" y=\"21\" fill=\"#FDFDFD\" />\n",
       "<rect width=\".81\" height=\".81\" x=\"13\" y=\"21\" fill=\"#FDFDFD\" />\n",
       "<rect width=\".81\" height=\".81\" x=\"14\" y=\"21\" fill=\"#FDFDFD\" />\n",
       "<rect width=\".81\" height=\".81\" x=\"15\" y=\"21\" fill=\"#C6C6C6\" />\n",
       "<rect width=\".81\" height=\".81\" x=\"16\" y=\"21\" fill=\"#515151\" />\n",
       "<rect width=\".81\" height=\".81\" x=\"17\" y=\"21\" fill=\"#020202\" />\n",
       "<rect width=\".81\" height=\".81\" x=\"18\" y=\"21\" fill=\"#000000\" />\n",
       "<rect width=\".81\" height=\".81\" x=\"19\" y=\"21\" fill=\"#000000\" />\n",
       "<rect width=\".81\" height=\".81\" x=\"20\" y=\"21\" fill=\"#000000\" />\n",
       "<rect width=\".81\" height=\".81\" x=\"21\" y=\"21\" fill=\"#000000\" />\n",
       "<rect width=\".81\" height=\".81\" x=\"22\" y=\"21\" fill=\"#000000\" />\n",
       "<rect width=\".81\" height=\".81\" x=\"23\" y=\"21\" fill=\"#000000\" />\n",
       "<rect width=\".81\" height=\".81\" x=\"24\" y=\"21\" fill=\"#000000\" />\n",
       "<rect width=\".81\" height=\".81\" x=\"25\" y=\"21\" fill=\"#000000\" />\n",
       "<rect width=\".81\" height=\".81\" x=\"26\" y=\"21\" fill=\"#000000\" />\n",
       "<rect width=\".81\" height=\".81\" x=\"27\" y=\"21\" fill=\"#000000\" />\n",
       "<rect width=\".81\" height=\".81\" x=\"0\" y=\"22\" fill=\"#000000\" />\n",
       "<rect width=\".81\" height=\".81\" x=\"1\" y=\"22\" fill=\"#000000\" />\n",
       "<rect width=\".81\" height=\".81\" x=\"2\" y=\"22\" fill=\"#000000\" />\n",
       "<rect width=\".81\" height=\".81\" x=\"3\" y=\"22\" fill=\"#000000\" />\n",
       "<rect width=\".81\" height=\".81\" x=\"4\" y=\"22\" fill=\"#000000\" />\n",
       "<rect width=\".81\" height=\".81\" x=\"5\" y=\"22\" fill=\"#000000\" />\n",
       "<rect width=\".81\" height=\".81\" x=\"6\" y=\"22\" fill=\"#121212\" />\n",
       "<rect width=\".81\" height=\".81\" x=\"7\" y=\"22\" fill=\"#ABABAB\" />\n",
       "<rect width=\".81\" height=\".81\" x=\"8\" y=\"22\" fill=\"#DBDBDB\" />\n",
       "<rect width=\".81\" height=\".81\" x=\"9\" y=\"22\" fill=\"#FDFDFD\" />\n",
       "<rect width=\".81\" height=\".81\" x=\"10\" y=\"22\" fill=\"#FDFDFD\" />\n",
       "<rect width=\".81\" height=\".81\" x=\"11\" y=\"22\" fill=\"#FDFDFD\" />\n",
       "<rect width=\".81\" height=\".81\" x=\"12\" y=\"22\" fill=\"#FDFDFD\" />\n",
       "<rect width=\".81\" height=\".81\" x=\"13\" y=\"22\" fill=\"#C3C3C3\" />\n",
       "<rect width=\".81\" height=\".81\" x=\"14\" y=\"22\" fill=\"#505050\" />\n",
       "<rect width=\".81\" height=\".81\" x=\"15\" y=\"22\" fill=\"#090909\" />\n",
       "<rect width=\".81\" height=\".81\" x=\"16\" y=\"22\" fill=\"#000000\" />\n",
       "<rect width=\".81\" height=\".81\" x=\"17\" y=\"22\" fill=\"#000000\" />\n",
       "<rect width=\".81\" height=\".81\" x=\"18\" y=\"22\" fill=\"#000000\" />\n",
       "<rect width=\".81\" height=\".81\" x=\"19\" y=\"22\" fill=\"#000000\" />\n",
       "<rect width=\".81\" height=\".81\" x=\"20\" y=\"22\" fill=\"#000000\" />\n",
       "<rect width=\".81\" height=\".81\" x=\"21\" y=\"22\" fill=\"#000000\" />\n",
       "<rect width=\".81\" height=\".81\" x=\"22\" y=\"22\" fill=\"#000000\" />\n",
       "<rect width=\".81\" height=\".81\" x=\"23\" y=\"22\" fill=\"#000000\" />\n",
       "<rect width=\".81\" height=\".81\" x=\"24\" y=\"22\" fill=\"#000000\" />\n",
       "<rect width=\".81\" height=\".81\" x=\"25\" y=\"22\" fill=\"#000000\" />\n",
       "<rect width=\".81\" height=\".81\" x=\"26\" y=\"22\" fill=\"#000000\" />\n",
       "<rect width=\".81\" height=\".81\" x=\"27\" y=\"22\" fill=\"#000000\" />\n",
       "<rect width=\".81\" height=\".81\" x=\"0\" y=\"23\" fill=\"#000000\" />\n",
       "<rect width=\".81\" height=\".81\" x=\"1\" y=\"23\" fill=\"#000000\" />\n",
       "<rect width=\".81\" height=\".81\" x=\"2\" y=\"23\" fill=\"#000000\" />\n",
       "<rect width=\".81\" height=\".81\" x=\"3\" y=\"23\" fill=\"#000000\" />\n",
       "<rect width=\".81\" height=\".81\" x=\"4\" y=\"23\" fill=\"#373737\" />\n",
       "<rect width=\".81\" height=\".81\" x=\"5\" y=\"23\" fill=\"#ACACAC\" />\n",
       "<rect width=\".81\" height=\".81\" x=\"6\" y=\"23\" fill=\"#E2E2E2\" />\n",
       "<rect width=\".81\" height=\".81\" x=\"7\" y=\"23\" fill=\"#FDFDFD\" />\n",
       "<rect width=\".81\" height=\".81\" x=\"8\" y=\"23\" fill=\"#FDFDFD\" />\n",
       "<rect width=\".81\" height=\".81\" x=\"9\" y=\"23\" fill=\"#FDFDFD\" />\n",
       "<rect width=\".81\" height=\".81\" x=\"10\" y=\"23\" fill=\"#FDFDFD\" />\n",
       "<rect width=\".81\" height=\".81\" x=\"11\" y=\"23\" fill=\"#F4F4F4\" />\n",
       "<rect width=\".81\" height=\".81\" x=\"12\" y=\"23\" fill=\"#858585\" />\n",
       "<rect width=\".81\" height=\".81\" x=\"13\" y=\"23\" fill=\"#0B0B0B\" />\n",
       "<rect width=\".81\" height=\".81\" x=\"14\" y=\"23\" fill=\"#000000\" />\n",
       "<rect width=\".81\" height=\".81\" x=\"15\" y=\"23\" fill=\"#000000\" />\n",
       "<rect width=\".81\" height=\".81\" x=\"16\" y=\"23\" fill=\"#000000\" />\n",
       "<rect width=\".81\" height=\".81\" x=\"17\" y=\"23\" fill=\"#000000\" />\n",
       "<rect width=\".81\" height=\".81\" x=\"18\" y=\"23\" fill=\"#000000\" />\n",
       "<rect width=\".81\" height=\".81\" x=\"19\" y=\"23\" fill=\"#000000\" />\n",
       "<rect width=\".81\" height=\".81\" x=\"20\" y=\"23\" fill=\"#000000\" />\n",
       "<rect width=\".81\" height=\".81\" x=\"21\" y=\"23\" fill=\"#000000\" />\n",
       "<rect width=\".81\" height=\".81\" x=\"22\" y=\"23\" fill=\"#000000\" />\n",
       "<rect width=\".81\" height=\".81\" x=\"23\" y=\"23\" fill=\"#000000\" />\n",
       "<rect width=\".81\" height=\".81\" x=\"24\" y=\"23\" fill=\"#000000\" />\n",
       "<rect width=\".81\" height=\".81\" x=\"25\" y=\"23\" fill=\"#000000\" />\n",
       "<rect width=\".81\" height=\".81\" x=\"26\" y=\"23\" fill=\"#000000\" />\n",
       "<rect width=\".81\" height=\".81\" x=\"27\" y=\"23\" fill=\"#000000\" />\n",
       "<rect width=\".81\" height=\".81\" x=\"0\" y=\"24\" fill=\"#000000\" />\n",
       "<rect width=\".81\" height=\".81\" x=\"1\" y=\"24\" fill=\"#000000\" />\n",
       "<rect width=\".81\" height=\".81\" x=\"2\" y=\"24\" fill=\"#000000\" />\n",
       "<rect width=\".81\" height=\".81\" x=\"3\" y=\"24\" fill=\"#000000\" />\n",
       "<rect width=\".81\" height=\".81\" x=\"4\" y=\"24\" fill=\"#888888\" />\n",
       "<rect width=\".81\" height=\".81\" x=\"5\" y=\"24\" fill=\"#FDFDFD\" />\n",
       "<rect width=\".81\" height=\".81\" x=\"6\" y=\"24\" fill=\"#FDFDFD\" />\n",
       "<rect width=\".81\" height=\".81\" x=\"7\" y=\"24\" fill=\"#FDFDFD\" />\n",
       "<rect width=\".81\" height=\".81\" x=\"8\" y=\"24\" fill=\"#D4D4D4\" />\n",
       "<rect width=\".81\" height=\".81\" x=\"9\" y=\"24\" fill=\"#878787\" />\n",
       "<rect width=\".81\" height=\".81\" x=\"10\" y=\"24\" fill=\"#848484\" />\n",
       "<rect width=\".81\" height=\".81\" x=\"11\" y=\"24\" fill=\"#101010\" />\n",
       "<rect width=\".81\" height=\".81\" x=\"12\" y=\"24\" fill=\"#000000\" />\n",
       "<rect width=\".81\" height=\".81\" x=\"13\" y=\"24\" fill=\"#000000\" />\n",
       "<rect width=\".81\" height=\".81\" x=\"14\" y=\"24\" fill=\"#000000\" />\n",
       "<rect width=\".81\" height=\".81\" x=\"15\" y=\"24\" fill=\"#000000\" />\n",
       "<rect width=\".81\" height=\".81\" x=\"16\" y=\"24\" fill=\"#000000\" />\n",
       "<rect width=\".81\" height=\".81\" x=\"17\" y=\"24\" fill=\"#000000\" />\n",
       "<rect width=\".81\" height=\".81\" x=\"18\" y=\"24\" fill=\"#000000\" />\n",
       "<rect width=\".81\" height=\".81\" x=\"19\" y=\"24\" fill=\"#000000\" />\n",
       "<rect width=\".81\" height=\".81\" x=\"20\" y=\"24\" fill=\"#000000\" />\n",
       "<rect width=\".81\" height=\".81\" x=\"21\" y=\"24\" fill=\"#000000\" />\n",
       "<rect width=\".81\" height=\".81\" x=\"22\" y=\"24\" fill=\"#000000\" />\n",
       "<rect width=\".81\" height=\".81\" x=\"23\" y=\"24\" fill=\"#000000\" />\n",
       "<rect width=\".81\" height=\".81\" x=\"24\" y=\"24\" fill=\"#000000\" />\n",
       "<rect width=\".81\" height=\".81\" x=\"25\" y=\"24\" fill=\"#000000\" />\n",
       "<rect width=\".81\" height=\".81\" x=\"26\" y=\"24\" fill=\"#000000\" />\n",
       "<rect width=\".81\" height=\".81\" x=\"27\" y=\"24\" fill=\"#000000\" />\n",
       "<rect width=\".81\" height=\".81\" x=\"0\" y=\"25\" fill=\"#000000\" />\n",
       "<rect width=\".81\" height=\".81\" x=\"1\" y=\"25\" fill=\"#000000\" />\n",
       "<rect width=\".81\" height=\".81\" x=\"2\" y=\"25\" fill=\"#000000\" />\n",
       "<rect width=\".81\" height=\".81\" x=\"3\" y=\"25\" fill=\"#000000\" />\n",
       "<rect width=\".81\" height=\".81\" x=\"4\" y=\"25\" fill=\"#000000\" />\n",
       "<rect width=\".81\" height=\".81\" x=\"5\" y=\"25\" fill=\"#000000\" />\n",
       "<rect width=\".81\" height=\".81\" x=\"6\" y=\"25\" fill=\"#000000\" />\n",
       "<rect width=\".81\" height=\".81\" x=\"7\" y=\"25\" fill=\"#000000\" />\n",
       "<rect width=\".81\" height=\".81\" x=\"8\" y=\"25\" fill=\"#000000\" />\n",
       "<rect width=\".81\" height=\".81\" x=\"9\" y=\"25\" fill=\"#000000\" />\n",
       "<rect width=\".81\" height=\".81\" x=\"10\" y=\"25\" fill=\"#000000\" />\n",
       "<rect width=\".81\" height=\".81\" x=\"11\" y=\"25\" fill=\"#000000\" />\n",
       "<rect width=\".81\" height=\".81\" x=\"12\" y=\"25\" fill=\"#000000\" />\n",
       "<rect width=\".81\" height=\".81\" x=\"13\" y=\"25\" fill=\"#000000\" />\n",
       "<rect width=\".81\" height=\".81\" x=\"14\" y=\"25\" fill=\"#000000\" />\n",
       "<rect width=\".81\" height=\".81\" x=\"15\" y=\"25\" fill=\"#000000\" />\n",
       "<rect width=\".81\" height=\".81\" x=\"16\" y=\"25\" fill=\"#000000\" />\n",
       "<rect width=\".81\" height=\".81\" x=\"17\" y=\"25\" fill=\"#000000\" />\n",
       "<rect width=\".81\" height=\".81\" x=\"18\" y=\"25\" fill=\"#000000\" />\n",
       "<rect width=\".81\" height=\".81\" x=\"19\" y=\"25\" fill=\"#000000\" />\n",
       "<rect width=\".81\" height=\".81\" x=\"20\" y=\"25\" fill=\"#000000\" />\n",
       "<rect width=\".81\" height=\".81\" x=\"21\" y=\"25\" fill=\"#000000\" />\n",
       "<rect width=\".81\" height=\".81\" x=\"22\" y=\"25\" fill=\"#000000\" />\n",
       "<rect width=\".81\" height=\".81\" x=\"23\" y=\"25\" fill=\"#000000\" />\n",
       "<rect width=\".81\" height=\".81\" x=\"24\" y=\"25\" fill=\"#000000\" />\n",
       "<rect width=\".81\" height=\".81\" x=\"25\" y=\"25\" fill=\"#000000\" />\n",
       "<rect width=\".81\" height=\".81\" x=\"26\" y=\"25\" fill=\"#000000\" />\n",
       "<rect width=\".81\" height=\".81\" x=\"27\" y=\"25\" fill=\"#000000\" />\n",
       "<rect width=\".81\" height=\".81\" x=\"0\" y=\"26\" fill=\"#000000\" />\n",
       "<rect width=\".81\" height=\".81\" x=\"1\" y=\"26\" fill=\"#000000\" />\n",
       "<rect width=\".81\" height=\".81\" x=\"2\" y=\"26\" fill=\"#000000\" />\n",
       "<rect width=\".81\" height=\".81\" x=\"3\" y=\"26\" fill=\"#000000\" />\n",
       "<rect width=\".81\" height=\".81\" x=\"4\" y=\"26\" fill=\"#000000\" />\n",
       "<rect width=\".81\" height=\".81\" x=\"5\" y=\"26\" fill=\"#000000\" />\n",
       "<rect width=\".81\" height=\".81\" x=\"6\" y=\"26\" fill=\"#000000\" />\n",
       "<rect width=\".81\" height=\".81\" x=\"7\" y=\"26\" fill=\"#000000\" />\n",
       "<rect width=\".81\" height=\".81\" x=\"8\" y=\"26\" fill=\"#000000\" />\n",
       "<rect width=\".81\" height=\".81\" x=\"9\" y=\"26\" fill=\"#000000\" />\n",
       "<rect width=\".81\" height=\".81\" x=\"10\" y=\"26\" fill=\"#000000\" />\n",
       "<rect width=\".81\" height=\".81\" x=\"11\" y=\"26\" fill=\"#000000\" />\n",
       "<rect width=\".81\" height=\".81\" x=\"12\" y=\"26\" fill=\"#000000\" />\n",
       "<rect width=\".81\" height=\".81\" x=\"13\" y=\"26\" fill=\"#000000\" />\n",
       "<rect width=\".81\" height=\".81\" x=\"14\" y=\"26\" fill=\"#000000\" />\n",
       "<rect width=\".81\" height=\".81\" x=\"15\" y=\"26\" fill=\"#000000\" />\n",
       "<rect width=\".81\" height=\".81\" x=\"16\" y=\"26\" fill=\"#000000\" />\n",
       "<rect width=\".81\" height=\".81\" x=\"17\" y=\"26\" fill=\"#000000\" />\n",
       "<rect width=\".81\" height=\".81\" x=\"18\" y=\"26\" fill=\"#000000\" />\n",
       "<rect width=\".81\" height=\".81\" x=\"19\" y=\"26\" fill=\"#000000\" />\n",
       "<rect width=\".81\" height=\".81\" x=\"20\" y=\"26\" fill=\"#000000\" />\n",
       "<rect width=\".81\" height=\".81\" x=\"21\" y=\"26\" fill=\"#000000\" />\n",
       "<rect width=\".81\" height=\".81\" x=\"22\" y=\"26\" fill=\"#000000\" />\n",
       "<rect width=\".81\" height=\".81\" x=\"23\" y=\"26\" fill=\"#000000\" />\n",
       "<rect width=\".81\" height=\".81\" x=\"24\" y=\"26\" fill=\"#000000\" />\n",
       "<rect width=\".81\" height=\".81\" x=\"25\" y=\"26\" fill=\"#000000\" />\n",
       "<rect width=\".81\" height=\".81\" x=\"26\" y=\"26\" fill=\"#000000\" />\n",
       "<rect width=\".81\" height=\".81\" x=\"27\" y=\"26\" fill=\"#000000\" />\n",
       "<rect width=\".81\" height=\".81\" x=\"0\" y=\"27\" fill=\"#000000\" />\n",
       "<rect width=\".81\" height=\".81\" x=\"1\" y=\"27\" fill=\"#000000\" />\n",
       "<rect width=\".81\" height=\".81\" x=\"2\" y=\"27\" fill=\"#000000\" />\n",
       "<rect width=\".81\" height=\".81\" x=\"3\" y=\"27\" fill=\"#000000\" />\n",
       "<rect width=\".81\" height=\".81\" x=\"4\" y=\"27\" fill=\"#000000\" />\n",
       "<rect width=\".81\" height=\".81\" x=\"5\" y=\"27\" fill=\"#000000\" />\n",
       "<rect width=\".81\" height=\".81\" x=\"6\" y=\"27\" fill=\"#000000\" />\n",
       "<rect width=\".81\" height=\".81\" x=\"7\" y=\"27\" fill=\"#000000\" />\n",
       "<rect width=\".81\" height=\".81\" x=\"8\" y=\"27\" fill=\"#000000\" />\n",
       "<rect width=\".81\" height=\".81\" x=\"9\" y=\"27\" fill=\"#000000\" />\n",
       "<rect width=\".81\" height=\".81\" x=\"10\" y=\"27\" fill=\"#000000\" />\n",
       "<rect width=\".81\" height=\".81\" x=\"11\" y=\"27\" fill=\"#000000\" />\n",
       "<rect width=\".81\" height=\".81\" x=\"12\" y=\"27\" fill=\"#000000\" />\n",
       "<rect width=\".81\" height=\".81\" x=\"13\" y=\"27\" fill=\"#000000\" />\n",
       "<rect width=\".81\" height=\".81\" x=\"14\" y=\"27\" fill=\"#000000\" />\n",
       "<rect width=\".81\" height=\".81\" x=\"15\" y=\"27\" fill=\"#000000\" />\n",
       "<rect width=\".81\" height=\".81\" x=\"16\" y=\"27\" fill=\"#000000\" />\n",
       "<rect width=\".81\" height=\".81\" x=\"17\" y=\"27\" fill=\"#000000\" />\n",
       "<rect width=\".81\" height=\".81\" x=\"18\" y=\"27\" fill=\"#000000\" />\n",
       "<rect width=\".81\" height=\".81\" x=\"19\" y=\"27\" fill=\"#000000\" />\n",
       "<rect width=\".81\" height=\".81\" x=\"20\" y=\"27\" fill=\"#000000\" />\n",
       "<rect width=\".81\" height=\".81\" x=\"21\" y=\"27\" fill=\"#000000\" />\n",
       "<rect width=\".81\" height=\".81\" x=\"22\" y=\"27\" fill=\"#000000\" />\n",
       "<rect width=\".81\" height=\".81\" x=\"23\" y=\"27\" fill=\"#000000\" />\n",
       "<rect width=\".81\" height=\".81\" x=\"24\" y=\"27\" fill=\"#000000\" />\n",
       "<rect width=\".81\" height=\".81\" x=\"25\" y=\"27\" fill=\"#000000\" />\n",
       "<rect width=\".81\" height=\".81\" x=\"26\" y=\"27\" fill=\"#000000\" />\n",
       "<rect width=\".81\" height=\".81\" x=\"27\" y=\"27\" fill=\"#000000\" />\n",
       "</svg>"
      ],
      "text/plain": [
       "28×28 Array{Gray{Float32},2} with eltype Gray{Float32}:\n",
       " Gray{Float32}(0.0)  Gray{Float32}(0.0)  …  Gray{Float32}(0.0)\n",
       " Gray{Float32}(0.0)  Gray{Float32}(0.0)     Gray{Float32}(0.0)\n",
       " Gray{Float32}(0.0)  Gray{Float32}(0.0)     Gray{Float32}(0.0)\n",
       " Gray{Float32}(0.0)  Gray{Float32}(0.0)     Gray{Float32}(0.0)\n",
       " Gray{Float32}(0.0)  Gray{Float32}(0.0)     Gray{Float32}(0.0)\n",
       " Gray{Float32}(0.0)  Gray{Float32}(0.0)  …  Gray{Float32}(0.0)\n",
       " Gray{Float32}(0.0)  Gray{Float32}(0.0)     Gray{Float32}(0.0)\n",
       " Gray{Float32}(0.0)  Gray{Float32}(0.0)     Gray{Float32}(0.0)\n",
       " Gray{Float32}(0.0)  Gray{Float32}(0.0)     Gray{Float32}(0.0)\n",
       " Gray{Float32}(0.0)  Gray{Float32}(0.0)     Gray{Float32}(0.0)\n",
       " ⋮                                       ⋱  \n",
       " Gray{Float32}(0.0)  Gray{Float32}(0.0)     Gray{Float32}(0.0)\n",
       " Gray{Float32}(0.0)  Gray{Float32}(0.0)  …  Gray{Float32}(0.0)\n",
       " Gray{Float32}(0.0)  Gray{Float32}(0.0)     Gray{Float32}(0.0)\n",
       " Gray{Float32}(0.0)  Gray{Float32}(0.0)     Gray{Float32}(0.0)\n",
       " Gray{Float32}(0.0)  Gray{Float32}(0.0)     Gray{Float32}(0.0)\n",
       " Gray{Float32}(0.0)  Gray{Float32}(0.0)     Gray{Float32}(0.0)\n",
       " Gray{Float32}(0.0)  Gray{Float32}(0.0)  …  Gray{Float32}(0.0)\n",
       " Gray{Float32}(0.0)  Gray{Float32}(0.0)     Gray{Float32}(0.0)\n",
       " Gray{Float32}(0.0)  Gray{Float32}(0.0)     Gray{Float32}(0.0)"
      ]
     },
     "metadata": {},
     "output_type": "display_data"
    }
   ],
   "source": [
    "# example of an training dataset image for '5'\n",
    "Gray.(data_train.features[:, :, 1]')"
   ]
  },
  {
   "attachments": {},
   "cell_type": "markdown",
   "id": "958cbc65-6686-42c5-9883-389e4498d14d",
   "metadata": {},
   "source": [
    "## PCA Reduction\n",
    "\n",
    "In this notebook, we first train a toy model using 1000 samples from the MNIST dataset.\n",
    "\n",
    "The images form the input into the quantum system. As we focus on numerical simulation where the number of atoms in the quantum system is limited, we first perform dimensionality reduction using the [principal component analysis (PCA)](https://en.wikipedia.org/wiki/Principal_component_analysis). "
   ]
  },
  {
   "cell_type": "code",
   "execution_count": 5,
   "id": "6cc2f07f-b04f-4e06-946f-1c7baef0a677",
   "metadata": {
    "scrolled": true
   },
   "outputs": [
    {
     "data": {
      "text/plain": [
       "10×1000 Matrix{Float32}:\n",
       "  0.485964    3.96748   -0.203377    …   2.05645     1.0019     -1.20236\n",
       " -1.22618    -1.1563     1.53793         0.0576729  -2.91969    -0.586595\n",
       "  0.0961505  -2.33857    0.739275       -4.55099     1.7512     -2.84139\n",
       " -2.1794     -1.80688    2.04322        -1.15914     0.61376     1.58327\n",
       " -0.10712    -3.24429   -1.20275        -2.25572    -1.38172     1.01346\n",
       " -0.911679   -0.713541  -0.00720531  …   0.168004   -0.135651   -0.982429\n",
       " -0.91759     0.176592   3.36885         1.44196    -0.0641531   0.427178\n",
       "  0.626676   -0.411636   1.44547         2.03504     2.08525     2.04952\n",
       "  1.42557    -0.158639   0.449218       -0.594718    0.705034   -1.49505\n",
       " -0.778144   -0.592028   0.700038        0.674973    0.445749   -0.120354"
      ]
     },
     "metadata": {},
     "output_type": "display_data"
    }
   ],
   "source": [
    "# We first use PCA to downsample the data into 10-dimensional vectors\n",
    "dim_pca = 10\n",
    "\n",
    "# Use the `fit` function from the `MultivariateStats` package to generate the projection operator for PCA\n",
    "model_pca = fit(PCA, reshape(data_train.features, (784, 60000)); maxoutdim=dim_pca);\n",
    "\n",
    "# Use the `predict` function from `MultivariateStats` package to compute the first 10 principal components\n",
    "x = predict(model_pca, reshape(data_train.features, (784, 60000)))\n",
    "\n",
    "# Let us see how it looks\n",
    "num_examples = 1000\n",
    "xs = x[:, 1:num_examples]"
   ]
  },
  {
   "attachments": {},
   "cell_type": "markdown",
   "id": "4b8dd2d9",
   "metadata": {},
   "source": [
    "Here, we scale the range of principal components to a feasible range of local detuning (we use $[-6\\ \\text{rad}/\\mu s,6\\ \\text{rad}/\\mu s]$ for the toy model). And later, for each image, we will encode each of the 10 scaled principal components into each single local detuning for 10 atoms. For more details of the neutral atom quantum system, please refer to the documentation of [Bloqade.jl](https://queracomputing.github.io/Bloqade.jl/dev/#What-does-Bloqade-Do?)."
   ]
  },
  {
   "cell_type": "code",
   "execution_count": 6,
   "id": "ed5a7bc3-9d38-4a86-bb7e-ad8be8eb481e",
   "metadata": {
    "scrolled": true
   },
   "outputs": [
    {
     "data": {
      "text/plain": [
       "10×1000 Matrix{Float64}:\n",
       "  0.380702    3.10811   -0.159325    …   1.61102     0.784881   -0.941924\n",
       " -0.960581   -0.905843   1.20481         0.0451807  -2.28728    -0.459536\n",
       "  0.0753239  -1.83203    0.579145       -3.56522     1.37188    -2.22593\n",
       " -1.70733    -1.4155     1.60065        -0.908064    0.480817    1.24033\n",
       " -0.0839175  -2.54156   -0.942226       -1.76712    -1.08243     0.793937\n",
       " -0.714206   -0.558985  -0.00564461  …   0.131614   -0.106269   -0.769631\n",
       " -0.718836    0.138341   2.63915         1.12962    -0.0502573   0.33465\n",
       "  0.490935   -0.322474   1.13237         1.59424     1.63358     1.60558\n",
       "  1.11679    -0.124277   0.351916       -0.4659      0.552321   -1.17122\n",
       " -0.609595   -0.463793   0.548407        0.528771    0.349198   -0.0942845"
      ]
     },
     "metadata": {},
     "output_type": "display_data"
    }
   ],
   "source": [
    "Δ_max = 6.0\n",
    "spectral = max(abs(maximum(xs)), abs(minimum(xs)))\n",
    "xs = xs/spectral * Δ_max # to make sure values to be between [-6.0, 6.0]"
   ]
  },
  {
   "attachments": {},
   "cell_type": "markdown",
   "id": "47458ef5",
   "metadata": {},
   "source": [
    "We are using [one-hot encoding](https://en.wikipedia.org/wiki/One-hot) for the labels from 0 to 9."
   ]
  },
  {
   "cell_type": "code",
   "execution_count": 7,
   "id": "1bc6f14c",
   "metadata": {},
   "outputs": [
    {
     "data": {
      "text/plain": [
       "10×1000 OneHotMatrix(::Vector{UInt32}) with eltype Bool:\n",
       " ⋅  1  ⋅  ⋅  ⋅  ⋅  ⋅  ⋅  ⋅  ⋅  ⋅  ⋅  ⋅  …  ⋅  ⋅  ⋅  ⋅  ⋅  ⋅  ⋅  ⋅  ⋅  1  ⋅  ⋅\n",
       " ⋅  ⋅  ⋅  1  ⋅  ⋅  1  ⋅  1  ⋅  ⋅  ⋅  ⋅     ⋅  ⋅  ⋅  ⋅  ⋅  1  ⋅  ⋅  ⋅  ⋅  ⋅  ⋅\n",
       " ⋅  ⋅  ⋅  ⋅  ⋅  1  ⋅  ⋅  ⋅  ⋅  ⋅  ⋅  ⋅     ⋅  1  ⋅  ⋅  ⋅  ⋅  ⋅  ⋅  ⋅  ⋅  ⋅  ⋅\n",
       " ⋅  ⋅  ⋅  ⋅  ⋅  ⋅  ⋅  1  ⋅  ⋅  1  ⋅  1     ⋅  ⋅  ⋅  ⋅  1  ⋅  ⋅  ⋅  ⋅  ⋅  1  ⋅\n",
       " ⋅  ⋅  1  ⋅  ⋅  ⋅  ⋅  ⋅  ⋅  1  ⋅  ⋅  ⋅     1  ⋅  1  1  ⋅  ⋅  ⋅  ⋅  ⋅  ⋅  ⋅  ⋅\n",
       " 1  ⋅  ⋅  ⋅  ⋅  ⋅  ⋅  ⋅  ⋅  ⋅  ⋅  1  ⋅  …  ⋅  ⋅  ⋅  ⋅  ⋅  ⋅  ⋅  ⋅  ⋅  ⋅  ⋅  ⋅\n",
       " ⋅  ⋅  ⋅  ⋅  ⋅  ⋅  ⋅  ⋅  ⋅  ⋅  ⋅  ⋅  ⋅     ⋅  ⋅  ⋅  ⋅  ⋅  ⋅  ⋅  ⋅  1  ⋅  ⋅  1\n",
       " ⋅  ⋅  ⋅  ⋅  ⋅  ⋅  ⋅  ⋅  ⋅  ⋅  ⋅  ⋅  ⋅     ⋅  ⋅  ⋅  ⋅  ⋅  ⋅  1  1  ⋅  ⋅  ⋅  ⋅\n",
       " ⋅  ⋅  ⋅  ⋅  ⋅  ⋅  ⋅  ⋅  ⋅  ⋅  ⋅  ⋅  ⋅     ⋅  ⋅  ⋅  ⋅  ⋅  ⋅  ⋅  ⋅  ⋅  ⋅  ⋅  ⋅\n",
       " ⋅  ⋅  ⋅  ⋅  1  ⋅  ⋅  ⋅  ⋅  ⋅  ⋅  ⋅  ⋅     ⋅  ⋅  ⋅  ⋅  ⋅  ⋅  ⋅  ⋅  ⋅  ⋅  ⋅  ⋅"
      ]
     },
     "metadata": {},
     "output_type": "display_data"
    }
   ],
   "source": [
    "y = onehotbatch(data_train.targets, 0:9)\n",
    "# Let us see how labels look\n",
    "ys = y[:, 1:num_examples]"
   ]
  },
  {
   "attachments": {},
   "cell_type": "markdown",
   "id": "bb7e3094-94c8-4dce-b631-660a094c7475",
   "metadata": {},
   "source": [
    "## Simulate Quantum Dynamics\n",
    "\n",
    "We can now set up the quantum simulation. \n",
    "\n",
    "- Define a `struct`, which captures all physical parameters and readouts of the quantum system.\n",
    "- Define functions that simulate quantum dynamics with the input `x` from scaled detunings and return the output `out` of readout observables\n",
    "- The simulation of the quantum dynamics has been implemented in [Bloqade.jl](https://queracomputing.github.io/Bloqade.jl/dev/)"
   ]
  },
  {
   "cell_type": "code",
   "execution_count": 8,
   "id": "f731d249-1175-444d-914d-8922b1352869",
   "metadata": {
    "jupyter": {
     "outputs_hidden": true
    },
    "scrolled": true,
    "tags": []
   },
   "outputs": [
    {
     "data": {
      "text/plain": [
       "DetuningLayer"
      ]
     },
     "metadata": {},
     "output_type": "display_data"
    }
   ],
   "source": [
    "# Define the struct\n",
    "Base.@kwdef struct DetuningLayer\n",
    "    atoms # atom positions\n",
    "    readouts # readout observables\n",
    "    Ω::Float64 # Rabi frequency\n",
    "    t_start::Float64 # evolution starting time\n",
    "    t_end::Float64 # evolution ending time\n",
    "    step::Float64  # readout time step\n",
    "    reg::AbstractArrayReg # quantum state storage\n",
    "end"
   ]
  },
  {
   "cell_type": "code",
   "execution_count": 9,
   "id": "951e15b5",
   "metadata": {},
   "outputs": [
    {
     "data": {
      "text/plain": [
       "apply_layer (generic function with 2 methods)"
      ]
     },
     "metadata": {},
     "output_type": "display_data"
    }
   ],
   "source": [
    "# Iterate over each single image to simulate the quantum evolution and record the output\n",
    "# For more details on simulation, please refer to Bloqade.jl and Yao.jl\n",
    "function apply_layer(layer::DetuningLayer, x::Vector{<:Real})\n",
    "    # define Rydberg hamiltonian, detunings parameterized in terms of pca values (x)  \n",
    "    h = rydberg_h(layer.atoms; Δ = x, Ω = layer.Ω) \n",
    "    \n",
    "    # At the start of the simulation, all atoms of the system are in ground states\n",
    "    reg = layer.reg\n",
    "    set_zero_state!(reg) \n",
    "    \n",
    "    t_start = layer.t_start\n",
    "    t_end = layer.t_end\n",
    "    t_step = layer.step\n",
    "    \n",
    "    # initialize output vector\n",
    "    steps = floor(Int, (t_end - t_start) / t_step)\n",
    "    out = zeros(steps * length(layer.readouts))\n",
    "    \n",
    "    # Numerically simulate the quantum evolution with Krylov methods and store the readouts\n",
    "    i = 1\n",
    "    prob =  KrylovEvolution(reg, layer.t_start:layer.step:layer.t_end, h)\n",
    "    for (step, reg, _) in prob # step through the state at each time step \n",
    "        step == 1 && continue # ignore first time step, this is just the initial state\n",
    "        for op in layer.readouts\n",
    "            out[i] = real(expect(op, reg)) # store the expectation of each operator for the given state in the output vector \n",
    "            i+=1\n",
    "        end\n",
    "    end\n",
    "    return out\n",
    "end\n",
    "\n",
    "# implement functions that apply a `DetuningLayer` to a matrix containing scaled detunings for each image\n",
    "function apply_layer(layer::DetuningLayer, x::Matrix{<:Real})\n",
    "    iter = SHOW_PROGRESS_BAR ? ProgressBar(1:size(x, 2)) : 1:size(x, 2)\n",
    "    outs = [apply_layer(layer, x[:, i][:]) for i in iter]\n",
    "    return hcat(outs...)\n",
    "end"
   ]
  },
  {
   "attachments": {},
   "cell_type": "markdown",
   "id": "03a4d9a0",
   "metadata": {},
   "source": [
    "Now we use the above struct to describe our toy model. We prepare the 10 atoms in a chain lattice and use a numerical simulation of the quantum dynamics associated to the input."
   ]
  },
  {
   "cell_type": "code",
   "execution_count": 10,
   "id": "725d374c",
   "metadata": {},
   "outputs": [],
   "source": [
    "# Generate atom positions for the toy model\n",
    "d = 10.0\n",
    "atoms = generate_sites(ChainLattice(), dim_pca; scale = d); # put atoms in a chain with 10 micron spacing\n",
    "\n",
    "# create all single site Zᵢ and correlator ZᵢZⱼ readouts \n",
    "nsites = length(atoms)\n",
    "readouts = AbstractBlock[put(nsites, i => Z) for i in 1:nsites]\n",
    "for i in 1:nsites\n",
    "    for j in i+1:nsites\n",
    "        push!(readouts, chain(put(nsites, i => Z), put(nsites, j => Z)))\n",
    "    end\n",
    "end\n",
    "\n",
    "# build preprocessing layer \n",
    "pre_layer = DetuningLayer(;\n",
    "    atoms, \n",
    "    readouts, \n",
    "    Ω = 2π, \n",
    "    t_start = 0.0, \n",
    "    t_end = 4.0, \n",
    "    step = 0.5, \n",
    "    reg = zero_state(nsites)\n",
    ");"
   ]
  },
  {
   "attachments": {},
   "cell_type": "markdown",
   "id": "0c985b00-eea4-442e-ab62-b1025151a303",
   "metadata": {},
   "source": [
    "Now, we are ready to run the simulation by apply the defined `pre_layer` to the scaled detunings! For each image, the readouts from the quantum dynamics is a 440-dimensional vector which has much higher dimension than the PCA dimension. The full results will be stored in a $440\\times 1000$ matrix `embeddings`.\n",
    "\n",
    "(It might take a few minutes)"
   ]
  },
  {
   "cell_type": "code",
   "execution_count": 11,
   "id": "15244e01-dcfd-46c3-9765-0f308d52ff74",
   "metadata": {
    "jupyter": {
     "outputs_hidden": true
    },
    "tags": []
   },
   "outputs": [
    {
     "name": "stderr",
     "output_type": "stream",
     "text": [
      "\r0.0%┣                                             ┫ 0/1.0k [00:00<00:-3, -0s/it]"
     ]
    },
    {
     "name": "stderr",
     "output_type": "stream",
     "text": [
      "\n",
      "\u001b[1A\r0.1%┣                                         ┫ 1/1.0k [00:10<Inf:Inf, InfGs/it]\n",
      "\u001b[1A\r0.3%┣▏                                          ┫ 3/1.0k [00:10<01:25:05, 5s/it]\n"
     ]
    },
    {
     "name": "stderr",
     "output_type": "stream",
     "text": [
      "\u001b[1A\r0.5%┣▎                                             ┫ 5/1.0k [00:10<42:47, 3s/it]\n",
      "\u001b[1A\r0.7%┣▎                                             ┫ 7/1.0k [00:10<28:40, 2s/it]\n"
     ]
    },
    {
     "name": "stderr",
     "output_type": "stream",
     "text": [
      "\u001b[1A\r0.9%┣▍                                             ┫ 9/1.0k [00:10<21:36, 1s/it]\n",
      "\u001b[1A\r1.1%┣▌                                            ┫ 11/1.0k [00:11<17:21, 1s/it]\n"
     ]
    },
    {
     "name": "stderr",
     "output_type": "stream",
     "text": [
      "\u001b[1A\r1.2%┣▌                                            ┫ 12/1.0k [00:11<15:53, 1it/s]\n",
      "\u001b[1A\r1.4%┣▋                                            ┫ 14/1.0k [00:11<13:31, 1it/s]\n"
     ]
    },
    {
     "name": "stderr",
     "output_type": "stream",
     "text": [
      "\u001b[1A\r1.6%┣▊                                            ┫ 16/1.0k [00:11<11:46, 1it/s]\n",
      "\u001b[1A\r1.8%┣▉                                            ┫ 18/1.0k [00:11<10:26, 2it/s]\n"
     ]
    },
    {
     "name": "stderr",
     "output_type": "stream",
     "text": [
      "\u001b[1A\r2.0%┣█                                            ┫ 20/1.0k [00:11<09:22, 2it/s]\n",
      "\u001b[1A\r2.2%┣█                                            ┫ 22/1.0k [00:11<08:31, 2it/s]\n"
     ]
    },
    {
     "name": "stderr",
     "output_type": "stream",
     "text": [
      "\u001b[1A\r2.4%┣█                                            ┫ 24/1.0k [00:11<07:48, 2it/s]\n",
      "\u001b[1A\r2.6%┣█▏                                           ┫ 26/1.0k [00:11<07:12, 2it/s]\n"
     ]
    },
    {
     "name": "stderr",
     "output_type": "stream",
     "text": [
      "\u001b[1A\r2.8%┣█▎                                           ┫ 28/1.0k [00:11<06:41, 2it/s]\n",
      "\u001b[1A\r3.0%┣█▍                                           ┫ 30/1.0k [00:11<06:15, 3it/s]\n"
     ]
    },
    {
     "name": "stderr",
     "output_type": "stream",
     "text": [
      "\u001b[1A\r3.2%┣█▍                                           ┫ 32/1.0k [00:11<05:52, 3it/s]\n",
      "\u001b[1A\r3.4%┣█▌                                           ┫ 34/1.0k [00:11<05:32, 3it/s]\n"
     ]
    },
    {
     "name": "stderr",
     "output_type": "stream",
     "text": [
      "\u001b[1A\r3.6%┣█▋                                           ┫ 36/1.0k [00:11<05:14, 3it/s]\n",
      "\u001b[1A\r3.8%┣█▊                                           ┫ 38/1.0k [00:11<04:58, 3it/s]\n"
     ]
    },
    {
     "name": "stderr",
     "output_type": "stream",
     "text": [
      "\u001b[1A\r4.0%┣█▉                                           ┫ 40/1.0k [00:12<04:43, 3it/s]\n",
      "\u001b[1A\r4.2%┣██                                           ┫ 42/1.0k [00:12<04:31, 4it/s]\n"
     ]
    },
    {
     "name": "stderr",
     "output_type": "stream",
     "text": [
      "\u001b[1A\r4.4%┣██                                           ┫ 44/1.0k [00:12<04:19, 4it/s]\n",
      "\u001b[1A\r4.6%┣██                                           ┫ 46/1.0k [00:12<04:08, 4it/s]\n"
     ]
    },
    {
     "name": "stderr",
     "output_type": "stream",
     "text": [
      "\u001b[1A\r4.8%┣██▏                                          ┫ 48/1.0k [00:12<03:58, 4it/s]\n",
      "\u001b[1A\r5.0%┣██▎                                          ┫ 50/1.0k [00:12<03:50, 4it/s]\n"
     ]
    },
    {
     "name": "stderr",
     "output_type": "stream",
     "text": [
      "\u001b[1A\r5.2%┣██▍                                          ┫ 52/1.0k [00:12<03:41, 4it/s]\n",
      "\u001b[1A\r5.4%┣██▍                                          ┫ 54/1.0k [00:12<03:34, 4it/s]\n"
     ]
    },
    {
     "name": "stderr",
     "output_type": "stream",
     "text": [
      "\u001b[1A\r5.6%┣██▌                                          ┫ 56/1.0k [00:12<03:26, 5it/s]\n",
      "\u001b[1A\r5.8%┣██▋                                          ┫ 58/1.0k [00:12<03:20, 5it/s]\n"
     ]
    },
    {
     "name": "stderr",
     "output_type": "stream",
     "text": [
      "\u001b[1A\r6.0%┣██▊                                          ┫ 60/1.0k [00:12<03:14, 5it/s]\n",
      "\u001b[1A\r6.2%┣██▉                                          ┫ 62/1.0k [00:12<03:08, 5it/s]\n"
     ]
    },
    {
     "name": "stderr",
     "output_type": "stream",
     "text": [
      "\u001b[1A\r6.4%┣██▉                                          ┫ 64/1.0k [00:12<03:02, 5it/s]\n",
      "\u001b[1A\r6.6%┣███                                          ┫ 66/1.0k [00:12<02:57, 5it/s]\n"
     ]
    },
    {
     "name": "stderr",
     "output_type": "stream",
     "text": [
      "\u001b[1A\r6.8%┣███                                          ┫ 68/1.0k [00:12<02:52, 5it/s]\n",
      "\u001b[1A\r7.0%┣███▏                                         ┫ 70/1.0k [00:12<02:48, 6it/s]\n"
     ]
    },
    {
     "name": "stderr",
     "output_type": "stream",
     "text": [
      "\u001b[1A\r7.2%┣███▎                                         ┫ 72/1.0k [00:13<02:43, 6it/s]\n",
      "\u001b[1A\r7.4%┣███▎                                         ┫ 74/1.0k [00:13<02:39, 6it/s]\n"
     ]
    },
    {
     "name": "stderr",
     "output_type": "stream",
     "text": [
      "\u001b[1A\r7.6%┣███▍                                         ┫ 76/1.0k [00:13<02:36, 6it/s]\n",
      "\u001b[1A\r7.8%┣███▌                                         ┫ 78/1.0k [00:13<02:32, 6it/s]\n"
     ]
    },
    {
     "name": "stderr",
     "output_type": "stream",
     "text": [
      "\u001b[1A\r8.0%┣███▋                                         ┫ 80/1.0k [00:13<02:28, 6it/s]\n",
      "\u001b[1A\r8.2%┣███▊                                         ┫ 82/1.0k [00:13<02:25, 6it/s]\n"
     ]
    },
    {
     "name": "stderr",
     "output_type": "stream",
     "text": [
      "\u001b[1A\r8.4%┣███▉                                         ┫ 84/1.0k [00:13<02:22, 6it/s]\n",
      "\u001b[1A\r8.6%┣███▉                                         ┫ 86/1.0k [00:13<02:19, 7it/s]\n"
     ]
    },
    {
     "name": "stderr",
     "output_type": "stream",
     "text": [
      "\u001b[1A\r8.8%┣████                                         ┫ 88/1.0k [00:13<02:16, 7it/s]\n",
      "\u001b[1A\r9.0%┣████                                         ┫ 90/1.0k [00:13<02:13, 7it/s]\n"
     ]
    },
    {
     "name": "stderr",
     "output_type": "stream",
     "text": [
      "\u001b[1A\r9.2%┣████▏                                        ┫ 92/1.0k [00:13<02:11, 7it/s]\n",
      "\u001b[1A\r9.4%┣████▎                                        ┫ 94/1.0k [00:13<02:08, 7it/s]\n"
     ]
    },
    {
     "name": "stderr",
     "output_type": "stream",
     "text": [
      "\u001b[1A\r9.6%┣████▎                                        ┫ 96/1.0k [00:13<02:06, 7it/s]\n",
      "\u001b[1A\r9.8%┣████▍                                        ┫ 98/1.0k [00:13<02:04, 7it/s]\n"
     ]
    },
    {
     "name": "stderr",
     "output_type": "stream",
     "text": [
      "\u001b[1A\r10.0%┣████▎                                      ┫ 100/1.0k [00:13<02:01, 7it/s]\n",
      "\u001b[1A\r10.2%┣████▍                                      ┫ 102/1.0k [00:13<01:59, 8it/s]"
     ]
    },
    {
     "name": "stderr",
     "output_type": "stream",
     "text": [
      "\n",
      "\u001b[1A\r10.4%┣████▌                                      ┫ 104/1.0k [00:13<01:57, 8it/s]\n",
      "\u001b[1A\r10.6%┣████▋                                      ┫ 106/1.0k [00:14<01:55, 8it/s]\n"
     ]
    },
    {
     "name": "stderr",
     "output_type": "stream",
     "text": [
      "\u001b[1A\r10.8%┣████▋                                      ┫ 108/1.0k [00:14<01:53, 8it/s]\n",
      "\u001b[1A\r11.0%┣████▊                                      ┫ 110/1.0k [00:14<01:51, 8it/s]\n"
     ]
    },
    {
     "name": "stderr",
     "output_type": "stream",
     "text": [
      "\u001b[1A\r11.2%┣████▉                                      ┫ 112/1.0k [00:14<01:50, 8it/s]\n",
      "\u001b[1A\r11.4%┣█████                                      ┫ 114/1.0k [00:14<01:48, 8it/s]"
     ]
    },
    {
     "name": "stderr",
     "output_type": "stream",
     "text": [
      "\n",
      "\u001b[1A\r11.6%┣█████                                      ┫ 116/1.0k [00:14<01:46, 8it/s]\n",
      "\u001b[1A\r11.8%┣█████                                      ┫ 118/1.0k [00:14<01:45, 8it/s]\n"
     ]
    },
    {
     "name": "stderr",
     "output_type": "stream",
     "text": [
      "\u001b[1A\r12.0%┣█████▏                                     ┫ 120/1.0k [00:14<01:43, 9it/s]\n",
      "\u001b[1A\r12.2%┣█████▎                                     ┫ 122/1.0k [00:14<01:42, 9it/s]\n"
     ]
    },
    {
     "name": "stderr",
     "output_type": "stream",
     "text": [
      "\u001b[1A\r12.4%┣█████▎                                     ┫ 124/1.0k [00:14<01:40, 9it/s]\n",
      "\u001b[1A\r12.6%┣█████▍                                     ┫ 126/1.0k [00:14<01:39, 9it/s]\n"
     ]
    },
    {
     "name": "stderr",
     "output_type": "stream",
     "text": [
      "\u001b[1A\r12.8%┣█████▌                                     ┫ 128/1.0k [00:14<01:37, 9it/s]\n",
      "\u001b[1A\r13.0%┣█████▋                                     ┫ 130/1.0k [00:14<01:36, 9it/s]\n"
     ]
    },
    {
     "name": "stderr",
     "output_type": "stream",
     "text": [
      "\u001b[1A\r13.2%┣█████▊                                     ┫ 132/1.0k [00:14<01:35, 9it/s]\n",
      "\u001b[1A\r13.4%┣█████▊                                     ┫ 134/1.0k [00:14<01:34, 9it/s]\n"
     ]
    },
    {
     "name": "stderr",
     "output_type": "stream",
     "text": [
      "\u001b[1A\r13.6%┣█████▉                                     ┫ 136/1.0k [00:14<01:32, 9it/s]\n",
      "\u001b[1A\r13.8%┣██████                                     ┫ 138/1.0k [00:14<01:31, 9it/s]\n"
     ]
    },
    {
     "name": "stderr",
     "output_type": "stream",
     "text": [
      "\u001b[1A\r14.0%┣█████▉                                    ┫ 140/1.0k [00:15<01:30, 10it/s]\n",
      "\u001b[1A\r14.2%┣██████                                    ┫ 142/1.0k [00:15<01:29, 10it/s]\n"
     ]
    },
    {
     "name": "stderr",
     "output_type": "stream",
     "text": [
      "\u001b[1A\r14.4%┣██████                                    ┫ 144/1.0k [00:15<01:28, 10it/s]\n",
      "\u001b[1A\r14.6%┣██████▏                                   ┫ 146/1.0k [00:15<01:27, 10it/s]\n"
     ]
    },
    {
     "name": "stderr",
     "output_type": "stream",
     "text": [
      "\u001b[1A\r14.8%┣██████▏                                   ┫ 148/1.0k [00:15<01:26, 10it/s]\n",
      "\u001b[1A\r15.0%┣██████▎                                   ┫ 150/1.0k [00:15<01:25, 10it/s]"
     ]
    },
    {
     "name": "stderr",
     "output_type": "stream",
     "text": [
      "\n",
      "\u001b[1A\r15.2%┣██████▍                                   ┫ 152/1.0k [00:15<01:24, 10it/s]\n",
      "\u001b[1A\r15.4%┣██████▌                                   ┫ 154/1.0k [00:15<01:23, 10it/s]\n"
     ]
    },
    {
     "name": "stderr",
     "output_type": "stream",
     "text": [
      "\u001b[1A\r15.6%┣██████▌                                   ┫ 156/1.0k [00:15<01:22, 10it/s]\n",
      "\u001b[1A\r15.8%┣██████▋                                   ┫ 158/1.0k [00:15<01:21, 10it/s]\n"
     ]
    },
    {
     "name": "stderr",
     "output_type": "stream",
     "text": [
      "\u001b[1A\r16.0%┣██████▊                                   ┫ 160/1.0k [00:15<01:21, 10it/s]\n",
      "\u001b[1A\r16.1%┣██████▊                                   ┫ 161/1.0k [00:15<01:20, 10it/s]\n"
     ]
    },
    {
     "name": "stderr",
     "output_type": "stream",
     "text": [
      "\u001b[1A\r16.3%┣██████▉                                   ┫ 163/1.0k [00:15<01:20, 11it/s]\n",
      "\u001b[1A\r16.5%┣███████                                   ┫ 165/1.0k [00:15<01:19, 11it/s]\n"
     ]
    },
    {
     "name": "stderr",
     "output_type": "stream",
     "text": [
      "\u001b[1A\r16.7%┣███████                                   ┫ 167/1.0k [00:16<01:18, 11it/s]\n",
      "\u001b[1A\r16.9%┣███████                                   ┫ 169/1.0k [00:16<01:17, 11it/s]\n"
     ]
    },
    {
     "name": "stderr",
     "output_type": "stream",
     "text": [
      "\u001b[1A\r17.1%┣███████▏                                  ┫ 171/1.0k [00:16<01:16, 11it/s]\n",
      "\u001b[1A\r17.3%┣███████▎                                  ┫ 173/1.0k [00:16<01:16, 11it/s]\n"
     ]
    },
    {
     "name": "stderr",
     "output_type": "stream",
     "text": [
      "\u001b[1A\r17.5%┣███████▍                                  ┫ 175/1.0k [00:16<01:15, 11it/s]\n",
      "\u001b[1A\r17.7%┣███████▍                                  ┫ 177/1.0k [00:16<01:14, 11it/s]\n"
     ]
    },
    {
     "name": "stderr",
     "output_type": "stream",
     "text": [
      "\u001b[1A\r17.9%┣███████▌                                  ┫ 179/1.0k [00:16<01:13, 11it/s]\n",
      "\u001b[1A\r18.1%┣███████▋                                  ┫ 181/1.0k [00:16<01:13, 11it/s]\n"
     ]
    },
    {
     "name": "stderr",
     "output_type": "stream",
     "text": [
      "\u001b[1A\r18.3%┣███████▊                                  ┫ 183/1.0k [00:16<01:12, 11it/s]\n",
      "\u001b[1A\r18.5%┣███████▊                                  ┫ 185/1.0k [00:16<01:11, 11it/s]\n"
     ]
    },
    {
     "name": "stderr",
     "output_type": "stream",
     "text": [
      "\u001b[1A\r18.7%┣███████▉                                  ┫ 187/1.0k [00:16<01:11, 12it/s]\n",
      "\u001b[1A\r18.9%┣████████                                  ┫ 189/1.0k [00:16<01:10, 12it/s]\n"
     ]
    },
    {
     "name": "stderr",
     "output_type": "stream",
     "text": [
      "\u001b[1A\r19.1%┣████████                                  ┫ 191/1.0k [00:16<01:09, 12it/s]\n",
      "\u001b[1A\r19.3%┣████████                                  ┫ 193/1.0k [00:16<01:09, 12it/s]\n"
     ]
    },
    {
     "name": "stderr",
     "output_type": "stream",
     "text": [
      "\u001b[1A\r19.5%┣████████▏                                 ┫ 195/1.0k [00:16<01:08, 12it/s]\n",
      "\u001b[1A\r19.7%┣████████▎                                 ┫ 197/1.0k [00:16<01:07, 12it/s]\n"
     ]
    },
    {
     "name": "stderr",
     "output_type": "stream",
     "text": [
      "\u001b[1A\r19.9%┣████████▍                                 ┫ 199/1.0k [00:16<01:07, 12it/s]\n",
      "\u001b[1A\r20.1%┣████████▍                                 ┫ 201/1.0k [00:17<01:06, 12it/s]\n"
     ]
    },
    {
     "name": "stderr",
     "output_type": "stream",
     "text": [
      "\u001b[1A\r20.3%┣████████▌                                 ┫ 203/1.0k [00:17<01:05, 12it/s]\n",
      "\u001b[1A\r20.5%┣████████▋                                 ┫ 205/1.0k [00:17<01:05, 12it/s]\n"
     ]
    },
    {
     "name": "stderr",
     "output_type": "stream",
     "text": [
      "\u001b[1A\r20.7%┣████████▊                                 ┫ 207/1.0k [00:17<01:04, 12it/s]\n",
      "\u001b[1A\r20.9%┣████████▉                                 ┫ 209/1.0k [00:17<01:04, 12it/s]"
     ]
    },
    {
     "name": "stderr",
     "output_type": "stream",
     "text": [
      "\n",
      "\u001b[1A\r21.1%┣████████▉                                 ┫ 211/1.0k [00:17<01:03, 12it/s]\n",
      "\u001b[1A\r21.3%┣█████████                                 ┫ 213/1.0k [00:17<01:03, 13it/s]\n"
     ]
    },
    {
     "name": "stderr",
     "output_type": "stream",
     "text": [
      "\u001b[1A\r21.5%┣█████████                                 ┫ 215/1.0k [00:17<01:02, 13it/s]\n",
      "\u001b[1A\r21.7%┣█████████▏                                ┫ 217/1.0k [00:17<01:02, 13it/s]\n"
     ]
    },
    {
     "name": "stderr",
     "output_type": "stream",
     "text": [
      "\u001b[1A\r21.9%┣█████████▏                                ┫ 219/1.0k [00:17<01:01, 13it/s]\n",
      "\u001b[1A\r22.1%┣█████████▎                                ┫ 221/1.0k [00:17<01:01, 13it/s]\n"
     ]
    },
    {
     "name": "stderr",
     "output_type": "stream",
     "text": [
      "\u001b[1A\r22.3%┣█████████▍                                ┫ 223/1.0k [00:17<01:00, 13it/s]\n",
      "\u001b[1A\r22.5%┣█████████▌                                ┫ 225/1.0k [00:17<01:00, 13it/s]"
     ]
    },
    {
     "name": "stderr",
     "output_type": "stream",
     "text": [
      "\n",
      "\u001b[1A\r22.7%┣█████████▌                                ┫ 227/1.0k [00:17<00:59, 13it/s]\n",
      "\u001b[1A\r22.9%┣█████████▋                                ┫ 229/1.0k [00:17<00:59, 13it/s]\n"
     ]
    },
    {
     "name": "stderr",
     "output_type": "stream",
     "text": [
      "\u001b[1A\r23.1%┣█████████▊                                ┫ 231/1.0k [00:17<00:58, 13it/s]\n",
      "\u001b[1A\r23.3%┣█████████▉                                ┫ 233/1.0k [00:17<00:58, 13it/s]\n"
     ]
    },
    {
     "name": "stderr",
     "output_type": "stream",
     "text": [
      "\u001b[1A\r23.5%┣█████████▉                                ┫ 235/1.0k [00:18<00:57, 13it/s]\n",
      "\u001b[1A\r23.7%┣██████████                                ┫ 237/1.0k [00:18<00:57, 13it/s]\n"
     ]
    },
    {
     "name": "stderr",
     "output_type": "stream",
     "text": [
      "\u001b[1A\r23.9%┣██████████                                ┫ 239/1.0k [00:18<00:56, 13it/s]\n",
      "\u001b[1A\r24.1%┣██████████▏                               ┫ 241/1.0k [00:18<00:56, 14it/s]\n"
     ]
    },
    {
     "name": "stderr",
     "output_type": "stream",
     "text": [
      "\u001b[1A\r24.3%┣██████████▏                               ┫ 243/1.0k [00:18<00:56, 14it/s]\n",
      "\u001b[1A\r24.5%┣██████████▎                               ┫ 245/1.0k [00:18<00:55, 14it/s]\n"
     ]
    },
    {
     "name": "stderr",
     "output_type": "stream",
     "text": [
      "\u001b[1A\r24.7%┣██████████▍                               ┫ 247/1.0k [00:18<00:55, 14it/s]\n",
      "\u001b[1A\r24.9%┣██████████▌                               ┫ 249/1.0k [00:18<00:54, 14it/s]\n"
     ]
    },
    {
     "name": "stderr",
     "output_type": "stream",
     "text": [
      "\u001b[1A\r25.1%┣██████████▌                               ┫ 251/1.0k [00:18<00:54, 14it/s]\n",
      "\u001b[1A\r25.3%┣██████████▋                               ┫ 253/1.0k [00:18<00:54, 14it/s]\n"
     ]
    },
    {
     "name": "stderr",
     "output_type": "stream",
     "text": [
      "\u001b[1A\r25.5%┣██████████▊                               ┫ 255/1.0k [00:18<00:53, 14it/s]\n",
      "\u001b[1A\r25.7%┣██████████▉                               ┫ 257/1.0k [00:18<00:53, 14it/s]\n"
     ]
    },
    {
     "name": "stderr",
     "output_type": "stream",
     "text": [
      "\u001b[1A\r25.8%┣██████████▉                               ┫ 258/1.0k [00:18<00:53, 14it/s]\n",
      "\u001b[1A\r25.9%┣██████████▉                               ┫ 259/1.0k [00:18<00:53, 14it/s]\n"
     ]
    },
    {
     "name": "stderr",
     "output_type": "stream",
     "text": [
      "\u001b[1A\r26.0%┣███████████                               ┫ 260/1.0k [00:18<00:53, 14it/s]\n",
      "\u001b[1A\r26.2%┣███████████                               ┫ 262/1.0k [00:18<00:52, 14it/s]\n"
     ]
    },
    {
     "name": "stderr",
     "output_type": "stream",
     "text": [
      "\u001b[1A\r26.4%┣███████████                               ┫ 264/1.0k [00:19<00:52, 14it/s]\n",
      "\u001b[1A\r26.6%┣███████████▏                              ┫ 266/1.0k [00:19<00:52, 14it/s]"
     ]
    },
    {
     "name": "stderr",
     "output_type": "stream",
     "text": [
      "\n",
      "\u001b[1A\r26.8%┣███████████▎                              ┫ 268/1.0k [00:19<00:51, 14it/s]\n",
      "\u001b[1A\r27.0%┣███████████▍                              ┫ 270/1.0k [00:19<00:51, 14it/s]\n"
     ]
    },
    {
     "name": "stderr",
     "output_type": "stream",
     "text": [
      "\u001b[1A\r27.2%┣███████████▍                              ┫ 272/1.0k [00:19<00:51, 14it/s]\n",
      "\u001b[1A\r27.4%┣███████████▌                              ┫ 274/1.0k [00:19<00:50, 14it/s]\n"
     ]
    },
    {
     "name": "stderr",
     "output_type": "stream",
     "text": [
      "\u001b[1A\r27.6%┣███████████▋                              ┫ 276/1.0k [00:19<00:50, 15it/s]\n",
      "\u001b[1A\r27.8%┣███████████▊                              ┫ 278/1.0k [00:19<00:49, 15it/s]\n"
     ]
    },
    {
     "name": "stderr",
     "output_type": "stream",
     "text": [
      "\u001b[1A\r28.0%┣███████████▊                              ┫ 280/1.0k [00:19<00:49, 15it/s]\n",
      "\u001b[1A\r28.2%┣███████████▉                              ┫ 282/1.0k [00:19<00:49, 15it/s]\n"
     ]
    },
    {
     "name": "stderr",
     "output_type": "stream",
     "text": [
      "\u001b[1A\r28.4%┣████████████                              ┫ 284/1.0k [00:19<00:48, 15it/s]\n",
      "\u001b[1A\r28.6%┣████████████                              ┫ 286/1.0k [00:19<00:48, 15it/s]\n"
     ]
    },
    {
     "name": "stderr",
     "output_type": "stream",
     "text": [
      "\u001b[1A\r28.8%┣████████████                              ┫ 288/1.0k [00:19<00:48, 15it/s]\n",
      "\u001b[1A\r29.0%┣████████████▏                             ┫ 290/1.0k [00:19<00:47, 15it/s]\n"
     ]
    },
    {
     "name": "stderr",
     "output_type": "stream",
     "text": [
      "\u001b[1A\r29.2%┣████████████▎                             ┫ 292/1.0k [00:19<00:47, 15it/s]\n",
      "\u001b[1A\r29.4%┣████████████▍                             ┫ 294/1.0k [00:19<00:47, 15it/s]\n"
     ]
    },
    {
     "name": "stderr",
     "output_type": "stream",
     "text": [
      "\u001b[1A\r29.6%┣████████████▍                             ┫ 296/1.0k [00:19<00:46, 15it/s]\n",
      "\u001b[1A\r29.8%┣████████████▌                             ┫ 298/1.0k [00:20<00:46, 15it/s]\n"
     ]
    },
    {
     "name": "stderr",
     "output_type": "stream",
     "text": [
      "\u001b[1A\r30.0%┣████████████▋                             ┫ 300/1.0k [00:20<00:46, 15it/s]\n",
      "\u001b[1A\r30.2%┣████████████▊                             ┫ 302/1.0k [00:20<00:46, 15it/s]"
     ]
    },
    {
     "name": "stderr",
     "output_type": "stream",
     "text": [
      "\n",
      "\u001b[1A\r30.4%┣████████████▊                             ┫ 304/1.0k [00:20<00:45, 15it/s]\n",
      "\u001b[1A\r30.6%┣████████████▉                             ┫ 306/1.0k [00:20<00:45, 15it/s]\n"
     ]
    },
    {
     "name": "stderr",
     "output_type": "stream",
     "text": [
      "\u001b[1A\r30.8%┣█████████████                             ┫ 308/1.0k [00:20<00:45, 15it/s]\n",
      "\u001b[1A\r31.0%┣█████████████                             ┫ 310/1.0k [00:20<00:44, 16it/s]\n"
     ]
    },
    {
     "name": "stderr",
     "output_type": "stream",
     "text": [
      "\u001b[1A\r31.1%┣█████████████                             ┫ 311/1.0k [00:20<00:44, 16it/s]\n",
      "\u001b[1A\r31.3%┣█████████████▏                            ┫ 313/1.0k [00:20<00:44, 16it/s]\n"
     ]
    },
    {
     "name": "stderr",
     "output_type": "stream",
     "text": [
      "\u001b[1A\r31.5%┣█████████████▎                            ┫ 315/1.0k [00:20<00:44, 16it/s]\n",
      "\u001b[1A\r31.7%┣█████████████▎                            ┫ 317/1.0k [00:20<00:44, 16it/s]\n"
     ]
    },
    {
     "name": "stderr",
     "output_type": "stream",
     "text": [
      "\u001b[1A\r31.9%┣█████████████▍                            ┫ 319/1.0k [00:20<00:43, 16it/s]\n",
      "\u001b[1A\r32.1%┣█████████████▌                            ┫ 321/1.0k [00:20<00:43, 16it/s]\n"
     ]
    },
    {
     "name": "stderr",
     "output_type": "stream",
     "text": [
      "\u001b[1A\r32.3%┣█████████████▋                            ┫ 323/1.0k [00:20<00:43, 16it/s]\n",
      "\u001b[1A\r32.5%┣█████████████▋                            ┫ 325/1.0k [00:20<00:42, 16it/s]\n"
     ]
    },
    {
     "name": "stderr",
     "output_type": "stream",
     "text": [
      "\u001b[1A\r32.7%┣█████████████▊                            ┫ 327/1.0k [00:20<00:42, 16it/s]\n",
      "\u001b[1A\r32.9%┣█████████████▉                            ┫ 329/1.0k [00:20<00:42, 16it/s]\n"
     ]
    },
    {
     "name": "stderr",
     "output_type": "stream",
     "text": [
      "\u001b[1A\r33.1%┣██████████████                            ┫ 331/1.0k [00:21<00:42, 16it/s]\n",
      "\u001b[1A\r33.3%┣██████████████                            ┫ 333/1.0k [00:21<00:41, 16it/s]\n"
     ]
    },
    {
     "name": "stderr",
     "output_type": "stream",
     "text": [
      "\u001b[1A\r33.5%┣██████████████                            ┫ 335/1.0k [00:21<00:41, 16it/s]\n",
      "\u001b[1A\r33.7%┣██████████████▏                           ┫ 337/1.0k [00:21<00:41, 16it/s]"
     ]
    },
    {
     "name": "stderr",
     "output_type": "stream",
     "text": [
      "\n",
      "\u001b[1A\r33.9%┣██████████████▎                           ┫ 339/1.0k [00:21<00:41, 16it/s]\n",
      "\u001b[1A\r34.1%┣██████████████▎                           ┫ 341/1.0k [00:21<00:40, 16it/s]"
     ]
    },
    {
     "name": "stderr",
     "output_type": "stream",
     "text": [
      "\n",
      "\u001b[1A\r34.3%┣██████████████▍                           ┫ 343/1.0k [00:21<00:40, 16it/s]\n",
      "\u001b[1A\r34.5%┣██████████████▌                           ┫ 345/1.0k [00:21<00:40, 16it/s]\n"
     ]
    },
    {
     "name": "stderr",
     "output_type": "stream",
     "text": [
      "\u001b[1A\r34.7%┣██████████████▋                           ┫ 347/1.0k [00:21<00:40, 16it/s]\n",
      "\u001b[1A\r34.9%┣██████████████▋                           ┫ 349/1.0k [00:21<00:39, 17it/s]\n"
     ]
    },
    {
     "name": "stderr",
     "output_type": "stream",
     "text": [
      "\u001b[1A\r35.1%┣██████████████▊                           ┫ 351/1.0k [00:21<00:39, 17it/s]\n",
      "\u001b[1A\r35.3%┣██████████████▉                           ┫ 353/1.0k [00:21<00:39, 17it/s]\n"
     ]
    },
    {
     "name": "stderr",
     "output_type": "stream",
     "text": [
      "\u001b[1A\r35.5%┣███████████████                           ┫ 355/1.0k [00:21<00:39, 17it/s]\n",
      "\u001b[1A\r35.7%┣███████████████                           ┫ 357/1.0k [00:21<00:39, 17it/s]\n"
     ]
    },
    {
     "name": "stderr",
     "output_type": "stream",
     "text": [
      "\u001b[1A\r35.9%┣███████████████                           ┫ 359/1.0k [00:21<00:38, 17it/s]\n",
      "\u001b[1A\r36.1%┣███████████████▏                          ┫ 361/1.0k [00:21<00:38, 17it/s]\n"
     ]
    },
    {
     "name": "stderr",
     "output_type": "stream",
     "text": [
      "\u001b[1A\r36.3%┣███████████████▎                          ┫ 363/1.0k [00:21<00:38, 17it/s]\n",
      "\u001b[1A\r36.5%┣███████████████▎                          ┫ 365/1.0k [00:22<00:38, 17it/s]\n"
     ]
    },
    {
     "name": "stderr",
     "output_type": "stream",
     "text": [
      "\u001b[1A\r36.7%┣███████████████▍                          ┫ 367/1.0k [00:22<00:37, 17it/s]\n",
      "\u001b[1A\r36.9%┣███████████████▌                          ┫ 369/1.0k [00:22<00:37, 17it/s]\n"
     ]
    },
    {
     "name": "stderr",
     "output_type": "stream",
     "text": [
      "\u001b[1A\r37.1%┣███████████████▋                          ┫ 371/1.0k [00:22<00:37, 17it/s]\n",
      "\u001b[1A\r37.3%┣███████████████▋                          ┫ 373/1.0k [00:22<00:37, 17it/s]"
     ]
    },
    {
     "name": "stderr",
     "output_type": "stream",
     "text": [
      "\n",
      "\u001b[1A\r37.4%┣███████████████▊                          ┫ 374/1.0k [00:22<00:37, 17it/s]\n",
      "\u001b[1A\r37.6%┣███████████████▉                          ┫ 376/1.0k [00:22<00:36, 17it/s]\n"
     ]
    },
    {
     "name": "stderr",
     "output_type": "stream",
     "text": [
      "\u001b[1A\r37.8%┣███████████████▉                          ┫ 378/1.0k [00:22<00:36, 17it/s]\n",
      "\u001b[1A\r38.0%┣████████████████                          ┫ 380/1.0k [00:22<00:36, 17it/s]\n"
     ]
    },
    {
     "name": "stderr",
     "output_type": "stream",
     "text": [
      "\u001b[1A\r38.2%┣████████████████                          ┫ 382/1.0k [00:22<00:36, 17it/s]\n",
      "\u001b[1A\r38.3%┣████████████████                          ┫ 383/1.0k [00:22<00:36, 17it/s]"
     ]
    },
    {
     "name": "stderr",
     "output_type": "stream",
     "text": [
      "\n",
      "\u001b[1A\r38.4%┣████████████████▏                         ┫ 384/1.0k [00:22<00:36, 17it/s]\n",
      "\u001b[1A\r38.5%┣████████████████▏                         ┫ 385/1.0k [00:22<00:36, 17it/s]"
     ]
    },
    {
     "name": "stderr",
     "output_type": "stream",
     "text": [
      "\n",
      "\u001b[1A\r38.6%┣████████████████▏                         ┫ 386/1.0k [00:22<00:36, 17it/s]\n",
      "\u001b[1A\r38.8%┣████████████████▎                         ┫ 388/1.0k [00:23<00:36, 17it/s]\n"
     ]
    },
    {
     "name": "stderr",
     "output_type": "stream",
     "text": [
      "\u001b[1A\r39.0%┣████████████████▍                         ┫ 390/1.0k [00:23<00:35, 17it/s]\n",
      "\u001b[1A\r39.2%┣████████████████▌                         ┫ 392/1.0k [00:23<00:35, 17it/s]\n"
     ]
    },
    {
     "name": "stderr",
     "output_type": "stream",
     "text": [
      "\u001b[1A\r39.4%┣████████████████▌                         ┫ 394/1.0k [00:23<00:35, 17it/s]\n",
      "\u001b[1A\r39.6%┣████████████████▋                         ┫ 396/1.0k [00:23<00:35, 17it/s]\n"
     ]
    },
    {
     "name": "stderr",
     "output_type": "stream",
     "text": [
      "\u001b[1A\r39.8%┣████████████████▊                         ┫ 398/1.0k [00:23<00:35, 17it/s]\n",
      "\u001b[1A\r40.0%┣████████████████▉                         ┫ 400/1.0k [00:23<00:34, 17it/s]"
     ]
    },
    {
     "name": "stderr",
     "output_type": "stream",
     "text": [
      "\n",
      "\u001b[1A\r40.2%┣████████████████▉                         ┫ 402/1.0k [00:23<00:34, 17it/s]\n",
      "\u001b[1A\r40.4%┣█████████████████                         ┫ 404/1.0k [00:23<00:34, 17it/s]\n"
     ]
    },
    {
     "name": "stderr",
     "output_type": "stream",
     "text": [
      "\u001b[1A\r40.5%┣█████████████████                         ┫ 405/1.0k [00:23<00:34, 17it/s]\n",
      "\u001b[1A\r40.7%┣█████████████████                         ┫ 407/1.0k [00:23<00:34, 18it/s]\n"
     ]
    },
    {
     "name": "stderr",
     "output_type": "stream",
     "text": [
      "\u001b[1A\r40.9%┣█████████████████▏                        ┫ 409/1.0k [00:23<00:34, 18it/s]\n",
      "\u001b[1A\r41.1%┣█████████████████▎                        ┫ 411/1.0k [00:23<00:33, 18it/s]\n"
     ]
    },
    {
     "name": "stderr",
     "output_type": "stream",
     "text": [
      "\u001b[1A\r41.3%┣█████████████████▍                        ┫ 413/1.0k [00:23<00:33, 18it/s]\n",
      "\u001b[1A\r41.5%┣█████████████████▍                        ┫ 415/1.0k [00:23<00:33, 18it/s]\n"
     ]
    },
    {
     "name": "stderr",
     "output_type": "stream",
     "text": [
      "\u001b[1A\r41.7%┣█████████████████▌                        ┫ 417/1.0k [00:24<00:33, 18it/s]\n",
      "\u001b[1A\r41.9%┣█████████████████▋                        ┫ 419/1.0k [00:24<00:33, 18it/s]"
     ]
    },
    {
     "name": "stderr",
     "output_type": "stream",
     "text": [
      "\n",
      "\u001b[1A\r42.1%┣█████████████████▊                        ┫ 421/1.0k [00:24<00:33, 18it/s]\n",
      "\u001b[1A\r42.3%┣█████████████████▊                        ┫ 423/1.0k [00:24<00:32, 18it/s]\n"
     ]
    },
    {
     "name": "stderr",
     "output_type": "stream",
     "text": [
      "\u001b[1A\r42.5%┣█████████████████▉                        ┫ 425/1.0k [00:24<00:32, 18it/s]\n",
      "\u001b[1A\r42.7%┣██████████████████                        ┫ 427/1.0k [00:24<00:32, 18it/s]\n"
     ]
    },
    {
     "name": "stderr",
     "output_type": "stream",
     "text": [
      "\u001b[1A\r42.9%┣██████████████████                        ┫ 429/1.0k [00:24<00:32, 18it/s]\n",
      "\u001b[1A\r43.1%┣██████████████████                        ┫ 431/1.0k [00:24<00:32, 18it/s]\n"
     ]
    },
    {
     "name": "stderr",
     "output_type": "stream",
     "text": [
      "\u001b[1A\r43.3%┣██████████████████▏                       ┫ 433/1.0k [00:24<00:32, 18it/s]\n",
      "\u001b[1A\r43.5%┣██████████████████▎                       ┫ 435/1.0k [00:24<00:31, 18it/s]\n"
     ]
    },
    {
     "name": "stderr",
     "output_type": "stream",
     "text": [
      "\u001b[1A\r43.7%┣██████████████████▍                       ┫ 437/1.0k [00:24<00:31, 18it/s]\n",
      "\u001b[1A\r43.9%┣██████████████████▍                       ┫ 439/1.0k [00:24<00:31, 18it/s]\n"
     ]
    },
    {
     "name": "stderr",
     "output_type": "stream",
     "text": [
      "\u001b[1A\r44.1%┣██████████████████▌                       ┫ 441/1.0k [00:24<00:31, 18it/s]\n",
      "\u001b[1A\r44.3%┣██████████████████▋                       ┫ 443/1.0k [00:24<00:31, 18it/s]\n"
     ]
    },
    {
     "name": "stderr",
     "output_type": "stream",
     "text": [
      "\u001b[1A\r44.5%┣██████████████████▊                       ┫ 445/1.0k [00:24<00:30, 18it/s]\n",
      "\u001b[1A\r44.7%┣██████████████████▊                       ┫ 447/1.0k [00:24<00:30, 18it/s]\n"
     ]
    },
    {
     "name": "stderr",
     "output_type": "stream",
     "text": [
      "\u001b[1A\r44.9%┣██████████████████▉                       ┫ 449/1.0k [00:24<00:30, 18it/s]\n",
      "\u001b[1A\r45.1%┣███████████████████                       ┫ 451/1.0k [00:25<00:30, 18it/s]\n"
     ]
    },
    {
     "name": "stderr",
     "output_type": "stream",
     "text": [
      "\u001b[1A\r45.3%┣███████████████████                       ┫ 453/1.0k [00:25<00:30, 18it/s]\n",
      "\u001b[1A\r45.5%┣███████████████████                       ┫ 455/1.0k [00:25<00:30, 18it/s]"
     ]
    },
    {
     "name": "stderr",
     "output_type": "stream",
     "text": [
      "\n",
      "\u001b[1A\r45.7%┣███████████████████▏                      ┫ 457/1.0k [00:25<00:29, 18it/s]\n",
      "\u001b[1A\r45.9%┣███████████████████▎                      ┫ 459/1.0k [00:25<00:29, 18it/s]\n"
     ]
    },
    {
     "name": "stderr",
     "output_type": "stream",
     "text": [
      "\u001b[1A\r46.1%┣███████████████████▍                      ┫ 461/1.0k [00:25<00:29, 19it/s]\n",
      "\u001b[1A\r46.3%┣███████████████████▌                      ┫ 463/1.0k [00:25<00:29, 19it/s]\n"
     ]
    },
    {
     "name": "stderr",
     "output_type": "stream",
     "text": [
      "\u001b[1A\r46.5%┣███████████████████▌                      ┫ 465/1.0k [00:25<00:29, 19it/s]\n",
      "\u001b[1A\r46.7%┣███████████████████▋                      ┫ 467/1.0k [00:25<00:29, 19it/s]\n"
     ]
    },
    {
     "name": "stderr",
     "output_type": "stream",
     "text": [
      "\u001b[1A\r46.9%┣███████████████████▊                      ┫ 469/1.0k [00:25<00:28, 19it/s]\n",
      "\u001b[1A\r47.1%┣███████████████████▉                      ┫ 471/1.0k [00:25<00:28, 19it/s]\n"
     ]
    },
    {
     "name": "stderr",
     "output_type": "stream",
     "text": [
      "\u001b[1A\r47.2%┣███████████████████▉                      ┫ 472/1.0k [00:25<00:28, 19it/s]\n",
      "\u001b[1A\r47.3%┣███████████████████▉                      ┫ 473/1.0k [00:25<00:28, 19it/s]\n"
     ]
    },
    {
     "name": "stderr",
     "output_type": "stream",
     "text": [
      "\u001b[1A\r47.5%┣████████████████████                      ┫ 475/1.0k [00:25<00:28, 19it/s]\n",
      "\u001b[1A\r47.7%┣████████████████████                      ┫ 477/1.0k [00:25<00:28, 19it/s]\n"
     ]
    },
    {
     "name": "stderr",
     "output_type": "stream",
     "text": [
      "\u001b[1A\r47.9%┣████████████████████▏                     ┫ 479/1.0k [00:25<00:28, 19it/s]\n",
      "\u001b[1A\r48.1%┣████████████████████▏                     ┫ 481/1.0k [00:26<00:28, 19it/s]\n"
     ]
    },
    {
     "name": "stderr",
     "output_type": "stream",
     "text": [
      "\u001b[1A\r48.3%┣████████████████████▎                     ┫ 483/1.0k [00:26<00:27, 19it/s]\n",
      "\u001b[1A\r48.5%┣████████████████████▍                     ┫ 485/1.0k [00:26<00:27, 19it/s]\n"
     ]
    },
    {
     "name": "stderr",
     "output_type": "stream",
     "text": [
      "\u001b[1A\r48.7%┣████████████████████▌                     ┫ 487/1.0k [00:26<00:27, 19it/s]\n",
      "\u001b[1A\r48.9%┣████████████████████▌                     ┫ 489/1.0k [00:26<00:27, 19it/s]\n"
     ]
    },
    {
     "name": "stderr",
     "output_type": "stream",
     "text": [
      "\u001b[1A\r49.1%┣████████████████████▋                     ┫ 491/1.0k [00:26<00:27, 19it/s]\n",
      "\u001b[1A\r49.3%┣████████████████████▊                     ┫ 493/1.0k [00:26<00:27, 19it/s]\n"
     ]
    },
    {
     "name": "stderr",
     "output_type": "stream",
     "text": [
      "\u001b[1A\r49.5%┣████████████████████▉                     ┫ 495/1.0k [00:26<00:27, 19it/s]\n",
      "\u001b[1A\r49.7%┣████████████████████▉                     ┫ 497/1.0k [00:26<00:26, 19it/s]\n"
     ]
    },
    {
     "name": "stderr",
     "output_type": "stream",
     "text": [
      "\u001b[1A\r49.9%┣█████████████████████                     ┫ 499/1.0k [00:26<00:26, 19it/s]\n",
      "\u001b[1A\r50.1%┣█████████████████████                     ┫ 501/1.0k [00:26<00:26, 19it/s]\n"
     ]
    },
    {
     "name": "stderr",
     "output_type": "stream",
     "text": [
      "\u001b[1A\r50.3%┣█████████████████████▏                    ┫ 503/1.0k [00:26<00:26, 19it/s]\n",
      "\u001b[1A\r50.5%┣█████████████████████▏                    ┫ 505/1.0k [00:26<00:26, 19it/s]\n"
     ]
    },
    {
     "name": "stderr",
     "output_type": "stream",
     "text": [
      "\u001b[1A\r50.7%┣█████████████████████▎                    ┫ 507/1.0k [00:26<00:26, 19it/s]\n",
      "\u001b[1A\r50.9%┣█████████████████████▍                    ┫ 509/1.0k [00:26<00:25, 19it/s]\n"
     ]
    },
    {
     "name": "stderr",
     "output_type": "stream",
     "text": [
      "\u001b[1A\r51.1%┣█████████████████████▌                    ┫ 511/1.0k [00:26<00:25, 19it/s]\n",
      "\u001b[1A\r51.3%┣█████████████████████▌                    ┫ 513/1.0k [00:26<00:25, 19it/s]\n"
     ]
    },
    {
     "name": "stderr",
     "output_type": "stream",
     "text": [
      "\u001b[1A\r51.5%┣█████████████████████▋                    ┫ 515/1.0k [00:27<00:25, 19it/s]\n",
      "\u001b[1A\r51.7%┣█████████████████████▊                    ┫ 517/1.0k [00:27<00:25, 19it/s]\n"
     ]
    },
    {
     "name": "stderr",
     "output_type": "stream",
     "text": [
      "\u001b[1A\r51.9%┣█████████████████████▉                    ┫ 519/1.0k [00:27<00:25, 19it/s]\n",
      "\u001b[1A\r52.0%┣█████████████████████▉                    ┫ 520/1.0k [00:27<00:25, 19it/s]\n"
     ]
    },
    {
     "name": "stderr",
     "output_type": "stream",
     "text": [
      "\u001b[1A\r52.2%┣██████████████████████                    ┫ 522/1.0k [00:27<00:25, 19it/s]\n",
      "\u001b[1A\r52.3%┣██████████████████████                    ┫ 523/1.0k [00:27<00:25, 19it/s]\n"
     ]
    },
    {
     "name": "stderr",
     "output_type": "stream",
     "text": [
      "\u001b[1A\r52.5%┣██████████████████████                    ┫ 525/1.0k [00:27<00:24, 19it/s]\n",
      "\u001b[1A\r52.7%┣██████████████████████▏                   ┫ 527/1.0k [00:27<00:24, 19it/s]\n"
     ]
    },
    {
     "name": "stderr",
     "output_type": "stream",
     "text": [
      "\u001b[1A\r52.9%┣██████████████████████▏                   ┫ 529/1.0k [00:27<00:24, 20it/s]\n",
      "\u001b[1A\r53.1%┣██████████████████████▎                   ┫ 531/1.0k [00:27<00:24, 20it/s]\n"
     ]
    },
    {
     "name": "stderr",
     "output_type": "stream",
     "text": [
      "\u001b[1A\r53.3%┣██████████████████████▍                   ┫ 533/1.0k [00:27<00:24, 20it/s]\n",
      "\u001b[1A\r53.5%┣██████████████████████▌                   ┫ 535/1.0k [00:27<00:24, 20it/s]\n"
     ]
    },
    {
     "name": "stderr",
     "output_type": "stream",
     "text": [
      "\u001b[1A\r53.7%┣██████████████████████▌                   ┫ 537/1.0k [00:27<00:24, 20it/s]\n",
      "\u001b[1A\r53.9%┣██████████████████████▋                   ┫ 539/1.0k [00:27<00:23, 20it/s]\n"
     ]
    },
    {
     "name": "stderr",
     "output_type": "stream",
     "text": [
      "\u001b[1A\r54.1%┣██████████████████████▊                   ┫ 541/1.0k [00:27<00:23, 20it/s]\n",
      "\u001b[1A\r54.3%┣██████████████████████▉                   ┫ 543/1.0k [00:27<00:23, 20it/s]\n"
     ]
    },
    {
     "name": "stderr",
     "output_type": "stream",
     "text": [
      "\u001b[1A\r54.5%┣███████████████████████                   ┫ 545/1.0k [00:28<00:23, 20it/s]\n",
      "\u001b[1A\r54.7%┣███████████████████████                   ┫ 547/1.0k [00:28<00:23, 20it/s]\n"
     ]
    },
    {
     "name": "stderr",
     "output_type": "stream",
     "text": [
      "\u001b[1A\r54.9%┣███████████████████████                   ┫ 549/1.0k [00:28<00:23, 20it/s]\n",
      "\u001b[1A\r55.1%┣███████████████████████▏                  ┫ 551/1.0k [00:28<00:23, 20it/s]\n"
     ]
    },
    {
     "name": "stderr",
     "output_type": "stream",
     "text": [
      "\u001b[1A\r55.3%┣███████████████████████▎                  ┫ 553/1.0k [00:28<00:22, 20it/s]\n",
      "\u001b[1A\r55.5%┣███████████████████████▎                  ┫ 555/1.0k [00:28<00:22, 20it/s]"
     ]
    },
    {
     "name": "stderr",
     "output_type": "stream",
     "text": [
      "\n",
      "\u001b[1A\r55.7%┣███████████████████████▍                  ┫ 557/1.0k [00:28<00:22, 20it/s]\n",
      "\u001b[1A\r55.9%┣███████████████████████▌                  ┫ 559/1.0k [00:28<00:22, 20it/s]\n"
     ]
    },
    {
     "name": "stderr",
     "output_type": "stream",
     "text": [
      "\u001b[1A\r56.0%┣███████████████████████▌                  ┫ 560/1.0k [00:28<00:22, 20it/s]\n",
      "\u001b[1A\r56.2%┣███████████████████████▋                  ┫ 562/1.0k [00:28<00:22, 20it/s]\n"
     ]
    },
    {
     "name": "stderr",
     "output_type": "stream",
     "text": [
      "\u001b[1A\r56.4%┣███████████████████████▊                  ┫ 564/1.0k [00:28<00:22, 20it/s]\n",
      "\u001b[1A\r56.6%┣███████████████████████▊                  ┫ 566/1.0k [00:28<00:22, 20it/s]\n"
     ]
    },
    {
     "name": "stderr",
     "output_type": "stream",
     "text": [
      "\u001b[1A\r56.8%┣███████████████████████▉                  ┫ 568/1.0k [00:28<00:22, 20it/s]\n",
      "\u001b[1A\r57.0%┣████████████████████████                  ┫ 570/1.0k [00:28<00:21, 20it/s]\n"
     ]
    },
    {
     "name": "stderr",
     "output_type": "stream",
     "text": [
      "\u001b[1A\r57.2%┣████████████████████████                  ┫ 572/1.0k [00:28<00:21, 20it/s]\n",
      "\u001b[1A\r57.4%┣████████████████████████                  ┫ 574/1.0k [00:28<00:21, 20it/s]"
     ]
    },
    {
     "name": "stderr",
     "output_type": "stream",
     "text": [
      "\n",
      "\u001b[1A\r57.6%┣████████████████████████▏                 ┫ 576/1.0k [00:29<00:21, 20it/s]\n",
      "\u001b[1A\r57.8%┣████████████████████████▎                 ┫ 578/1.0k [00:29<00:21, 20it/s]\n"
     ]
    },
    {
     "name": "stderr",
     "output_type": "stream",
     "text": [
      "\u001b[1A\r58.0%┣████████████████████████▍                 ┫ 580/1.0k [00:29<00:21, 20it/s]\n",
      "\u001b[1A\r58.2%┣████████████████████████▍                 ┫ 582/1.0k [00:29<00:21, 20it/s]\n"
     ]
    },
    {
     "name": "stderr",
     "output_type": "stream",
     "text": [
      "\u001b[1A\r58.4%┣████████████████████████▌                 ┫ 584/1.0k [00:29<00:21, 20it/s]\n",
      "\u001b[1A\r58.6%┣████████████████████████▋                 ┫ 586/1.0k [00:29<00:20, 20it/s]\n"
     ]
    },
    {
     "name": "stderr",
     "output_type": "stream",
     "text": [
      "\u001b[1A\r58.8%┣████████████████████████▊                 ┫ 588/1.0k [00:29<00:20, 20it/s]\n",
      "\u001b[1A\r59.0%┣████████████████████████▉                 ┫ 590/1.0k [00:29<00:20, 20it/s]\n"
     ]
    },
    {
     "name": "stderr",
     "output_type": "stream",
     "text": [
      "\u001b[1A\r59.1%┣████████████████████████▉                 ┫ 591/1.0k [00:29<00:20, 20it/s]\n",
      "\u001b[1A\r59.3%┣█████████████████████████                 ┫ 593/1.0k [00:29<00:20, 20it/s]\n"
     ]
    },
    {
     "name": "stderr",
     "output_type": "stream",
     "text": [
      "\u001b[1A\r59.5%┣█████████████████████████                 ┫ 595/1.0k [00:29<00:20, 20it/s]\n",
      "\u001b[1A\r59.7%┣█████████████████████████                 ┫ 597/1.0k [00:29<00:20, 20it/s]\n"
     ]
    },
    {
     "name": "stderr",
     "output_type": "stream",
     "text": [
      "\u001b[1A\r59.9%┣█████████████████████████▏                ┫ 599/1.0k [00:29<00:20, 20it/s]\n",
      "\u001b[1A\r60.1%┣█████████████████████████▎                ┫ 601/1.0k [00:29<00:20, 20it/s]\n"
     ]
    },
    {
     "name": "stderr",
     "output_type": "stream",
     "text": [
      "\u001b[1A\r60.3%┣█████████████████████████▎                ┫ 603/1.0k [00:29<00:19, 20it/s]\n",
      "\u001b[1A\r60.5%┣█████████████████████████▍                ┫ 605/1.0k [00:29<00:19, 20it/s]\n"
     ]
    },
    {
     "name": "stderr",
     "output_type": "stream",
     "text": [
      "\u001b[1A\r60.7%┣█████████████████████████▌                ┫ 607/1.0k [00:30<00:19, 21it/s]\n",
      "\u001b[1A\r60.9%┣█████████████████████████▋                ┫ 609/1.0k [00:30<00:19, 21it/s]\n"
     ]
    },
    {
     "name": "stderr",
     "output_type": "stream",
     "text": [
      "\u001b[1A\r61.1%┣█████████████████████████▋                ┫ 611/1.0k [00:30<00:19, 21it/s]\n",
      "\u001b[1A\r61.3%┣█████████████████████████▊                ┫ 613/1.0k [00:30<00:19, 21it/s]\n"
     ]
    },
    {
     "name": "stderr",
     "output_type": "stream",
     "text": [
      "\u001b[1A\r61.5%┣█████████████████████████▉                ┫ 615/1.0k [00:30<00:19, 21it/s]\n",
      "\u001b[1A\r61.7%┣██████████████████████████                ┫ 617/1.0k [00:30<00:19, 21it/s]\n"
     ]
    },
    {
     "name": "stderr",
     "output_type": "stream",
     "text": [
      "\u001b[1A\r61.9%┣██████████████████████████                ┫ 619/1.0k [00:30<00:18, 21it/s]\n",
      "\u001b[1A\r62.1%┣██████████████████████████                ┫ 621/1.0k [00:30<00:18, 21it/s]\n"
     ]
    },
    {
     "name": "stderr",
     "output_type": "stream",
     "text": [
      "\u001b[1A\r62.3%┣██████████████████████████▏               ┫ 623/1.0k [00:30<00:18, 21it/s]\n",
      "\u001b[1A\r62.5%┣██████████████████████████▎               ┫ 625/1.0k [00:30<00:18, 21it/s]\n"
     ]
    },
    {
     "name": "stderr",
     "output_type": "stream",
     "text": [
      "\u001b[1A\r62.7%┣██████████████████████████▍               ┫ 627/1.0k [00:30<00:18, 21it/s]\n",
      "\u001b[1A\r62.9%┣██████████████████████████▍               ┫ 629/1.0k [00:30<00:18, 21it/s]\n",
      "\u001b[1A"
     ]
    },
    {
     "name": "stderr",
     "output_type": "stream",
     "text": [
      "\r63.1%┣██████████████████████████▌               ┫ 631/1.0k [00:30<00:18, 21it/s]\n",
      "\u001b[1A\r63.3%┣██████████████████████████▋               ┫ 633/1.0k [00:30<00:18, 21it/s]\n"
     ]
    },
    {
     "name": "stderr",
     "output_type": "stream",
     "text": [
      "\u001b[1A\r63.5%┣██████████████████████████▊               ┫ 635/1.0k [00:30<00:18, 21it/s]\n",
      "\u001b[1A\r63.7%┣██████████████████████████▊               ┫ 637/1.0k [00:30<00:17, 21it/s]\n"
     ]
    },
    {
     "name": "stderr",
     "output_type": "stream",
     "text": [
      "\u001b[1A\r63.9%┣██████████████████████████▉               ┫ 639/1.0k [00:31<00:17, 21it/s]\n",
      "\u001b[1A\r64.1%┣███████████████████████████               ┫ 641/1.0k [00:31<00:17, 21it/s]\n"
     ]
    },
    {
     "name": "stderr",
     "output_type": "stream",
     "text": [
      "\u001b[1A\r64.3%┣███████████████████████████               ┫ 643/1.0k [00:31<00:17, 21it/s]\n",
      "\u001b[1A\r64.5%┣███████████████████████████               ┫ 645/1.0k [00:31<00:17, 21it/s]\n"
     ]
    },
    {
     "name": "stderr",
     "output_type": "stream",
     "text": [
      "\u001b[1A\r64.7%┣███████████████████████████▏              ┫ 647/1.0k [00:31<00:17, 21it/s]\n",
      "\u001b[1A\r64.9%┣███████████████████████████▎              ┫ 649/1.0k [00:31<00:17, 21it/s]\n"
     ]
    },
    {
     "name": "stderr",
     "output_type": "stream",
     "text": [
      "\u001b[1A\r65.1%┣███████████████████████████▍              ┫ 651/1.0k [00:31<00:17, 21it/s]\n",
      "\u001b[1A\r65.3%┣███████████████████████████▍              ┫ 653/1.0k [00:31<00:16, 21it/s]\n"
     ]
    },
    {
     "name": "stderr",
     "output_type": "stream",
     "text": [
      "\u001b[1A\r65.5%┣███████████████████████████▌              ┫ 655/1.0k [00:31<00:16, 21it/s]\n",
      "\u001b[1A\r65.7%┣███████████████████████████▋              ┫ 657/1.0k [00:31<00:16, 21it/s]\n"
     ]
    },
    {
     "name": "stderr",
     "output_type": "stream",
     "text": [
      "\u001b[1A\r65.9%┣███████████████████████████▊              ┫ 659/1.0k [00:31<00:16, 21it/s]\n",
      "\u001b[1A\r66.1%┣███████████████████████████▊              ┫ 661/1.0k [00:31<00:16, 21it/s]"
     ]
    },
    {
     "name": "stderr",
     "output_type": "stream",
     "text": [
      "\n",
      "\u001b[1A\r66.3%┣███████████████████████████▉              ┫ 663/1.0k [00:31<00:16, 21it/s]\n",
      "\u001b[1A\r66.5%┣████████████████████████████              ┫ 665/1.0k [00:31<00:16, 21it/s]\n"
     ]
    },
    {
     "name": "stderr",
     "output_type": "stream",
     "text": [
      "\u001b[1A\r66.7%┣████████████████████████████              ┫ 667/1.0k [00:32<00:16, 21it/s]\n",
      "\u001b[1A\r66.9%┣████████████████████████████              ┫ 669/1.0k [00:32<00:16, 21it/s]\n"
     ]
    },
    {
     "name": "stderr",
     "output_type": "stream",
     "text": [
      "\u001b[1A\r67.1%┣████████████████████████████▏             ┫ 671/1.0k [00:32<00:16, 21it/s]\n",
      "\u001b[1A\r67.3%┣████████████████████████████▎             ┫ 673/1.0k [00:32<00:15, 21it/s]"
     ]
    },
    {
     "name": "stderr",
     "output_type": "stream",
     "text": [
      "\n",
      "\u001b[1A\r67.5%┣████████████████████████████▍             ┫ 675/1.0k [00:32<00:15, 21it/s]\n",
      "\u001b[1A\r67.7%┣████████████████████████████▍             ┫ 677/1.0k [00:32<00:15, 21it/s]\n"
     ]
    },
    {
     "name": "stderr",
     "output_type": "stream",
     "text": [
      "\u001b[1A\r67.9%┣████████████████████████████▌             ┫ 679/1.0k [00:32<00:15, 21it/s]\n",
      "\u001b[1A\r68.1%┣████████████████████████████▋             ┫ 681/1.0k [00:32<00:15, 21it/s]\n"
     ]
    },
    {
     "name": "stderr",
     "output_type": "stream",
     "text": [
      "\u001b[1A\r68.3%┣████████████████████████████▊             ┫ 683/1.0k [00:32<00:15, 21it/s]\n",
      "\u001b[1A\r68.5%┣████████████████████████████▊             ┫ 685/1.0k [00:32<00:15, 21it/s]\n"
     ]
    },
    {
     "name": "stderr",
     "output_type": "stream",
     "text": [
      "\u001b[1A\r68.7%┣████████████████████████████▉             ┫ 687/1.0k [00:32<00:15, 21it/s]\n",
      "\u001b[1A\r68.9%┣█████████████████████████████             ┫ 689/1.0k [00:32<00:15, 21it/s]"
     ]
    },
    {
     "name": "stderr",
     "output_type": "stream",
     "text": [
      "\n",
      "\u001b[1A\r69.0%┣█████████████████████████████             ┫ 690/1.0k [00:32<00:15, 21it/s]\n",
      "\u001b[1A\r69.1%┣█████████████████████████████             ┫ 691/1.0k [00:32<00:14, 21it/s]\n"
     ]
    },
    {
     "name": "stderr",
     "output_type": "stream",
     "text": [
      "\u001b[1A\r69.2%┣█████████████████████████████             ┫ 692/1.0k [00:32<00:14, 21it/s]\n",
      "\u001b[1A\r69.4%┣█████████████████████████████▏            ┫ 694/1.0k [00:32<00:14, 21it/s]\n"
     ]
    },
    {
     "name": "stderr",
     "output_type": "stream",
     "text": [
      "\u001b[1A\r69.6%┣█████████████████████████████▎            ┫ 696/1.0k [00:33<00:14, 21it/s]\n",
      "\u001b[1A\r69.8%┣█████████████████████████████▎            ┫ 698/1.0k [00:33<00:14, 21it/s]\n"
     ]
    },
    {
     "name": "stderr",
     "output_type": "stream",
     "text": [
      "\u001b[1A\r70.0%┣█████████████████████████████▍            ┫ 700/1.0k [00:33<00:14, 21it/s]\n",
      "\u001b[1A\r70.2%┣█████████████████████████████▌            ┫ 702/1.0k [00:33<00:14, 21it/s]\n"
     ]
    },
    {
     "name": "stderr",
     "output_type": "stream",
     "text": [
      "\u001b[1A\r70.4%┣█████████████████████████████▋            ┫ 704/1.0k [00:33<00:14, 21it/s]\n",
      "\u001b[1A\r70.6%┣█████████████████████████████▋            ┫ 706/1.0k [00:33<00:14, 21it/s]\n"
     ]
    },
    {
     "name": "stderr",
     "output_type": "stream",
     "text": [
      "\u001b[1A\r70.8%┣█████████████████████████████▊            ┫ 708/1.0k [00:33<00:14, 21it/s]\n",
      "\u001b[1A\r71.0%┣█████████████████████████████▉            ┫ 710/1.0k [00:33<00:13, 22it/s]\n"
     ]
    },
    {
     "name": "stderr",
     "output_type": "stream",
     "text": [
      "\u001b[1A\r71.2%┣██████████████████████████████            ┫ 712/1.0k [00:33<00:13, 22it/s]\n"
     ]
    },
    {
     "name": "stderr",
     "output_type": "stream",
     "text": [
      "\u001b[1A\r71.4%┣██████████████████████████████            ┫ 714/1.0k [00:33<00:13, 22it/s]\n",
      "\u001b[1A\r71.6%┣██████████████████████████████            ┫ 716/1.0k [00:33<00:13, 22it/s]\n"
     ]
    },
    {
     "name": "stderr",
     "output_type": "stream",
     "text": [
      "\u001b[1A\r71.8%┣██████████████████████████████▏           ┫ 718/1.0k [00:33<00:13, 22it/s]\n",
      "\u001b[1A\r72.0%┣██████████████████████████████▎           ┫ 720/1.0k [00:33<00:13, 22it/s]"
     ]
    },
    {
     "name": "stderr",
     "output_type": "stream",
     "text": [
      "\n",
      "\u001b[1A\r72.2%┣██████████████████████████████▎           ┫ 722/1.0k [00:33<00:13, 22it/s]\n",
      "\u001b[1A\r72.4%┣██████████████████████████████▍           ┫ 724/1.0k [00:33<00:13, 22it/s]\n"
     ]
    },
    {
     "name": "stderr",
     "output_type": "stream",
     "text": [
      "\u001b[1A\r72.6%┣██████████████████████████████▌           ┫ 726/1.0k [00:34<00:13, 22it/s]\n",
      "\u001b[1A\r72.8%┣██████████████████████████████▋           ┫ 728/1.0k [00:34<00:13, 22it/s]\n"
     ]
    },
    {
     "name": "stderr",
     "output_type": "stream",
     "text": [
      "\u001b[1A\r73.0%┣██████████████████████████████▋           ┫ 730/1.0k [00:34<00:12, 22it/s]\n",
      "\u001b[1A\r73.2%┣██████████████████████████████▊           ┫ 732/1.0k [00:34<00:12, 22it/s]\n"
     ]
    },
    {
     "name": "stderr",
     "output_type": "stream",
     "text": [
      "\u001b[1A\r73.4%┣██████████████████████████████▉           ┫ 734/1.0k [00:34<00:12, 22it/s]\n",
      "\u001b[1A\r73.6%┣███████████████████████████████           ┫ 736/1.0k [00:34<00:12, 22it/s]\n"
     ]
    },
    {
     "name": "stderr",
     "output_type": "stream",
     "text": [
      "\u001b[1A\r73.8%┣███████████████████████████████           ┫ 738/1.0k [00:34<00:12, 22it/s]\n",
      "\u001b[1A\r74.0%┣███████████████████████████████           ┫ 740/1.0k [00:34<00:12, 22it/s]\n"
     ]
    },
    {
     "name": "stderr",
     "output_type": "stream",
     "text": [
      "\u001b[1A\r74.2%┣███████████████████████████████▏          ┫ 742/1.0k [00:34<00:12, 22it/s]\n",
      "\u001b[1A\r74.4%┣███████████████████████████████▎          ┫ 744/1.0k [00:34<00:12, 22it/s]"
     ]
    },
    {
     "name": "stderr",
     "output_type": "stream",
     "text": [
      "\n",
      "\u001b[1A\r74.6%┣███████████████████████████████▎          ┫ 746/1.0k [00:34<00:12, 22it/s]\n",
      "\u001b[1A\r74.8%┣███████████████████████████████▍          ┫ 748/1.0k [00:34<00:12, 22it/s]\n"
     ]
    },
    {
     "name": "stderr",
     "output_type": "stream",
     "text": [
      "\u001b[1A\r75.0%┣███████████████████████████████▌          ┫ 750/1.0k [00:34<00:11, 22it/s]\n",
      "\u001b[1A\r75.2%┣███████████████████████████████▋          ┫ 752/1.0k [00:34<00:11, 22it/s]\n"
     ]
    },
    {
     "name": "stderr",
     "output_type": "stream",
     "text": [
      "\u001b[1A\r75.4%┣███████████████████████████████▊          ┫ 754/1.0k [00:34<00:11, 22it/s]\n",
      "\u001b[1A\r75.6%┣███████████████████████████████▊          ┫ 756/1.0k [00:34<00:11, 22it/s]\n"
     ]
    },
    {
     "name": "stderr",
     "output_type": "stream",
     "text": [
      "\u001b[1A\r75.8%┣███████████████████████████████▉          ┫ 758/1.0k [00:34<00:11, 22it/s]\n",
      "\u001b[1A\r76.0%┣████████████████████████████████          ┫ 760/1.0k [00:34<00:11, 22it/s]\n"
     ]
    },
    {
     "name": "stderr",
     "output_type": "stream",
     "text": [
      "\u001b[1A\r76.2%┣████████████████████████████████          ┫ 762/1.0k [00:35<00:11, 22it/s]\n",
      "\u001b[1A\r76.4%┣████████████████████████████████          ┫ 764/1.0k [00:35<00:11, 22it/s]"
     ]
    },
    {
     "name": "stderr",
     "output_type": "stream",
     "text": [
      "\n",
      "\u001b[1A\r76.6%┣████████████████████████████████▏         ┫ 766/1.0k [00:35<00:11, 22it/s]\n",
      "\u001b[1A\r76.8%┣████████████████████████████████▎         ┫ 768/1.0k [00:35<00:11, 22it/s]\n"
     ]
    },
    {
     "name": "stderr",
     "output_type": "stream",
     "text": [
      "\u001b[1A\r77.0%┣████████████████████████████████▍         ┫ 770/1.0k [00:35<00:10, 22it/s]\n",
      "\u001b[1A\r77.2%┣████████████████████████████████▍         ┫ 772/1.0k [00:35<00:10, 22it/s]\n"
     ]
    },
    {
     "name": "stderr",
     "output_type": "stream",
     "text": [
      "\u001b[1A\r77.4%┣████████████████████████████████▌         ┫ 774/1.0k [00:35<00:10, 22it/s]\n",
      "\u001b[1A\r77.6%┣████████████████████████████████▋         ┫ 776/1.0k [00:35<00:10, 22it/s]\n"
     ]
    },
    {
     "name": "stderr",
     "output_type": "stream",
     "text": [
      "\u001b[1A\r77.8%┣████████████████████████████████▊         ┫ 778/1.0k [00:35<00:10, 22it/s]\n",
      "\u001b[1A\r78.0%┣████████████████████████████████▊         ┫ 780/1.0k [00:35<00:10, 22it/s]\n"
     ]
    },
    {
     "name": "stderr",
     "output_type": "stream",
     "text": [
      "\u001b[1A\r78.2%┣████████████████████████████████▉         ┫ 782/1.0k [00:35<00:10, 22it/s]\n",
      "\u001b[1A\r78.4%┣█████████████████████████████████         ┫ 784/1.0k [00:35<00:10, 22it/s]"
     ]
    },
    {
     "name": "stderr",
     "output_type": "stream",
     "text": [
      "\n",
      "\u001b[1A\r78.6%┣█████████████████████████████████         ┫ 786/1.0k [00:35<00:10, 22it/s]\n",
      "\u001b[1A\r78.8%┣█████████████████████████████████         ┫ 788/1.0k [00:35<00:10, 22it/s]\n"
     ]
    },
    {
     "name": "stderr",
     "output_type": "stream",
     "text": [
      "\u001b[1A\r79.0%┣█████████████████████████████████▏        ┫ 790/1.0k [00:35<00:09, 22it/s]\n",
      "\u001b[1A\r79.2%┣█████████████████████████████████▎        ┫ 792/1.0k [00:35<00:09, 22it/s]\n"
     ]
    },
    {
     "name": "stderr",
     "output_type": "stream",
     "text": [
      "\u001b[1A\r79.4%┣█████████████████████████████████▍        ┫ 794/1.0k [00:35<00:09, 22it/s]\n",
      "\u001b[1A\r79.6%┣█████████████████████████████████▍        ┫ 796/1.0k [00:36<00:09, 22it/s]\n"
     ]
    },
    {
     "name": "stderr",
     "output_type": "stream",
     "text": [
      "\u001b[1A\r79.8%┣█████████████████████████████████▌        ┫ 798/1.0k [00:36<00:09, 22it/s]\n",
      "\u001b[1A\r80.0%┣█████████████████████████████████▋        ┫ 800/1.0k [00:36<00:09, 22it/s]\n"
     ]
    },
    {
     "name": "stderr",
     "output_type": "stream",
     "text": [
      "\u001b[1A\r80.2%┣█████████████████████████████████▊        ┫ 802/1.0k [00:36<00:09, 22it/s]\n",
      "\u001b[1A\r80.4%┣█████████████████████████████████▊        ┫ 804/1.0k [00:36<00:09, 22it/s]\n"
     ]
    },
    {
     "name": "stderr",
     "output_type": "stream",
     "text": [
      "\u001b[1A\r80.6%┣█████████████████████████████████▉        ┫ 806/1.0k [00:36<00:09, 22it/s]\n",
      "\u001b[1A\r80.8%┣██████████████████████████████████        ┫ 808/1.0k [00:36<00:09, 22it/s]\n"
     ]
    },
    {
     "name": "stderr",
     "output_type": "stream",
     "text": [
      "\u001b[1A\r81.0%┣██████████████████████████████████        ┫ 810/1.0k [00:36<00:08, 22it/s]\n",
      "\u001b[1A\r81.2%┣██████████████████████████████████        ┫ 812/1.0k [00:36<00:08, 22it/s]\n"
     ]
    },
    {
     "name": "stderr",
     "output_type": "stream",
     "text": [
      "\u001b[1A\r81.4%┣██████████████████████████████████▏       ┫ 814/1.0k [00:36<00:08, 23it/s]\n",
      "\u001b[1A\r81.6%┣██████████████████████████████████▎       ┫ 816/1.0k [00:36<00:08, 23it/s]\n"
     ]
    },
    {
     "name": "stderr",
     "output_type": "stream",
     "text": [
      "\u001b[1A\r81.8%┣██████████████████████████████████▍       ┫ 818/1.0k [00:36<00:08, 23it/s]\n",
      "\u001b[1A\r82.0%┣██████████████████████████████████▍       ┫ 820/1.0k [00:36<00:08, 23it/s]\n"
     ]
    },
    {
     "name": "stderr",
     "output_type": "stream",
     "text": [
      "\u001b[1A\r82.2%┣██████████████████████████████████▌       ┫ 822/1.0k [00:36<00:08, 23it/s]\n",
      "\u001b[1A\r82.4%┣██████████████████████████████████▋       ┫ 824/1.0k [00:36<00:08, 23it/s]\n"
     ]
    },
    {
     "name": "stderr",
     "output_type": "stream",
     "text": [
      "\u001b[1A\r82.6%┣██████████████████████████████████▊       ┫ 826/1.0k [00:36<00:08, 23it/s]\n",
      "\u001b[1A\r82.8%┣██████████████████████████████████▊       ┫ 828/1.0k [00:37<00:08, 23it/s]\n"
     ]
    },
    {
     "name": "stderr",
     "output_type": "stream",
     "text": [
      "\u001b[1A\r83.0%┣██████████████████████████████████▉       ┫ 830/1.0k [00:37<00:08, 23it/s]\n",
      "\u001b[1A\r83.2%┣███████████████████████████████████       ┫ 832/1.0k [00:37<00:07, 23it/s]\n"
     ]
    },
    {
     "name": "stderr",
     "output_type": "stream",
     "text": [
      "\u001b[1A\r83.4%┣███████████████████████████████████       ┫ 834/1.0k [00:37<00:07, 23it/s]\n",
      "\u001b[1A\r83.6%┣███████████████████████████████████▏      ┫ 836/1.0k [00:37<00:07, 23it/s]\n"
     ]
    },
    {
     "name": "stderr",
     "output_type": "stream",
     "text": [
      "\u001b[1A\r83.8%┣███████████████████████████████████▏      ┫ 838/1.0k [00:37<00:07, 23it/s]\n",
      "\u001b[1A\r84.0%┣███████████████████████████████████▎      ┫ 840/1.0k [00:37<00:07, 23it/s]\n"
     ]
    },
    {
     "name": "stderr",
     "output_type": "stream",
     "text": [
      "\u001b[1A\r84.2%┣███████████████████████████████████▍      ┫ 842/1.0k [00:37<00:07, 23it/s]\n",
      "\u001b[1A\r84.4%┣███████████████████████████████████▌      ┫ 844/1.0k [00:37<00:07, 23it/s]\n"
     ]
    },
    {
     "name": "stderr",
     "output_type": "stream",
     "text": [
      "\u001b[1A\r84.6%┣███████████████████████████████████▌      ┫ 846/1.0k [00:37<00:07, 23it/s]\n",
      "\u001b[1A\r84.8%┣███████████████████████████████████▋      ┫ 848/1.0k [00:37<00:07, 23it/s]\n"
     ]
    },
    {
     "name": "stderr",
     "output_type": "stream",
     "text": [
      "\u001b[1A\r85.0%┣███████████████████████████████████▊      ┫ 850/1.0k [00:37<00:07, 23it/s]\n",
      "\u001b[1A\r85.2%┣███████████████████████████████████▉      ┫ 852/1.0k [00:37<00:06, 23it/s]\n"
     ]
    },
    {
     "name": "stderr",
     "output_type": "stream",
     "text": [
      "\u001b[1A\r85.4%┣███████████████████████████████████▉      ┫ 854/1.0k [00:37<00:06, 23it/s]\n",
      "\u001b[1A\r85.6%┣████████████████████████████████████      ┫ 856/1.0k [00:37<00:06, 23it/s]\n"
     ]
    },
    {
     "name": "stderr",
     "output_type": "stream",
     "text": [
      "\u001b[1A\r85.8%┣████████████████████████████████████      ┫ 858/1.0k [00:37<00:06, 23it/s]\n",
      "\u001b[1A\r86.0%┣████████████████████████████████████▏     ┫ 860/1.0k [00:38<00:06, 23it/s]\n"
     ]
    },
    {
     "name": "stderr",
     "output_type": "stream",
     "text": [
      "\u001b[1A\r86.2%┣████████████████████████████████████▏     ┫ 862/1.0k [00:38<00:06, 23it/s]\n",
      "\u001b[1A\r86.4%┣████████████████████████████████████▎     ┫ 864/1.0k [00:38<00:06, 23it/s]\n"
     ]
    },
    {
     "name": "stderr",
     "output_type": "stream",
     "text": [
      "\u001b[1A\r86.6%┣████████████████████████████████████▍     ┫ 866/1.0k [00:38<00:06, 23it/s]\n",
      "\u001b[1A\r86.8%┣████████████████████████████████████▌     ┫ 868/1.0k [00:38<00:06, 23it/s]\n"
     ]
    },
    {
     "name": "stderr",
     "output_type": "stream",
     "text": [
      "\u001b[1A\r87.0%┣████████████████████████████████████▌     ┫ 870/1.0k [00:38<00:06, 23it/s]\n",
      "\u001b[1A\r87.2%┣████████████████████████████████████▋     ┫ 872/1.0k [00:38<00:06, 23it/s]\n"
     ]
    },
    {
     "name": "stderr",
     "output_type": "stream",
     "text": [
      "\u001b[1A\r87.4%┣████████████████████████████████████▊     ┫ 874/1.0k [00:38<00:05, 23it/s]\n",
      "\u001b[1A\r87.6%┣████████████████████████████████████▉     ┫ 876/1.0k [00:38<00:05, 23it/s]"
     ]
    },
    {
     "name": "stderr",
     "output_type": "stream",
     "text": [
      "\n",
      "\u001b[1A\r87.7%┣████████████████████████████████████▉     ┫ 877/1.0k [00:38<00:05, 23it/s]\n",
      "\u001b[1A\r87.9%┣█████████████████████████████████████     ┫ 879/1.0k [00:38<00:05, 23it/s]\n"
     ]
    },
    {
     "name": "stderr",
     "output_type": "stream",
     "text": [
      "\u001b[1A\r88.1%┣█████████████████████████████████████     ┫ 881/1.0k [00:38<00:05, 23it/s]\n",
      "\u001b[1A\r88.3%┣█████████████████████████████████████     ┫ 883/1.0k [00:38<00:05, 23it/s]"
     ]
    },
    {
     "name": "stderr",
     "output_type": "stream",
     "text": [
      "\n",
      "\u001b[1A\r88.5%┣█████████████████████████████████████▏    ┫ 885/1.0k [00:38<00:05, 23it/s]\n",
      "\u001b[1A\r88.7%┣█████████████████████████████████████▎    ┫ 887/1.0k [00:38<00:05, 23it/s]"
     ]
    },
    {
     "name": "stderr",
     "output_type": "stream",
     "text": [
      "\n",
      "\u001b[1A\r88.9%┣█████████████████████████████████████▍    ┫ 889/1.0k [00:38<00:05, 23it/s]\n",
      "\u001b[1A\r89.1%┣█████████████████████████████████████▍    ┫ 891/1.0k [00:39<00:05, 23it/s]\n"
     ]
    },
    {
     "name": "stderr",
     "output_type": "stream",
     "text": [
      "\u001b[1A\r89.3%┣█████████████████████████████████████▌    ┫ 893/1.0k [00:39<00:05, 23it/s]\n",
      "\u001b[1A\r89.5%┣█████████████████████████████████████▋    ┫ 895/1.0k [00:39<00:05, 23it/s]\n"
     ]
    },
    {
     "name": "stderr",
     "output_type": "stream",
     "text": [
      "\u001b[1A\r89.7%┣█████████████████████████████████████▊    ┫ 897/1.0k [00:39<00:04, 23it/s]\n",
      "\u001b[1A\r89.9%┣█████████████████████████████████████▊    ┫ 899/1.0k [00:39<00:04, 23it/s]\n"
     ]
    },
    {
     "name": "stderr",
     "output_type": "stream",
     "text": [
      "\u001b[1A\r90.1%┣█████████████████████████████████████▉    ┫ 901/1.0k [00:39<00:04, 23it/s]\n",
      "\u001b[1A\r90.3%┣██████████████████████████████████████    ┫ 903/1.0k [00:39<00:04, 23it/s]"
     ]
    },
    {
     "name": "stderr",
     "output_type": "stream",
     "text": [
      "\n",
      "\u001b[1A\r90.5%┣██████████████████████████████████████    ┫ 905/1.0k [00:39<00:04, 23it/s]\n",
      "\u001b[1A\r90.7%┣██████████████████████████████████████    ┫ 907/1.0k [00:39<00:04, 23it/s]\n"
     ]
    },
    {
     "name": "stderr",
     "output_type": "stream",
     "text": [
      "\u001b[1A\r90.9%┣██████████████████████████████████████▏   ┫ 909/1.0k [00:39<00:04, 23it/s]\n",
      "\u001b[1A\r91.1%┣██████████████████████████████████████▎   ┫ 911/1.0k [00:39<00:04, 23it/s]"
     ]
    },
    {
     "name": "stderr",
     "output_type": "stream",
     "text": [
      "\n",
      "\u001b[1A\r91.3%┣██████████████████████████████████████▍   ┫ 913/1.0k [00:39<00:04, 23it/s]\n",
      "\u001b[1A\r91.5%┣██████████████████████████████████████▍   ┫ 915/1.0k [00:39<00:04, 23it/s]"
     ]
    },
    {
     "name": "stderr",
     "output_type": "stream",
     "text": [
      "\n",
      "\u001b[1A\r91.7%┣██████████████████████████████████████▌   ┫ 917/1.0k [00:39<00:04, 23it/s]\n",
      "\u001b[1A\r91.9%┣██████████████████████████████████████▋   ┫ 919/1.0k [00:39<00:03, 23it/s]\n"
     ]
    },
    {
     "name": "stderr",
     "output_type": "stream",
     "text": [
      "\u001b[1A\r92.1%┣██████████████████████████████████████▊   ┫ 921/1.0k [00:39<00:03, 23it/s]\n",
      "\u001b[1A\r92.3%┣██████████████████████████████████████▊   ┫ 923/1.0k [00:39<00:03, 23it/s]\n"
     ]
    },
    {
     "name": "stderr",
     "output_type": "stream",
     "text": [
      "\u001b[1A\r92.5%┣██████████████████████████████████████▉   ┫ 925/1.0k [00:40<00:03, 23it/s]\n",
      "\u001b[1A\r92.7%┣███████████████████████████████████████   ┫ 927/1.0k [00:40<00:03, 23it/s]\n"
     ]
    },
    {
     "name": "stderr",
     "output_type": "stream",
     "text": [
      "\u001b[1A\r92.9%┣███████████████████████████████████████   ┫ 929/1.0k [00:40<00:03, 23it/s]\n",
      "\u001b[1A\r93.1%┣███████████████████████████████████████   ┫ 931/1.0k [00:40<00:03, 23it/s]\n"
     ]
    },
    {
     "name": "stderr",
     "output_type": "stream",
     "text": [
      "\u001b[1A\r93.3%┣███████████████████████████████████████▏  ┫ 933/1.0k [00:40<00:03, 23it/s]\n",
      "\u001b[1A\r93.5%┣███████████████████████████████████████▎  ┫ 935/1.0k [00:40<00:03, 23it/s]\n"
     ]
    },
    {
     "name": "stderr",
     "output_type": "stream",
     "text": [
      "\u001b[1A\r93.7%┣███████████████████████████████████████▍  ┫ 937/1.0k [00:40<00:03, 23it/s]\n",
      "\u001b[1A\r93.9%┣███████████████████████████████████████▍  ┫ 939/1.0k [00:40<00:03, 23it/s]\n"
     ]
    },
    {
     "name": "stderr",
     "output_type": "stream",
     "text": [
      "\u001b[1A\r94.1%┣███████████████████████████████████████▌  ┫ 941/1.0k [00:40<00:03, 23it/s]\n",
      "\u001b[1A\r94.3%┣███████████████████████████████████████▋  ┫ 943/1.0k [00:40<00:02, 23it/s]\n"
     ]
    },
    {
     "name": "stderr",
     "output_type": "stream",
     "text": [
      "\u001b[1A\r94.5%┣███████████████████████████████████████▊  ┫ 945/1.0k [00:40<00:02, 24it/s]\n",
      "\u001b[1A\r94.7%┣███████████████████████████████████████▊  ┫ 947/1.0k [00:40<00:02, 24it/s]\n"
     ]
    },
    {
     "name": "stderr",
     "output_type": "stream",
     "text": [
      "\u001b[1A\r94.9%┣███████████████████████████████████████▉  ┫ 949/1.0k [00:40<00:02, 24it/s]\n",
      "\u001b[1A\r95.1%┣████████████████████████████████████████  ┫ 951/1.0k [00:40<00:02, 24it/s]\n"
     ]
    },
    {
     "name": "stderr",
     "output_type": "stream",
     "text": [
      "\u001b[1A\r95.3%┣████████████████████████████████████████  ┫ 953/1.0k [00:40<00:02, 24it/s]\n",
      "\u001b[1A\r95.5%┣████████████████████████████████████████  ┫ 955/1.0k [00:40<00:02, 24it/s]\n"
     ]
    },
    {
     "name": "stderr",
     "output_type": "stream",
     "text": [
      "\u001b[1A\r95.7%┣████████████████████████████████████████▏ ┫ 957/1.0k [00:40<00:02, 24it/s]\n",
      "\u001b[1A\r95.9%┣████████████████████████████████████████▎ ┫ 959/1.0k [00:41<00:02, 24it/s]\n"
     ]
    },
    {
     "name": "stderr",
     "output_type": "stream",
     "text": [
      "\u001b[1A\r96.1%┣████████████████████████████████████████▍ ┫ 961/1.0k [00:41<00:02, 24it/s]\n",
      "\u001b[1A\r96.3%┣████████████████████████████████████████▌ ┫ 963/1.0k [00:41<00:02, 24it/s]\n"
     ]
    },
    {
     "name": "stderr",
     "output_type": "stream",
     "text": [
      "\u001b[1A\r96.5%┣████████████████████████████████████████▌ ┫ 965/1.0k [00:41<00:01, 24it/s]\n",
      "\u001b[1A\r96.7%┣████████████████████████████████████████▋ ┫ 967/1.0k [00:41<00:01, 24it/s]\n"
     ]
    },
    {
     "name": "stderr",
     "output_type": "stream",
     "text": [
      "\u001b[1A\r96.9%┣████████████████████████████████████████▊ ┫ 969/1.0k [00:41<00:01, 24it/s]\n",
      "\u001b[1A\r97.1%┣████████████████████████████████████████▉ ┫ 971/1.0k [00:41<00:01, 24it/s]\n"
     ]
    },
    {
     "name": "stderr",
     "output_type": "stream",
     "text": [
      "\u001b[1A\r97.3%┣████████████████████████████████████████▉ ┫ 973/1.0k [00:41<00:01, 24it/s]\n",
      "\u001b[1A\r97.5%┣█████████████████████████████████████████ ┫ 975/1.0k [00:41<00:01, 24it/s]\n"
     ]
    },
    {
     "name": "stderr",
     "output_type": "stream",
     "text": [
      "\u001b[1A\r97.7%┣█████████████████████████████████████████ ┫ 977/1.0k [00:41<00:01, 24it/s]\n",
      "\u001b[1A\r97.9%┣█████████████████████████████████████████▏┫ 979/1.0k [00:41<00:01, 24it/s]\n"
     ]
    },
    {
     "name": "stderr",
     "output_type": "stream",
     "text": [
      "\u001b[1A\r98.1%┣█████████████████████████████████████████▏┫ 981/1.0k [00:41<00:01, 24it/s]\n",
      "\u001b[1A\r98.3%┣█████████████████████████████████████████▎┫ 983/1.0k [00:41<00:01, 24it/s]\n"
     ]
    },
    {
     "name": "stderr",
     "output_type": "stream",
     "text": [
      "\u001b[1A\r98.5%┣█████████████████████████████████████████▍┫ 985/1.0k [00:41<00:01, 24it/s]\n",
      "\u001b[1A\r98.7%┣█████████████████████████████████████████▌┫ 987/1.0k [00:41<00:01, 24it/s]\n"
     ]
    },
    {
     "name": "stderr",
     "output_type": "stream",
     "text": [
      "\u001b[1A\r98.9%┣█████████████████████████████████████████▌┫ 989/1.0k [00:41<00:00, 24it/s]\n",
      "\u001b[1A\r99.1%┣█████████████████████████████████████████▋┫ 991/1.0k [00:41<00:00, 24it/s]\n"
     ]
    },
    {
     "name": "stderr",
     "output_type": "stream",
     "text": [
      "\u001b[1A\r99.3%┣█████████████████████████████████████████▊┫ 993/1.0k [00:42<00:00, 24it/s]\n",
      "\u001b[1A\r99.5%┣█████████████████████████████████████████▉┫ 995/1.0k [00:42<00:00, 24it/s]\n"
     ]
    },
    {
     "name": "stderr",
     "output_type": "stream",
     "text": [
      "\u001b[1A\r99.7%┣█████████████████████████████████████████▉┫ 997/1.0k [00:42<00:00, 24it/s]\n",
      "\u001b[1A\r99.9%┣██████████████████████████████████████████┫ 999/1.0k [00:42<00:00, 24it/s]\n",
      "\u001b[1A\r100.0%┣████████████████████████████████████████┫ 1.0k/1.0k [00:42<00:00, 24it/s]\n",
      "\u001b[1A\r100.0%┣████████████████████████████████████████┫ 1.0k/1.0k [00:42<00:00, 24it/s]\n"
     ]
    },
    {
     "data": {
      "text/plain": [
       "440×1000 Matrix{Float64}:\n",
       " -0.630605   -0.749976     -0.49692     …  -0.713219   -0.377042\n",
       "  0.207054    0.121035     -0.173302        0.411674    0.0479746\n",
       " -0.0909969   0.285497     -0.0749144      -0.301975    0.389858\n",
       "  0.304526    0.145654     -0.295578       -0.09762    -0.271875\n",
       " -0.0511498   0.415413      0.18172         0.19774    -0.146604\n",
       "  0.111823    0.0328114    -0.00654347  …  -0.0140813   0.150889\n",
       "  0.119965   -0.0458108    -0.416157        0.022207   -0.0634113\n",
       " -0.0940252   0.0534113    -0.181878       -0.281912   -0.306508\n",
       " -0.163187    0.0455845    -0.0148809      -0.0473649   0.249001\n",
       " -0.411159   -0.466793     -0.626231       -0.593586   -0.565491\n",
       "  ⋮                                     ⋱              \n",
       " -0.0217969   0.0641197    -0.0774998       0.0122162   0.106881\n",
       " -0.0635694  -0.113028     -0.198293       -0.100126   -0.14746\n",
       " -0.0255301   0.0936819    -0.0945152      -0.0771544  -0.00242692\n",
       " -0.11437    -0.122263      0.147018       -0.185221   -0.0863102\n",
       "  0.145156    0.152531      0.299078    …   0.191477    0.0395177\n",
       " -0.0111847  -0.000204543   0.134975       -0.0425552   0.0444156\n",
       "  0.062616   -0.0820507     0.162488        0.0654325  -0.184387\n",
       "  0.134067    0.118066      0.218711        0.166197    0.15793\n",
       " -0.0709076   0.121831      0.00845299      0.0534934  -0.0626398"
      ]
     },
     "metadata": {},
     "output_type": "display_data"
    }
   ],
   "source": [
    "# uncomment the next line to see progress bar\n",
    "SHOW_PROGRESS_BAR = true \n",
    "embeddings = apply_layer(pre_layer, xs)"
   ]
  },
  {
   "attachments": {},
   "cell_type": "markdown",
   "id": "b4fc61b5-2e5e-4954-8cc9-eccacc34c1f1",
   "metadata": {},
   "source": [
    "## Train Neural Network\n",
    "\n",
    "Now we are going to train a classical neural network without hidden layers (a linear classifier with `softmax` output function), using quantum measurements stored in `embeddings` as the input. In comparision, we also trained a neural network without hidden layers directly using PCA feature vectors without the quantum reservoir processing.\n",
    "\n",
    "Here, we used the machine learning framework [Flux.jl](https://fluxml.ai/Flux.jl/stable/) in Julia for the neural network training.\n",
    "\n",
    "First, we define the function `train` for training."
   ]
  },
  {
   "cell_type": "code",
   "execution_count": 12,
   "id": "7e3691a7-71fd-449f-955c-00ee5c7afed6",
   "metadata": {},
   "outputs": [
    {
     "data": {
      "text/plain": [
       "train (generic function with 1 method)"
      ]
     },
     "metadata": {},
     "output_type": "display_data"
    }
   ],
   "source": [
    "function train(xs, ys)\n",
    "    # Build a simple neural network model\n",
    "    model_atoms = Chain(\n",
    "        Dense(length(xs[:, 1]), 10),\n",
    "        softmax\n",
    "    )\n",
    "\n",
    "    # Define the training data loader, trainable model parameters, and the optimizer\n",
    "    loader = Flux.DataLoader((xs, ys), batchsize=100, shuffle=true);\n",
    "    ps = Flux.params(model_atoms)\n",
    "    opt = Flux.Adam(0.01)\n",
    "\n",
    "    # Train the model. We use the crossentropy as a loss function\n",
    "    nepochs = 1000\n",
    "    losses = []\n",
    "    train_iter = SHOW_PROGRESS_BAR ? ProgressBar(1:nepochs) : 1:nepochs\n",
    "    for epoch in train_iter\n",
    "        l = 1.0\n",
    "        for (x, y) in loader\n",
    "            grads = Flux.gradient(ps) do\n",
    "                ŷ = model_atoms(x)\n",
    "                l = Flux.crossentropy(ŷ, y)\n",
    "            end\n",
    "            Flux.update!(opt, ps, grads)\n",
    "        end\n",
    "        push!(losses, Flux.crossentropy(model_atoms(xs), ys))  # logging, outside gradient context\n",
    "    end\n",
    "    return model_atoms, losses\n",
    "end"
   ]
  },
  {
   "attachments": {},
   "cell_type": "markdown",
   "id": "ef8377f2",
   "metadata": {},
   "source": [
    "Call the above function to train the classical model directly using the principal components without the quantum reservoir processing."
   ]
  },
  {
   "cell_type": "code",
   "execution_count": 13,
   "id": "15d9c0c2-a991-4c28-8e22-805c55ad0831",
   "metadata": {
    "jupyter": {
     "outputs_hidden": true
    },
    "tags": []
   },
   "outputs": [
    {
     "name": "stderr",
     "output_type": "stream",
     "text": [
      "\r0.0%┣                                             ┫ 0/1.0k [00:00<00:00, -0s/it]\n"
     ]
    },
    {
     "name": "stderr",
     "output_type": "stream",
     "text": [
      "┌ Warning: Layer with Float32 parameters got Float64 input.\n",
      "│   The input will be converted, but any earlier layers may be very slow.\n",
      "│   layer = Dense(10 => 10)\n",
      "│   summary(x) = 10×100 Matrix{Float64}\n",
      "└ @ Flux C:\\Users\\mkornjaca\\.julia\\packages\\Flux\\EHgZm\\src\\layers\\stateless.jl:60\n"
     ]
    },
    {
     "name": "stderr",
     "output_type": "stream",
     "text": [
      "\u001b[1A\r0.1%┣                                         ┫ 1/1.0k [00:09<Inf:Inf, InfGs/it]\n",
      "\u001b[1A\r5.5%┣██▌                                          ┫ 55/1.0k [00:09<02:39, 6it/s]\n"
     ]
    },
    {
     "name": "stderr",
     "output_type": "stream",
     "text": [
      "\u001b[1A\r12.7%┣█████▍                                    ┫ 127/1.0k [00:09<01:03, 14it/s]\n",
      "\u001b[1A\r20.9%┣████████▉                                 ┫ 209/1.0k [00:09<00:35, 23it/s]\n"
     ]
    },
    {
     "name": "stderr",
     "output_type": "stream",
     "text": [
      "\u001b[1A\r29.4%┣████████████▍                             ┫ 294/1.0k [00:09<00:22, 32it/s]\n",
      "\u001b[1A\r38.8%┣████████████████▎                         ┫ 388/1.0k [00:09<00:15, 42it/s]"
     ]
    },
    {
     "name": "stderr",
     "output_type": "stream",
     "text": [
      "\n",
      "\u001b[1A\r47.7%┣████████████████████                      ┫ 477/1.0k [00:09<00:10, 51it/s]\n",
      "\u001b[1A\r56.1%┣███████████████████████▋                  ┫ 561/1.0k [00:09<00:07, 60it/s]\n"
     ]
    },
    {
     "name": "stderr",
     "output_type": "stream",
     "text": [
      "\u001b[1A\r64.9%┣███████████████████████████▎              ┫ 649/1.0k [00:09<00:05, 69it/s]\n",
      "\u001b[1A\r73.6%┣███████████████████████████████           ┫ 736/1.0k [00:09<00:03, 78it/s]\n"
     ]
    },
    {
     "name": "stderr",
     "output_type": "stream",
     "text": [
      "\u001b[1A\r83.2%┣███████████████████████████████████       ┫ 832/1.0k [00:10<00:02, 87it/s]\n",
      "\u001b[1A\r91.0%┣██████████████████████████████████████▏   ┫ 910/1.0k [00:10<00:01, 95it/s]\n"
     ]
    },
    {
     "name": "stderr",
     "output_type": "stream",
     "text": [
      "\u001b[1A\r98.5%┣████████████████████████████████████████▍┫ 985/1.0k [00:10<00:00, 102it/s]\n",
      "\u001b[1A\r100.0%┣███████████████████████████████████████┫ 1.0k/1.0k [00:10<00:00, 104it/s]\n",
      "\u001b[1A\r100.0%┣███████████████████████████████████████┫ 1.0k/1.0k [00:10<00:00, 104it/s]\n"
     ]
    },
    {
     "data": {
      "text/plain": [
       "(Chain(Dense(10 => 10), softmax), Any[2.536362f0, 2.0674543f0, 1.7146058f0, 1.4598562f0, 1.2792201f0, 1.150938f0, 1.0577667f0, 0.9892145f0, 0.9369046f0, 0.894655f0  …  0.5622521f0, 0.5622054f0, 0.56217635f0, 0.56220645f0, 0.56218016f0, 0.56229997f0, 0.5622145f0, 0.5622725f0, 0.5622063f0, 0.5623234f0])"
      ]
     },
     "metadata": {},
     "output_type": "display_data"
    }
   ],
   "source": [
    "model_reg, loss_reg = train(xs, ys)"
   ]
  },
  {
   "attachments": {},
   "cell_type": "markdown",
   "id": "9458ae79",
   "metadata": {},
   "source": [
    "Call the above function to train the neural network using the readouts from the quantum reservoir processing as the input."
   ]
  },
  {
   "cell_type": "code",
   "execution_count": 14,
   "id": "c700be74-dd2c-478d-b503-190c37e0295a",
   "metadata": {
    "jupyter": {
     "outputs_hidden": true
    },
    "tags": []
   },
   "outputs": [
    {
     "name": "stderr",
     "output_type": "stream",
     "text": [
      "\r0.0%┣                                             ┫ 0/1.0k [00:00<00:00, -0s/it]\n",
      "\u001b[1A\r0.6%┣▎                                            ┫ 6/1.0k [00:00<00:11, 94it/s]\n"
     ]
    },
    {
     "name": "stderr",
     "output_type": "stream",
     "text": [
      "\u001b[1A\r1.3%┣▋                                          ┫ 13/1.0k [00:00<00:09, 115it/s]\n",
      "\u001b[1A\r2.0%┣▉                                          ┫ 20/1.0k [00:00<00:08, 122it/s]\n"
     ]
    },
    {
     "name": "stderr",
     "output_type": "stream",
     "text": [
      "\u001b[1A\r2.8%┣█▏                                         ┫ 28/1.0k [00:00<00:08, 129it/s]\n",
      "\u001b[1A\r3.7%┣█▋                                         ┫ 37/1.0k [00:00<00:07, 135it/s]\n"
     ]
    },
    {
     "name": "stderr",
     "output_type": "stream",
     "text": [
      "\u001b[1A\r4.4%┣██                                         ┫ 44/1.0k [00:00<00:07, 135it/s]\n",
      "\u001b[1A\r5.2%┣██▎                                        ┫ 52/1.0k [00:00<00:07, 136it/s]\n"
     ]
    },
    {
     "name": "stderr",
     "output_type": "stream",
     "text": [
      "\u001b[1A\r6.0%┣██▋                                        ┫ 60/1.0k [00:00<00:07, 138it/s]\n",
      "\u001b[1A\r6.8%┣███                                        ┫ 68/1.0k [00:00<00:07, 139it/s]\n"
     ]
    },
    {
     "name": "stderr",
     "output_type": "stream",
     "text": [
      "\u001b[1A\r7.5%┣███▎                                       ┫ 75/1.0k [00:01<00:07, 139it/s]\n",
      "\u001b[1A\r8.3%┣███▋                                       ┫ 83/1.0k [00:01<00:07, 141it/s]\n"
     ]
    },
    {
     "name": "stderr",
     "output_type": "stream",
     "text": [
      "\u001b[1A\r9.1%┣████                                       ┫ 91/1.0k [00:01<00:06, 142it/s]\n",
      "\u001b[1A\r9.8%┣████▏                                      ┫ 98/1.0k [00:01<00:06, 140it/s]\n"
     ]
    },
    {
     "name": "stderr",
     "output_type": "stream",
     "text": [
      "\u001b[1A\r10.7%┣████▍                                    ┫ 107/1.0k [00:01<00:06, 142it/s]\n",
      "\u001b[1A\r11.5%┣████▊                                    ┫ 115/1.0k [00:01<00:06, 142it/s]\n"
     ]
    },
    {
     "name": "stderr",
     "output_type": "stream",
     "text": [
      "\u001b[1A\r12.3%┣█████                                    ┫ 123/1.0k [00:01<00:06, 142it/s]\n",
      "\u001b[1A\r13.1%┣█████▍                                   ┫ 131/1.0k [00:01<00:06, 143it/s]\n"
     ]
    },
    {
     "name": "stderr",
     "output_type": "stream",
     "text": [
      "\u001b[1A\r13.9%┣█████▊                                   ┫ 139/1.0k [00:01<00:06, 143it/s]\n",
      "\u001b[1A\r14.7%┣██████                                   ┫ 147/1.0k [00:01<00:06, 144it/s]\n"
     ]
    },
    {
     "name": "stderr",
     "output_type": "stream",
     "text": [
      "\u001b[1A\r15.5%┣██████▍                                  ┫ 155/1.0k [00:01<00:06, 144it/s]\n",
      "\u001b[1A\r16.3%┣██████▊                                  ┫ 163/1.0k [00:01<00:06, 144it/s]\n"
     ]
    },
    {
     "name": "stderr",
     "output_type": "stream",
     "text": [
      "\u001b[1A\r17.1%┣███████                                  ┫ 171/1.0k [00:01<00:06, 145it/s]\n",
      "\u001b[1A\r17.9%┣███████▍                                 ┫ 179/1.0k [00:01<00:06, 145it/s]\n"
     ]
    },
    {
     "name": "stderr",
     "output_type": "stream",
     "text": [
      "\u001b[1A\r18.7%┣███████▊                                 ┫ 187/1.0k [00:01<00:06, 144it/s]\n",
      "\u001b[1A\r19.6%┣████████                                 ┫ 196/1.0k [00:01<00:06, 145it/s]\n"
     ]
    },
    {
     "name": "stderr",
     "output_type": "stream",
     "text": [
      "\u001b[1A\r20.5%┣████████▍                                ┫ 205/1.0k [00:01<00:05, 145it/s]\n",
      "\u001b[1A\r21.3%┣████████▊                                ┫ 213/1.0k [00:01<00:05, 145it/s]\n"
     ]
    },
    {
     "name": "stderr",
     "output_type": "stream",
     "text": [
      "\u001b[1A\r22.1%┣█████████                                ┫ 221/1.0k [00:02<00:05, 145it/s]\n",
      "\u001b[1A\r22.9%┣█████████▍                               ┫ 229/1.0k [00:02<00:05, 145it/s]\n"
     ]
    },
    {
     "name": "stderr",
     "output_type": "stream",
     "text": [
      "\u001b[1A\r23.8%┣█████████▊                               ┫ 238/1.0k [00:02<00:05, 145it/s]\n",
      "\u001b[1A\r24.6%┣██████████                               ┫ 246/1.0k [00:02<00:05, 145it/s]\n"
     ]
    },
    {
     "name": "stderr",
     "output_type": "stream",
     "text": [
      "\u001b[1A\r25.4%┣██████████▍                              ┫ 254/1.0k [00:02<00:05, 146it/s]\n",
      "\u001b[1A\r26.3%┣██████████▉                              ┫ 263/1.0k [00:02<00:05, 146it/s]\n"
     ]
    },
    {
     "name": "stderr",
     "output_type": "stream",
     "text": [
      "\u001b[1A\r27.1%┣███████████                              ┫ 271/1.0k [00:02<00:05, 147it/s]\n",
      "\u001b[1A\r28.0%┣███████████▌                             ┫ 280/1.0k [00:02<00:05, 147it/s]"
     ]
    },
    {
     "name": "stderr",
     "output_type": "stream",
     "text": [
      "\n",
      "\u001b[1A\r28.9%┣███████████▉                             ┫ 289/1.0k [00:02<00:05, 148it/s]\n",
      "\u001b[1A\r29.7%┣████████████▏                            ┫ 297/1.0k [00:02<00:05, 148it/s]\n"
     ]
    },
    {
     "name": "stderr",
     "output_type": "stream",
     "text": [
      "\u001b[1A\r30.5%┣████████████▌                            ┫ 305/1.0k [00:02<00:05, 148it/s]\n",
      "\u001b[1A\r31.4%┣████████████▉                            ┫ 314/1.0k [00:02<00:05, 149it/s]"
     ]
    },
    {
     "name": "stderr",
     "output_type": "stream",
     "text": [
      "\n",
      "\u001b[1A\r32.3%┣█████████████▎                           ┫ 323/1.0k [00:02<00:05, 149it/s]\n",
      "\u001b[1A\r33.0%┣█████████████▌                           ┫ 330/1.0k [00:02<00:05, 149it/s]"
     ]
    },
    {
     "name": "stderr",
     "output_type": "stream",
     "text": [
      "\n",
      "\u001b[1A\r33.8%┣█████████████▉                           ┫ 338/1.0k [00:02<00:04, 149it/s]\n",
      "\u001b[1A\r34.6%┣██████████████▏                          ┫ 346/1.0k [00:02<00:04, 149it/s]\n"
     ]
    },
    {
     "name": "stderr",
     "output_type": "stream",
     "text": [
      "\u001b[1A\r35.5%┣██████████████▌                          ┫ 355/1.0k [00:02<00:04, 149it/s]\n",
      "\u001b[1A\r36.4%┣███████████████                          ┫ 364/1.0k [00:02<00:04, 149it/s]\n"
     ]
    },
    {
     "name": "stderr",
     "output_type": "stream",
     "text": [
      "\u001b[1A\r37.4%┣███████████████▍                         ┫ 374/1.0k [00:02<00:04, 150it/s]\n",
      "\u001b[1A\r38.0%┣███████████████▋                         ┫ 380/1.0k [00:03<00:04, 150it/s]\n"
     ]
    },
    {
     "name": "stderr",
     "output_type": "stream",
     "text": [
      "\u001b[1A\r38.9%┣████████████████                         ┫ 389/1.0k [00:03<00:04, 150it/s]\n",
      "\u001b[1A\r39.7%┣████████████████▎                        ┫ 397/1.0k [00:03<00:04, 150it/s]\n"
     ]
    },
    {
     "name": "stderr",
     "output_type": "stream",
     "text": [
      "\u001b[1A\r40.6%┣████████████████▋                        ┫ 406/1.0k [00:03<00:04, 150it/s]\n",
      "\u001b[1A\r41.4%┣█████████████████                        ┫ 414/1.0k [00:03<00:04, 150it/s]\n"
     ]
    },
    {
     "name": "stderr",
     "output_type": "stream",
     "text": [
      "\u001b[1A\r42.2%┣█████████████████▎                       ┫ 422/1.0k [00:03<00:04, 150it/s]\n",
      "\u001b[1A\r43.1%┣█████████████████▊                       ┫ 431/1.0k [00:03<00:04, 151it/s]\n"
     ]
    },
    {
     "name": "stderr",
     "output_type": "stream",
     "text": [
      "\u001b[1A\r43.9%┣██████████████████                       ┫ 439/1.0k [00:03<00:04, 151it/s]\n",
      "\u001b[1A\r44.8%┣██████████████████▍                      ┫ 448/1.0k [00:03<00:04, 151it/s]\n"
     ]
    },
    {
     "name": "stderr",
     "output_type": "stream",
     "text": [
      "\u001b[1A\r45.7%┣██████████████████▊                      ┫ 457/1.0k [00:03<00:04, 151it/s]\n",
      "\u001b[1A\r46.6%┣███████████████████                      ┫ 466/1.0k [00:03<00:04, 151it/s]\n"
     ]
    },
    {
     "name": "stderr",
     "output_type": "stream",
     "text": [
      "\u001b[1A\r47.4%┣███████████████████▍                     ┫ 474/1.0k [00:03<00:03, 152it/s]\n",
      "\u001b[1A\r48.2%┣███████████████████▊                     ┫ 482/1.0k [00:03<00:03, 152it/s]\n"
     ]
    },
    {
     "name": "stderr",
     "output_type": "stream",
     "text": [
      "\u001b[1A\r49.0%┣████████████████████                     ┫ 490/1.0k [00:03<00:03, 151it/s]\n",
      "\u001b[1A\r49.9%┣████████████████████▌                    ┫ 499/1.0k [00:03<00:03, 152it/s]\n"
     ]
    },
    {
     "name": "stderr",
     "output_type": "stream",
     "text": [
      "\u001b[1A\r50.7%┣████████████████████▉                    ┫ 507/1.0k [00:03<00:03, 152it/s]\n",
      "\u001b[1A\r51.6%┣█████████████████████▏                   ┫ 516/1.0k [00:03<00:03, 152it/s]\n"
     ]
    },
    {
     "name": "stderr",
     "output_type": "stream",
     "text": [
      "\u001b[1A\r52.5%┣█████████████████████▌                   ┫ 525/1.0k [00:03<00:03, 152it/s]\n",
      "\u001b[1A\r53.3%┣█████████████████████▉                   ┫ 533/1.0k [00:03<00:03, 152it/s]\n"
     ]
    },
    {
     "name": "stderr",
     "output_type": "stream",
     "text": [
      "\u001b[1A\r54.1%┣██████████████████████▏                  ┫ 541/1.0k [00:04<00:03, 152it/s]\n",
      "\u001b[1A\r54.9%┣██████████████████████▌                  ┫ 549/1.0k [00:04<00:03, 152it/s]\n"
     ]
    },
    {
     "name": "stderr",
     "output_type": "stream",
     "text": [
      "\u001b[1A\r55.8%┣██████████████████████▉                  ┫ 558/1.0k [00:04<00:03, 153it/s]\n",
      "\u001b[1A\r56.7%┣███████████████████████▎                 ┫ 567/1.0k [00:04<00:03, 153it/s]\n"
     ]
    },
    {
     "name": "stderr",
     "output_type": "stream",
     "text": [
      "\u001b[1A\r57.4%┣███████████████████████▌                 ┫ 574/1.0k [00:04<00:03, 152it/s]\n",
      "\u001b[1A\r58.3%┣████████████████████████                 ┫ 583/1.0k [00:04<00:03, 153it/s]\n"
     ]
    },
    {
     "name": "stderr",
     "output_type": "stream",
     "text": [
      "\u001b[1A\r59.1%┣████████████████████████▎                ┫ 591/1.0k [00:04<00:03, 153it/s]\n",
      "\u001b[1A\r60.0%┣████████████████████████▋                ┫ 600/1.0k [00:04<00:03, 153it/s]\n"
     ]
    },
    {
     "name": "stderr",
     "output_type": "stream",
     "text": [
      "\u001b[1A\r60.9%┣█████████████████████████                ┫ 609/1.0k [00:04<00:03, 153it/s]\n",
      "\u001b[1A\r61.8%┣█████████████████████████▍               ┫ 618/1.0k [00:04<00:02, 153it/s]\n"
     ]
    },
    {
     "name": "stderr",
     "output_type": "stream",
     "text": [
      "\u001b[1A\r62.7%┣█████████████████████████▊               ┫ 627/1.0k [00:04<00:02, 153it/s]\n",
      "\u001b[1A\r63.6%┣██████████████████████████               ┫ 636/1.0k [00:04<00:02, 154it/s]\n"
     ]
    },
    {
     "name": "stderr",
     "output_type": "stream",
     "text": [
      "\u001b[1A\r64.5%┣██████████████████████████▌              ┫ 645/1.0k [00:04<00:02, 154it/s]\n",
      "\u001b[1A\r65.4%┣██████████████████████████▉              ┫ 654/1.0k [00:04<00:02, 154it/s]\n"
     ]
    },
    {
     "name": "stderr",
     "output_type": "stream",
     "text": [
      "\u001b[1A\r66.3%┣███████████████████████████▏             ┫ 663/1.0k [00:04<00:02, 154it/s]\n",
      "\u001b[1A\r67.1%┣███████████████████████████▌             ┫ 671/1.0k [00:04<00:02, 154it/s]\n"
     ]
    },
    {
     "name": "stderr",
     "output_type": "stream",
     "text": [
      "\u001b[1A\r67.9%┣███████████████████████████▉             ┫ 679/1.0k [00:04<00:02, 154it/s]\n",
      "\u001b[1A\r68.7%┣████████████████████████████▏            ┫ 687/1.0k [00:04<00:02, 154it/s]\n"
     ]
    },
    {
     "name": "stderr",
     "output_type": "stream",
     "text": [
      "\u001b[1A\r69.6%┣████████████████████████████▌            ┫ 696/1.0k [00:05<00:02, 154it/s]\n",
      "\u001b[1A\r70.4%┣████████████████████████████▉            ┫ 704/1.0k [00:05<00:02, 154it/s]\n"
     ]
    },
    {
     "name": "stderr",
     "output_type": "stream",
     "text": [
      "\u001b[1A\r71.3%┣█████████████████████████████▎           ┫ 713/1.0k [00:05<00:02, 154it/s]\n",
      "\u001b[1A\r72.2%┣█████████████████████████████▋           ┫ 722/1.0k [00:05<00:02, 155it/s]\n"
     ]
    },
    {
     "name": "stderr",
     "output_type": "stream",
     "text": [
      "\u001b[1A\r73.1%┣██████████████████████████████           ┫ 731/1.0k [00:05<00:02, 155it/s]\n",
      "\u001b[1A\r73.8%┣██████████████████████████████▎          ┫ 738/1.0k [00:05<00:02, 154it/s]\n"
     ]
    },
    {
     "name": "stderr",
     "output_type": "stream",
     "text": [
      "\u001b[1A\r74.7%┣██████████████████████████████▋          ┫ 747/1.0k [00:05<00:02, 154it/s]\n",
      "\u001b[1A\r75.6%┣███████████████████████████████          ┫ 756/1.0k [00:05<00:02, 155it/s]\n"
     ]
    },
    {
     "name": "stderr",
     "output_type": "stream",
     "text": [
      "\u001b[1A\r76.5%┣███████████████████████████████▍         ┫ 765/1.0k [00:05<00:02, 155it/s]\n",
      "\u001b[1A\r77.4%┣███████████████████████████████▊         ┫ 774/1.0k [00:05<00:01, 155it/s]\n"
     ]
    },
    {
     "name": "stderr",
     "output_type": "stream",
     "text": [
      "\u001b[1A\r78.3%┣████████████████████████████████         ┫ 783/1.0k [00:05<00:01, 155it/s]\n",
      "\u001b[1A\r79.2%┣████████████████████████████████▌        ┫ 792/1.0k [00:05<00:01, 155it/s]\n"
     ]
    },
    {
     "name": "stderr",
     "output_type": "stream",
     "text": [
      "\u001b[1A\r80.1%┣████████████████████████████████▉        ┫ 801/1.0k [00:05<00:01, 156it/s]\n",
      "\u001b[1A\r80.9%┣█████████████████████████████████▏       ┫ 809/1.0k [00:05<00:01, 156it/s]\n"
     ]
    },
    {
     "name": "stderr",
     "output_type": "stream",
     "text": [
      "\u001b[1A\r81.8%┣█████████████████████████████████▌       ┫ 818/1.0k [00:05<00:01, 156it/s]\n",
      "\u001b[1A\r82.6%┣█████████████████████████████████▉       ┫ 826/1.0k [00:05<00:01, 156it/s]\n"
     ]
    },
    {
     "name": "stderr",
     "output_type": "stream",
     "text": [
      "\u001b[1A\r83.5%┣██████████████████████████████████▎      ┫ 835/1.0k [00:05<00:01, 156it/s]\n",
      "\u001b[1A\r84.4%┣██████████████████████████████████▋      ┫ 844/1.0k [00:05<00:01, 156it/s]\n"
     ]
    },
    {
     "name": "stderr",
     "output_type": "stream",
     "text": [
      "\u001b[1A\r85.3%┣███████████████████████████████████      ┫ 853/1.0k [00:05<00:01, 156it/s]\n",
      "\u001b[1A\r86.1%┣███████████████████████████████████▎     ┫ 861/1.0k [00:06<00:01, 156it/s]"
     ]
    },
    {
     "name": "stderr",
     "output_type": "stream",
     "text": [
      "\n",
      "\u001b[1A\r87.0%┣███████████████████████████████████▊     ┫ 870/1.0k [00:06<00:01, 156it/s]\n",
      "\u001b[1A\r87.9%┣████████████████████████████████████     ┫ 879/1.0k [00:06<00:01, 156it/s]\n"
     ]
    },
    {
     "name": "stderr",
     "output_type": "stream",
     "text": [
      "\u001b[1A\r88.8%┣████████████████████████████████████▍    ┫ 888/1.0k [00:06<00:01, 156it/s]\n",
      "\u001b[1A\r89.7%┣████████████████████████████████████▊    ┫ 897/1.0k [00:06<00:01, 156it/s]\n"
     ]
    },
    {
     "name": "stderr",
     "output_type": "stream",
     "text": [
      "\u001b[1A\r90.6%┣█████████████████████████████████████▏   ┫ 906/1.0k [00:06<00:01, 157it/s]\n",
      "\u001b[1A\r91.3%┣█████████████████████████████████████▍   ┫ 913/1.0k [00:06<00:01, 156it/s]\n"
     ]
    },
    {
     "name": "stderr",
     "output_type": "stream",
     "text": [
      "\u001b[1A\r92.1%┣█████████████████████████████████████▊   ┫ 921/1.0k [00:06<00:01, 156it/s]\n",
      "\u001b[1A\r92.9%┣██████████████████████████████████████   ┫ 929/1.0k [00:06<00:00, 156it/s]\n"
     ]
    },
    {
     "name": "stderr",
     "output_type": "stream",
     "text": [
      "\u001b[1A\r93.8%┣██████████████████████████████████████▌  ┫ 938/1.0k [00:06<00:00, 156it/s]\n",
      "\u001b[1A\r94.7%┣██████████████████████████████████████▉  ┫ 947/1.0k [00:06<00:00, 156it/s]\n"
     ]
    },
    {
     "name": "stderr",
     "output_type": "stream",
     "text": [
      "\u001b[1A\r95.5%┣███████████████████████████████████████▏ ┫ 955/1.0k [00:06<00:00, 156it/s]\n",
      "\u001b[1A\r96.3%┣███████████████████████████████████████▌ ┫ 963/1.0k [00:06<00:00, 156it/s]\n"
     ]
    },
    {
     "name": "stderr",
     "output_type": "stream",
     "text": [
      "\u001b[1A\r97.1%┣███████████████████████████████████████▉ ┫ 971/1.0k [00:06<00:00, 156it/s]\n",
      "\u001b[1A\r98.0%┣████████████████████████████████████████▏┫ 980/1.0k [00:06<00:00, 156it/s]\n"
     ]
    },
    {
     "name": "stderr",
     "output_type": "stream",
     "text": [
      "\u001b[1A\r98.9%┣████████████████████████████████████████▌┫ 989/1.0k [00:06<00:00, 156it/s]\n",
      "\u001b[1A\r99.7%┣████████████████████████████████████████▉┫ 997/1.0k [00:06<00:00, 156it/s]\n",
      "\u001b[1A\r100.0%┣███████████████████████████████████████┫ 1.0k/1.0k [00:06<00:00, 156it/s]\n",
      "\u001b[1A\r100.0%┣███████████████████████████████████████┫ 1.0k/1.0k [00:06<00:00, 156it/s]\n"
     ]
    },
    {
     "data": {
      "text/plain": [
       "(Chain(Dense(440 => 10), softmax), Any[1.2511722f0, 0.85587174f0, 0.70040244f0, 0.62526f0, 0.5623264f0, 0.5268328f0, 0.50204515f0, 0.47448325f0, 0.45120063f0, 0.43249232f0  …  0.00040387173f0, 0.00040052764f0, 0.0003997118f0, 0.00039794075f0, 0.0003959399f0, 0.00039481506f0, 0.0003951898f0, 0.00039274056f0, 0.00038856568f0, 0.00038883116f0])"
      ]
     },
     "metadata": {},
     "output_type": "display_data"
    }
   ],
   "source": [
    "model_qrc, loss_qrc = train(embeddings, ys)"
   ]
  },
  {
   "attachments": {},
   "cell_type": "markdown",
   "id": "4709af63-bf96-40e8-80fb-d4b6c3b6ff52",
   "metadata": {},
   "source": [
    "## Model evaluation and prediction\n",
    "Once we got the trained model, we can evaluate the prediction accuracy on the test set. \n",
    "\n",
    "We use 100 samples from the test set for evaluation."
   ]
  },
  {
   "cell_type": "code",
   "execution_count": 15,
   "id": "67bdbf46-1afe-497c-ba74-72eb9858567a",
   "metadata": {
    "jupyter": {
     "outputs_hidden": true
    },
    "tags": []
   },
   "outputs": [
    {
     "name": "stderr",
     "output_type": "stream",
     "text": [
      "\r0.0%┣                                              ┫ 0/100 [00:00<00:00, -0s/it]\n"
     ]
    },
    {
     "name": "stderr",
     "output_type": "stream",
     "text": [
      "\u001b[1A\r2.0%┣█                                             ┫ 2/100 [00:00<00:05, 18it/s]\n",
      "\u001b[1A\r4.0%┣█▉                                            ┫ 4/100 [00:00<00:04, 23it/s]\n"
     ]
    },
    {
     "name": "stderr",
     "output_type": "stream",
     "text": [
      "\u001b[1A\r6.0%┣██▊                                           ┫ 6/100 [00:00<00:05, 21it/s]\n",
      "\u001b[1A\r7.0%┣███▏                                          ┫ 7/100 [00:00<00:05, 20it/s]\n"
     ]
    },
    {
     "name": "stderr",
     "output_type": "stream",
     "text": [
      "\u001b[1A\r9.0%┣████▏                                         ┫ 9/100 [00:00<00:04, 22it/s]\n",
      "\u001b[1A\r11.0%┣████▉                                       ┫ 11/100 [00:00<00:04, 24it/s]\n"
     ]
    },
    {
     "name": "stderr",
     "output_type": "stream",
     "text": [
      "\u001b[1A\r13.0%┣█████▊                                      ┫ 13/100 [00:00<00:03, 25it/s]\n",
      "\u001b[1A\r15.0%┣██████▋                                     ┫ 15/100 [00:01<00:03, 26it/s]\n"
     ]
    },
    {
     "name": "stderr",
     "output_type": "stream",
     "text": [
      "\u001b[1A\r17.0%┣███████▌                                    ┫ 17/100 [00:01<00:03, 27it/s]\n",
      "\u001b[1A\r19.0%┣████████▍                                   ┫ 19/100 [00:01<00:03, 27it/s]\n"
     ]
    },
    {
     "name": "stderr",
     "output_type": "stream",
     "text": [
      "\u001b[1A\r21.0%┣█████████▎                                  ┫ 21/100 [00:01<00:03, 26it/s]\n",
      "\u001b[1A\r22.0%┣█████████▊                                  ┫ 22/100 [00:01<00:03, 26it/s]\n"
     ]
    },
    {
     "name": "stderr",
     "output_type": "stream",
     "text": [
      "\u001b[1A\r24.0%┣██████████▋                                 ┫ 24/100 [00:01<00:03, 26it/s]\n",
      "\u001b[1A\r26.0%┣███████████▍                                ┫ 26/100 [00:01<00:03, 27it/s]\n"
     ]
    },
    {
     "name": "stderr",
     "output_type": "stream",
     "text": [
      "\u001b[1A\r28.0%┣████████████▎                               ┫ 28/100 [00:01<00:03, 27it/s]\n",
      "\u001b[1A\r30.0%┣█████████████▏                              ┫ 30/100 [00:01<00:03, 28it/s]\n"
     ]
    },
    {
     "name": "stderr",
     "output_type": "stream",
     "text": [
      "\u001b[1A\r32.0%┣██████████████                              ┫ 32/100 [00:01<00:02, 28it/s]\n",
      "\u001b[1A\r34.0%┣███████████████                             ┫ 34/100 [00:01<00:02, 28it/s]\n"
     ]
    },
    {
     "name": "stderr",
     "output_type": "stream",
     "text": [
      "\u001b[1A\r36.0%┣███████████████▉                            ┫ 36/100 [00:01<00:02, 29it/s]\n",
      "\u001b[1A\r38.0%┣████████████████▊                           ┫ 38/100 [00:01<00:02, 29it/s]\n"
     ]
    },
    {
     "name": "stderr",
     "output_type": "stream",
     "text": [
      "\u001b[1A\r40.0%┣█████████████████▋                          ┫ 40/100 [00:01<00:02, 29it/s]\n"
     ]
    },
    {
     "name": "stderr",
     "output_type": "stream",
     "text": [
      "\u001b[1A\r42.0%┣██████████████████▌                         ┫ 42/100 [00:01<00:02, 28it/s]\n",
      "\u001b[1A\r43.0%┣███████████████████                         ┫ 43/100 [00:02<00:02, 28it/s]\n"
     ]
    },
    {
     "name": "stderr",
     "output_type": "stream",
     "text": [
      "\u001b[1A\r45.0%┣███████████████████▉                        ┫ 45/100 [00:02<00:02, 28it/s]\n",
      "\u001b[1A\r47.0%┣████████████████████▊                       ┫ 47/100 [00:02<00:02, 28it/s]\n"
     ]
    },
    {
     "name": "stderr",
     "output_type": "stream",
     "text": [
      "\u001b[1A\r49.0%┣█████████████████████▋                      ┫ 49/100 [00:02<00:02, 28it/s]\n",
      "\u001b[1A\r51.0%┣██████████████████████▍                     ┫ 51/100 [00:02<00:02, 28it/s]\n"
     ]
    },
    {
     "name": "stderr",
     "output_type": "stream",
     "text": [
      "\u001b[1A\r53.0%┣███████████████████████▎                    ┫ 53/100 [00:02<00:02, 29it/s]\n",
      "\u001b[1A\r55.0%┣████████████████████████▏                   ┫ 55/100 [00:02<00:02, 29it/s]\n"
     ]
    },
    {
     "name": "stderr",
     "output_type": "stream",
     "text": [
      "\u001b[1A\r57.0%┣█████████████████████████                   ┫ 57/100 [00:02<00:01, 29it/s]\n",
      "\u001b[1A\r59.0%┣██████████████████████████                  ┫ 59/100 [00:02<00:01, 29it/s]\n"
     ]
    },
    {
     "name": "stderr",
     "output_type": "stream",
     "text": [
      "\u001b[1A\r61.0%┣██████████████████████████▉                 ┫ 61/100 [00:02<00:01, 29it/s]\n",
      "\u001b[1A\r63.0%┣███████████████████████████▊                ┫ 63/100 [00:02<00:01, 30it/s]\n"
     ]
    },
    {
     "name": "stderr",
     "output_type": "stream",
     "text": [
      "\u001b[1A\r65.0%┣████████████████████████████▋               ┫ 65/100 [00:02<00:01, 30it/s]\n",
      "\u001b[1A\r67.0%┣█████████████████████████████▌              ┫ 67/100 [00:02<00:01, 30it/s]\n"
     ]
    },
    {
     "name": "stderr",
     "output_type": "stream",
     "text": [
      "\u001b[1A\r69.0%┣██████████████████████████████▍             ┫ 69/100 [00:02<00:01, 30it/s]\n",
      "\u001b[1A\r71.0%┣███████████████████████████████▎            ┫ 71/100 [00:02<00:01, 30it/s]\n"
     ]
    },
    {
     "name": "stderr",
     "output_type": "stream",
     "text": [
      "\u001b[1A\r73.0%┣████████████████████████████████▏           ┫ 73/100 [00:02<00:01, 30it/s]\n",
      "\u001b[1A\r75.0%┣█████████████████████████████████           ┫ 75/100 [00:02<00:01, 30it/s]\n"
     ]
    },
    {
     "name": "stderr",
     "output_type": "stream",
     "text": [
      "\u001b[1A\r77.0%┣█████████████████████████████████▉          ┫ 77/100 [00:02<00:01, 31it/s]\n",
      "\u001b[1A\r79.0%┣██████████████████████████████████▊         ┫ 79/100 [00:03<00:01, 31it/s]\n"
     ]
    },
    {
     "name": "stderr",
     "output_type": "stream",
     "text": [
      "\u001b[1A\r81.0%┣███████████████████████████████████▋        ┫ 81/100 [00:03<00:01, 31it/s]\n",
      "\u001b[1A\r83.0%┣████████████████████████████████████▌       ┫ 83/100 [00:03<00:01, 31it/s]\n"
     ]
    },
    {
     "name": "stderr",
     "output_type": "stream",
     "text": [
      "\u001b[1A\r85.0%┣█████████████████████████████████████▍      ┫ 85/100 [00:03<00:01, 30it/s]\n",
      "\u001b[1A\r87.0%┣██████████████████████████████████████▎     ┫ 87/100 [00:03<00:00, 30it/s]\n"
     ]
    },
    {
     "name": "stderr",
     "output_type": "stream",
     "text": [
      "\u001b[1A\r88.0%┣██████████████████████████████████████▊     ┫ 88/100 [00:03<00:00, 29it/s]\n"
     ]
    },
    {
     "name": "stderr",
     "output_type": "stream",
     "text": [
      "\u001b[1A\r89.0%┣███████████████████████████████████████▏    ┫ 89/100 [00:03<00:00, 28it/s]\n",
      "\u001b[1A\r91.0%┣████████████████████████████████████████    ┫ 91/100 [00:03<00:00, 28it/s]"
     ]
    },
    {
     "name": "stderr",
     "output_type": "stream",
     "text": [
      "\n",
      "\u001b[1A\r93.0%┣█████████████████████████████████████████   ┫ 93/100 [00:03<00:00, 28it/s]\n",
      "\u001b[1A\r95.0%┣█████████████████████████████████████████▉  ┫ 95/100 [00:03<00:00, 28it/s]\n"
     ]
    },
    {
     "name": "stderr",
     "output_type": "stream",
     "text": [
      "\u001b[1A\r97.0%┣██████████████████████████████████████████▊ ┫ 97/100 [00:03<00:00, 28it/s]\n",
      "\u001b[1A\r99.0%┣███████████████████████████████████████████▋┫ 99/100 [00:03<00:00, 28it/s]\n",
      "\u001b[1A\r100.0%┣██████████████████████████████████████████┫ 100/100 [00:03<00:00, 28it/s]\n",
      "\u001b[1A\r100.0%┣██████████████████████████████████████████┫ 100/100 [00:03<00:00, 28it/s]\n"
     ]
    },
    {
     "data": {
      "text/plain": [
       "440×100 Matrix{Float64}:\n",
       " -0.311869    -0.65064      0.0413229   …  -0.699645    -0.612809\n",
       " -0.361863     0.505179     0.214676        0.0969915   -0.381465\n",
       " -0.0279459   -0.162273     0.0174723       0.0492573   -0.29476\n",
       "  0.136522    -0.212432    -0.196317       -0.325904    -0.187485\n",
       "  0.264492     0.00694864   0.30254         0.0622595   -0.259552\n",
       " -0.210657     0.238788    -0.097201    …   0.255166    -0.154559\n",
       "  0.236685     0.131744    -0.0186813      -0.0423999   -0.0363814\n",
       " -0.27158     -0.164337     0.0500943       0.222611    -0.0418998\n",
       " -0.164413     0.124531     0.0831739      -0.225847     0.197264\n",
       " -0.617464    -0.601893    -0.619638       -0.546056    -0.305257\n",
       "  ⋮                                     ⋱               \n",
       "  0.0948437    0.0720948    0.183566        0.00378315   0.120916\n",
       " -0.125283    -0.145219    -0.039836       -0.214709    -0.104621\n",
       " -0.0423955    0.026556    -0.00545409     -0.128135     0.104058\n",
       " -0.292517    -0.203089    -0.126803       -0.174202     0.0858086\n",
       "  0.138409    -0.209501     0.141773    …   0.00419889   0.106633\n",
       " -0.00583238  -0.0819014   -0.0775455      -0.161101     0.0226182\n",
       "  0.0514517    0.0621163   -0.0560818      -0.24067     -0.0271372\n",
       "  0.181574     0.0160093    0.124213       -0.024652     0.0701271\n",
       "  0.269766    -0.120986    -0.0369344       0.044004    -0.133876"
      ]
     },
     "metadata": {},
     "output_type": "display_data"
    }
   ],
   "source": [
    "num_test_examples = 100\n",
    "\n",
    "# using the same PCA model we fit to the test set\n",
    "test_features = predict(model_pca, reshape(data_test.features, (784, 10000)))[:, 1:num_test_examples] \n",
    "\n",
    "# same rescaling we applied on train input get reasonable detuning values \n",
    "test_features_qrc = test_features/spectral * Δ_max \n",
    "\n",
    "# quantum embeddings for 100 test samples\n",
    "test_embeddings = apply_layer(pre_layer, test_features_qrc)"
   ]
  },
  {
   "attachments": {},
   "cell_type": "markdown",
   "id": "56dd0b0b",
   "metadata": {},
   "source": [
    "We define a function to calculate the accuracy by camparing the predicting result and the label."
   ]
  },
  {
   "cell_type": "code",
   "execution_count": 16,
   "id": "4ff82f0e",
   "metadata": {},
   "outputs": [
    {
     "data": {
      "text/plain": [
       "accuracy (generic function with 1 method)"
      ]
     },
     "metadata": {},
     "output_type": "display_data"
    }
   ],
   "source": [
    "accuracy(model, xs, targets) = sum(onecold(model(xs), 0:9) .== targets)/length(targets)"
   ]
  },
  {
   "attachments": {},
   "cell_type": "markdown",
   "id": "1ded7118",
   "metadata": {},
   "source": [
    "Let us see the performance of the classical model and the QRC model."
   ]
  },
  {
   "cell_type": "code",
   "execution_count": 17,
   "id": "b156df1d-e200-42a8-a97f-40dbd5bfde70",
   "metadata": {
    "scrolled": true
   },
   "outputs": [
    {
     "name": "stdout",
     "output_type": "stream",
     "text": [
      "train accuracy of model on PCA embeddings: 0.826\n",
      "test accuracy of model on PCA embeddings: 0.74\n",
      "train accuracy of model on QRC embeddings: 1.0\n",
      "test accuracy of model on QRC embeddings: 0.81\n"
     ]
    }
   ],
   "source": [
    "# correct labels for 100 test samples\n",
    "test_targets = data_test.targets[1:num_test_examples]\n",
    "\n",
    "# accuracy on training and test for each model\n",
    "acc_train_reg = accuracy(model_reg, xs, onecold(ys, 0:9))\n",
    "acc_test_reg = accuracy(model_reg,  test_features, test_targets)\n",
    "acc_train_qrc = accuracy(model_qrc, embeddings, onecold(ys, 0:9))\n",
    "acc_test_qrc = accuracy(model_qrc, test_embeddings, test_targets)\n",
    "\n",
    "println(\"train accuracy of model on PCA embeddings: \", acc_train_reg)\n",
    "println(\"test accuracy of model on PCA embeddings: \", acc_test_reg)\n",
    "println(\"train accuracy of model on QRC embeddings: \", acc_train_qrc)\n",
    "println(\"test accuracy of model on QRC embeddings: \", acc_test_qrc)"
   ]
  },
  {
   "attachments": {},
   "cell_type": "markdown",
   "id": "9136d49f",
   "metadata": {},
   "source": [
    "Because the number of training samples is not large enough, the QRC model got overfitted, so it may perform less well on prediction. To get better performance, we need more samples in the training set and more qubits will also help.\n",
    "\n",
    "## Wrapping QRC pipeline\n",
    "In the following part, we will wrap all the pipeline of the QRC model into a `struct` that takes images as the input and outputs the predicted labels."
   ]
  },
  {
   "cell_type": "code",
   "execution_count": 18,
   "id": "e1901662",
   "metadata": {},
   "outputs": [],
   "source": [
    "# define the data structure for wrapping up\n",
    "struct QRCModel\n",
    "    model_pca\n",
    "    spectral\n",
    "    Δ_max\n",
    "    detuning_layer\n",
    "    linear_regression\n",
    "end\n",
    "\n",
    "# given input images compute the prediction\n",
    "function (model::QRCModel)(xs)\n",
    "    if length(size(xs)) == 3 # list of images\n",
    "        num_samples = size(xs)[end]\n",
    "        num_sample_dim = prod(size(xs)[1:end-1])\n",
    "    elseif length(size(xs)) == 2 # one image\n",
    "        num_samples = 1\n",
    "        num_sample_dim = prod(size(xs))\n",
    "    end\n",
    "    xs = reshape(xs, (num_sample_dim, num_samples)) # flatten the input\n",
    "    xs_pca = predict(model.model_pca, xs)\n",
    "    xs_pca = xs_pca / model.spectral * model.Δ_max\n",
    "    detuning_layer = model.detuning_layer\n",
    "    num_steps = length(detuning_layer.t_start:detuning_layer.step:detuning_layer.t_end) - 1\n",
    "    embeddings = apply_layer(detuning_layer, xs_pca)\n",
    "    ys = model.linear_regression(embeddings)\n",
    "    predicts = onecold(ys, 0:9)\n",
    "    return predicts\n",
    "end"
   ]
  },
  {
   "attachments": {},
   "cell_type": "markdown",
   "id": "14b0dff8",
   "metadata": {},
   "source": [
    "Once the pipeline of the QRC model has been wrapped, we will compare the toy model we have just built with a pre-trained model. The pre-trained model has been trained on the MNIST dataset using 10000 samples and 15 atoms, and has been saved in the `pre_trained.jld` file."
   ]
  },
  {
   "cell_type": "code",
   "execution_count": 19,
   "id": "108c5dd2",
   "metadata": {},
   "outputs": [],
   "source": [
    "# This is the toy model we trained from 1000 images\n",
    "toy_model = QRCModel(model_pca, spectral, Δ_max, pre_layer, model_qrc);\n",
    "\n",
    "# This is a pre-trained model we trained from 10000 images with 15 atoms\n",
    "pre_trained_model = load(\"pre_trained.jld2\")[\"qrc_model\"];"
   ]
  },
  {
   "attachments": {},
   "cell_type": "markdown",
   "id": "43a3c458",
   "metadata": {},
   "source": [
    "We select the first 100 images from the test set."
   ]
  },
  {
   "cell_type": "code",
   "execution_count": 20,
   "id": "6794fbdc",
   "metadata": {},
   "outputs": [],
   "source": [
    "num_test_examples = 100\n",
    "test_examples = data_test.features[:,:,1:num_test_examples]\n",
    "label = data_test.targets[1:num_test_examples];"
   ]
  },
  {
   "attachments": {},
   "cell_type": "markdown",
   "id": "a453f2b6",
   "metadata": {},
   "source": [
    "Let us see the performance of the toy model on these 100 images"
   ]
  },
  {
   "cell_type": "code",
   "execution_count": 21,
   "id": "4c49dc3b",
   "metadata": {},
   "outputs": [
    {
     "name": "stderr",
     "output_type": "stream",
     "text": [
      "\r0.0%┣                                              ┫ 0/100 [00:00<00:00, -0s/it]\n"
     ]
    },
    {
     "name": "stderr",
     "output_type": "stream",
     "text": [
      "\u001b[1A\r1.0%┣▍                                         ┫ 1/100 [00:00<Inf:Inf, InfGs/it]\n",
      "\u001b[1A\r3.0%┣█▍                                            ┫ 3/100 [00:00<00:06, 16it/s]\n"
     ]
    },
    {
     "name": "stderr",
     "output_type": "stream",
     "text": [
      "\u001b[1A\r5.0%┣██▎                                           ┫ 5/100 [00:00<00:05, 21it/s]\n",
      "\u001b[1A\r7.0%┣███▏                                          ┫ 7/100 [00:00<00:04, 24it/s]\n"
     ]
    },
    {
     "name": "stderr",
     "output_type": "stream",
     "text": [
      "\u001b[1A\r9.0%┣████▏                                         ┫ 9/100 [00:00<00:03, 26it/s]\n",
      "\u001b[1A\r11.0%┣████▉                                       ┫ 11/100 [00:00<00:03, 27it/s]\n"
     ]
    },
    {
     "name": "stderr",
     "output_type": "stream",
     "text": [
      "\u001b[1A\r13.0%┣█████▊                                      ┫ 13/100 [00:00<00:03, 28it/s]\n",
      "\u001b[1A\r15.0%┣██████▋                                     ┫ 15/100 [00:00<00:03, 28it/s]\n"
     ]
    },
    {
     "name": "stderr",
     "output_type": "stream",
     "text": [
      "\u001b[1A\r17.0%┣███████▌                                    ┫ 17/100 [00:01<00:03, 29it/s]\n",
      "\u001b[1A\r19.0%┣████████▍                                   ┫ 19/100 [00:01<00:03, 29it/s]"
     ]
    },
    {
     "name": "stderr",
     "output_type": "stream",
     "text": [
      "\n",
      "\u001b[1A\r21.0%┣█████████▎                                  ┫ 21/100 [00:01<00:03, 30it/s]\n",
      "\u001b[1A\r23.0%┣██████████▏                                 ┫ 23/100 [00:01<00:03, 30it/s]\n"
     ]
    },
    {
     "name": "stderr",
     "output_type": "stream",
     "text": [
      "\u001b[1A\r25.0%┣███████████                                 ┫ 25/100 [00:01<00:03, 30it/s]\n",
      "\u001b[1A\r27.0%┣███████████▉                                ┫ 27/100 [00:01<00:02, 30it/s]\n"
     ]
    },
    {
     "name": "stderr",
     "output_type": "stream",
     "text": [
      "\u001b[1A\r29.0%┣████████████▊                               ┫ 29/100 [00:01<00:02, 31it/s]\n",
      "\u001b[1A\r31.0%┣█████████████▋                              ┫ 31/100 [00:01<00:02, 31it/s]\n"
     ]
    },
    {
     "name": "stderr",
     "output_type": "stream",
     "text": [
      "\u001b[1A\r33.0%┣██████████████▌                             ┫ 33/100 [00:01<00:02, 31it/s]\n",
      "\u001b[1A\r35.0%┣███████████████▍                            ┫ 35/100 [00:01<00:02, 31it/s]\n"
     ]
    },
    {
     "name": "stderr",
     "output_type": "stream",
     "text": [
      "\u001b[1A\r37.0%┣████████████████▎                           ┫ 37/100 [00:01<00:02, 31it/s]\n",
      "\u001b[1A\r39.0%┣█████████████████▏                          ┫ 39/100 [00:01<00:02, 31it/s]\n"
     ]
    },
    {
     "name": "stderr",
     "output_type": "stream",
     "text": [
      "\u001b[1A\r41.0%┣██████████████████                          ┫ 41/100 [00:01<00:02, 31it/s]\n",
      "\u001b[1A\r43.0%┣███████████████████                         ┫ 43/100 [00:01<00:02, 31it/s]\n"
     ]
    },
    {
     "name": "stderr",
     "output_type": "stream",
     "text": [
      "\u001b[1A\r45.0%┣███████████████████▉                        ┫ 45/100 [00:01<00:02, 32it/s]\n",
      "\u001b[1A\r47.0%┣████████████████████▊                       ┫ 47/100 [00:01<00:02, 32it/s]\n"
     ]
    },
    {
     "name": "stderr",
     "output_type": "stream",
     "text": [
      "\u001b[1A\r49.0%┣█████████████████████▋                      ┫ 49/100 [00:02<00:02, 32it/s]\n",
      "\u001b[1A\r51.0%┣██████████████████████▍                     ┫ 51/100 [00:02<00:02, 32it/s]\n"
     ]
    },
    {
     "name": "stderr",
     "output_type": "stream",
     "text": [
      "\u001b[1A\r53.0%┣███████████████████████▎                    ┫ 53/100 [00:02<00:01, 32it/s]\n",
      "\u001b[1A\r55.0%┣████████████████████████▏                   ┫ 55/100 [00:02<00:01, 32it/s]\n"
     ]
    },
    {
     "name": "stderr",
     "output_type": "stream",
     "text": [
      "\u001b[1A\r57.0%┣█████████████████████████                   ┫ 57/100 [00:02<00:01, 32it/s]\n",
      "\u001b[1A\r59.0%┣██████████████████████████                  ┫ 59/100 [00:02<00:01, 32it/s]\n"
     ]
    },
    {
     "name": "stderr",
     "output_type": "stream",
     "text": [
      "\u001b[1A\r61.0%┣██████████████████████████▉                 ┫ 61/100 [00:02<00:01, 32it/s]\n",
      "\u001b[1A\r63.0%┣███████████████████████████▊                ┫ 63/100 [00:02<00:01, 32it/s]\n"
     ]
    },
    {
     "name": "stderr",
     "output_type": "stream",
     "text": [
      "\u001b[1A\r65.0%┣████████████████████████████▋               ┫ 65/100 [00:02<00:01, 32it/s]\n",
      "\u001b[1A\r67.0%┣█████████████████████████████▌              ┫ 67/100 [00:02<00:01, 32it/s]\n"
     ]
    },
    {
     "name": "stderr",
     "output_type": "stream",
     "text": [
      "\u001b[1A\r69.0%┣██████████████████████████████▍             ┫ 69/100 [00:02<00:01, 32it/s]\n",
      "\u001b[1A\r71.0%┣███████████████████████████████▎            ┫ 71/100 [00:02<00:01, 32it/s]\n"
     ]
    },
    {
     "name": "stderr",
     "output_type": "stream",
     "text": [
      "\u001b[1A\r73.0%┣████████████████████████████████▏           ┫ 73/100 [00:02<00:01, 33it/s]\n",
      "\u001b[1A\r75.0%┣█████████████████████████████████           ┫ 75/100 [00:02<00:01, 33it/s]\n"
     ]
    },
    {
     "name": "stderr",
     "output_type": "stream",
     "text": [
      "\u001b[1A\r77.0%┣█████████████████████████████████▉          ┫ 77/100 [00:02<00:01, 33it/s]\n",
      "\u001b[1A\r79.0%┣██████████████████████████████████▊         ┫ 79/100 [00:02<00:01, 33it/s]\n"
     ]
    },
    {
     "name": "stderr",
     "output_type": "stream",
     "text": [
      "\u001b[1A\r81.0%┣███████████████████████████████████▋        ┫ 81/100 [00:02<00:01, 33it/s]\n",
      "\u001b[1A\r83.0%┣████████████████████████████████████▌       ┫ 83/100 [00:03<00:01, 33it/s]\n"
     ]
    },
    {
     "name": "stderr",
     "output_type": "stream",
     "text": [
      "\u001b[1A\r85.0%┣█████████████████████████████████████▍      ┫ 85/100 [00:03<00:00, 33it/s]\n",
      "\u001b[1A\r87.0%┣██████████████████████████████████████▎     ┫ 87/100 [00:03<00:00, 33it/s]\n"
     ]
    },
    {
     "name": "stderr",
     "output_type": "stream",
     "text": [
      "\u001b[1A\r89.0%┣███████████████████████████████████████▏    ┫ 89/100 [00:03<00:00, 33it/s]\n",
      "\u001b[1A\r91.0%┣████████████████████████████████████████    ┫ 91/100 [00:03<00:00, 33it/s]\n"
     ]
    },
    {
     "name": "stderr",
     "output_type": "stream",
     "text": [
      "\u001b[1A\r93.0%┣█████████████████████████████████████████   ┫ 93/100 [00:03<00:00, 33it/s]\n",
      "\u001b[1A\r95.0%┣█████████████████████████████████████████▉  ┫ 95/100 [00:03<00:00, 33it/s]\n"
     ]
    },
    {
     "name": "stderr",
     "output_type": "stream",
     "text": [
      "\u001b[1A\r97.0%┣██████████████████████████████████████████▊ ┫ 97/100 [00:03<00:00, 33it/s]\n",
      "\u001b[1A\r99.0%┣███████████████████████████████████████████▋┫ 99/100 [00:03<00:00, 33it/s]\n",
      "\u001b[1A\r100.0%┣██████████████████████████████████████████┫ 100/100 [00:03<00:00, 33it/s]\n",
      "\u001b[1A\r100.0%┣██████████████████████████████████████████┫ 100/100 [00:03<00:00, 33it/s]\n"
     ]
    },
    {
     "data": {
      "text/plain": [
       "0.81"
      ]
     },
     "metadata": {},
     "output_type": "display_data"
    }
   ],
   "source": [
    "pred_toy = toy_model(test_examples)\n",
    "sum(pred_toy .== label) / length(label)"
   ]
  },
  {
   "attachments": {},
   "cell_type": "markdown",
   "id": "a97fd805",
   "metadata": {},
   "source": [
    "Let us see the performance of the pre-trained model on these 100 images.\n",
    "\n",
    "(It may take a few minutes to run the dynamics)"
   ]
  },
  {
   "cell_type": "code",
   "execution_count": 22,
   "id": "fa7ed712",
   "metadata": {},
   "outputs": [
    {
     "name": "stderr",
     "output_type": "stream",
     "text": [
      "\r0.0%┣                                              ┫ 0/100 [00:00<00:00, -0s/it]\n"
     ]
    },
    {
     "name": "stderr",
     "output_type": "stream",
     "text": [
      "\u001b[1A\r1.0%┣▍                                         ┫ 1/100 [00:02<Inf:Inf, InfGs/it]\n"
     ]
    },
    {
     "name": "stderr",
     "output_type": "stream",
     "text": [
      "\u001b[1A\r2.0%┣█                                              ┫ 2/100 [00:03<05:11, 3s/it]"
     ]
    },
    {
     "name": "stderr",
     "output_type": "stream",
     "text": [
      "\n",
      "\u001b[1A\r3.0%┣█▍                                             ┫ 3/100 [00:05<03:46, 2s/it]\n"
     ]
    },
    {
     "name": "stderr",
     "output_type": "stream",
     "text": [
      "\u001b[1A\r4.0%┣█▉                                             ┫ 4/100 [00:06<03:18, 2s/it]\n"
     ]
    },
    {
     "name": "stderr",
     "output_type": "stream",
     "text": [
      "\u001b[1A\r5.0%┣██▍                                            ┫ 5/100 [00:08<03:02, 2s/it]\n"
     ]
    },
    {
     "name": "stderr",
     "output_type": "stream",
     "text": [
      "\u001b[1A\r6.0%┣██▉                                            ┫ 6/100 [00:09<02:53, 2s/it]\n"
     ]
    },
    {
     "name": "stderr",
     "output_type": "stream",
     "text": [
      "\u001b[1A\r7.0%┣███▎                                           ┫ 7/100 [00:11<02:45, 2s/it]\n"
     ]
    },
    {
     "name": "stderr",
     "output_type": "stream",
     "text": [
      "\u001b[1A\r8.0%┣███▊                                           ┫ 8/100 [00:12<02:39, 2s/it]"
     ]
    },
    {
     "name": "stderr",
     "output_type": "stream",
     "text": [
      "\n",
      "\u001b[1A\r9.0%┣████▎                                          ┫ 9/100 [00:14<02:35, 2s/it]\n"
     ]
    },
    {
     "name": "stderr",
     "output_type": "stream",
     "text": [
      "\u001b[1A\r10.0%┣████▌                                        ┫ 10/100 [00:15<02:31, 2s/it]\n"
     ]
    },
    {
     "name": "stderr",
     "output_type": "stream",
     "text": [
      "\u001b[1A\r11.0%┣█████                                        ┫ 11/100 [00:17<02:28, 2s/it]\n"
     ]
    },
    {
     "name": "stderr",
     "output_type": "stream",
     "text": [
      "\u001b[1A\r12.0%┣█████▍                                       ┫ 12/100 [00:18<02:24, 2s/it]\n"
     ]
    },
    {
     "name": "stderr",
     "output_type": "stream",
     "text": [
      "\u001b[1A\r13.0%┣█████▉                                       ┫ 13/100 [00:20<02:22, 2s/it]\n"
     ]
    },
    {
     "name": "stderr",
     "output_type": "stream",
     "text": [
      "\u001b[1A\r14.0%┣██████▎                                      ┫ 14/100 [00:21<02:19, 2s/it]"
     ]
    },
    {
     "name": "stderr",
     "output_type": "stream",
     "text": [
      "\n",
      "\u001b[1A\r15.0%┣██████▊                                      ┫ 15/100 [00:23<02:17, 2s/it]\n"
     ]
    },
    {
     "name": "stderr",
     "output_type": "stream",
     "text": [
      "\u001b[1A\r16.0%┣███████▏                                     ┫ 16/100 [00:24<02:14, 2s/it]\n"
     ]
    },
    {
     "name": "stderr",
     "output_type": "stream",
     "text": [
      "\u001b[1A\r17.0%┣███████▋                                     ┫ 17/100 [00:25<02:12, 2s/it]\n"
     ]
    },
    {
     "name": "stderr",
     "output_type": "stream",
     "text": [
      "\u001b[1A\r18.0%┣████████                                     ┫ 18/100 [00:27<02:10, 2s/it]\n"
     ]
    },
    {
     "name": "stderr",
     "output_type": "stream",
     "text": [
      "\u001b[1A\r19.0%┣████████▌                                    ┫ 19/100 [00:28<02:08, 2s/it]\n"
     ]
    },
    {
     "name": "stderr",
     "output_type": "stream",
     "text": [
      "\u001b[1A\r20.0%┣█████████                                    ┫ 20/100 [00:30<02:06, 2s/it]\n"
     ]
    },
    {
     "name": "stderr",
     "output_type": "stream",
     "text": [
      "\u001b[1A\r21.0%┣█████████▌                                   ┫ 21/100 [00:31<02:04, 2s/it]\n"
     ]
    },
    {
     "name": "stderr",
     "output_type": "stream",
     "text": [
      "\u001b[1A\r22.0%┣██████████                                   ┫ 22/100 [00:33<02:02, 2s/it]\n"
     ]
    },
    {
     "name": "stderr",
     "output_type": "stream",
     "text": [
      "\u001b[1A\r23.0%┣██████████▍                                  ┫ 23/100 [00:34<02:00, 2s/it]\n"
     ]
    },
    {
     "name": "stderr",
     "output_type": "stream",
     "text": [
      "\u001b[1A\r24.0%┣██████████▉                                  ┫ 24/100 [00:36<01:58, 2s/it]\n"
     ]
    },
    {
     "name": "stderr",
     "output_type": "stream",
     "text": [
      "\u001b[1A\r25.0%┣███████████▎                                 ┫ 25/100 [00:37<01:57, 2s/it]"
     ]
    },
    {
     "name": "stderr",
     "output_type": "stream",
     "text": [
      "\n",
      "\u001b[1A\r26.0%┣███████████▊                                 ┫ 26/100 [00:39<01:55, 2s/it]\n"
     ]
    },
    {
     "name": "stderr",
     "output_type": "stream",
     "text": [
      "\u001b[1A\r27.0%┣████████████▏                                ┫ 27/100 [00:40<01:53, 2s/it]\n"
     ]
    },
    {
     "name": "stderr",
     "output_type": "stream",
     "text": [
      "\u001b[1A\r28.0%┣████████████▋                                ┫ 28/100 [00:42<01:51, 2s/it]\n"
     ]
    },
    {
     "name": "stderr",
     "output_type": "stream",
     "text": [
      "\u001b[1A\r29.0%┣█████████████                                ┫ 29/100 [00:43<01:50, 2s/it]"
     ]
    },
    {
     "name": "stderr",
     "output_type": "stream",
     "text": [
      "\n",
      "\u001b[1A\r30.0%┣█████████████▌                               ┫ 30/100 [00:45<01:48, 2s/it]\n"
     ]
    },
    {
     "name": "stderr",
     "output_type": "stream",
     "text": [
      "\u001b[1A\r31.0%┣██████████████                               ┫ 31/100 [00:46<01:47, 2s/it]\n"
     ]
    },
    {
     "name": "stderr",
     "output_type": "stream",
     "text": [
      "\u001b[1A\r32.0%┣██████████████▍                              ┫ 32/100 [00:48<01:45, 2s/it]\n"
     ]
    },
    {
     "name": "stderr",
     "output_type": "stream",
     "text": [
      "\u001b[1A\r33.0%┣██████████████▉                              ┫ 33/100 [00:50<01:45, 2s/it]"
     ]
    },
    {
     "name": "stderr",
     "output_type": "stream",
     "text": [
      "\n",
      "\u001b[1A\r34.0%┣███████████████▎                             ┫ 34/100 [00:52<01:44, 2s/it]"
     ]
    },
    {
     "name": "stderr",
     "output_type": "stream",
     "text": [
      "\n",
      "\u001b[1A\r35.0%┣███████████████▊                             ┫ 35/100 [00:53<01:42, 2s/it]\n"
     ]
    },
    {
     "name": "stderr",
     "output_type": "stream",
     "text": [
      "\u001b[1A\r36.0%┣████████████████▏                            ┫ 36/100 [00:55<01:41, 2s/it]"
     ]
    },
    {
     "name": "stderr",
     "output_type": "stream",
     "text": [
      "\n",
      "\u001b[1A\r37.0%┣████████████████▋                            ┫ 37/100 [00:57<01:39, 2s/it]"
     ]
    },
    {
     "name": "stderr",
     "output_type": "stream",
     "text": [
      "\n",
      "\u001b[1A\r38.0%┣█████████████████                            ┫ 38/100 [00:58<01:37, 2s/it]\n"
     ]
    },
    {
     "name": "stderr",
     "output_type": "stream",
     "text": [
      "\u001b[1A\r39.0%┣█████████████████▌                           ┫ 39/100 [01:00<01:36, 2s/it]\n"
     ]
    },
    {
     "name": "stderr",
     "output_type": "stream",
     "text": [
      "\u001b[1A\r40.0%┣██████████████████                           ┫ 40/100 [01:01<01:34, 2s/it]\n"
     ]
    },
    {
     "name": "stderr",
     "output_type": "stream",
     "text": [
      "\u001b[1A\r41.0%┣██████████████████▌                          ┫ 41/100 [01:03<01:32, 2s/it]\n"
     ]
    },
    {
     "name": "stderr",
     "output_type": "stream",
     "text": [
      "\u001b[1A\r42.0%┣███████████████████                          ┫ 42/100 [01:04<01:31, 2s/it]\n"
     ]
    },
    {
     "name": "stderr",
     "output_type": "stream",
     "text": [
      "\u001b[1A\r43.0%┣███████████████████▍                         ┫ 43/100 [01:06<01:29, 2s/it]\n"
     ]
    },
    {
     "name": "stderr",
     "output_type": "stream",
     "text": [
      "\u001b[1A\r44.0%┣███████████████████▉                         ┫ 44/100 [01:07<01:28, 2s/it]"
     ]
    },
    {
     "name": "stderr",
     "output_type": "stream",
     "text": [
      "\n",
      "\u001b[1A\r45.0%┣████████████████████▎                        ┫ 45/100 [01:09<01:26, 2s/it]\n"
     ]
    },
    {
     "name": "stderr",
     "output_type": "stream",
     "text": [
      "\u001b[1A\r46.0%┣████████████████████▊                        ┫ 46/100 [01:10<01:24, 2s/it]"
     ]
    },
    {
     "name": "stderr",
     "output_type": "stream",
     "text": [
      "\n",
      "\u001b[1A\r47.0%┣█████████████████████▏                       ┫ 47/100 [01:12<01:23, 2s/it]\n"
     ]
    },
    {
     "name": "stderr",
     "output_type": "stream",
     "text": [
      "\u001b[1A\r48.0%┣█████████████████████▋                       ┫ 48/100 [01:13<01:21, 2s/it]\n"
     ]
    },
    {
     "name": "stderr",
     "output_type": "stream",
     "text": [
      "\u001b[1A\r49.0%┣██████████████████████                       ┫ 49/100 [01:15<01:19, 2s/it]\n"
     ]
    },
    {
     "name": "stderr",
     "output_type": "stream",
     "text": [
      "\u001b[1A\r50.0%┣██████████████████████▌                      ┫ 50/100 [01:16<01:18, 2s/it]\n"
     ]
    },
    {
     "name": "stderr",
     "output_type": "stream",
     "text": [
      "\u001b[1A\r51.0%┣███████████████████████                      ┫ 51/100 [01:18<01:16, 2s/it]\n"
     ]
    },
    {
     "name": "stderr",
     "output_type": "stream",
     "text": [
      "\u001b[1A\r52.0%┣███████████████████████▍                     ┫ 52/100 [01:19<01:14, 2s/it]\n"
     ]
    },
    {
     "name": "stderr",
     "output_type": "stream",
     "text": [
      "\u001b[1A\r53.0%┣███████████████████████▉                     ┫ 53/100 [01:21<01:13, 2s/it]\n"
     ]
    },
    {
     "name": "stderr",
     "output_type": "stream",
     "text": [
      "\u001b[1A\r54.0%┣████████████████████████▎                    ┫ 54/100 [01:22<01:11, 2s/it]\n"
     ]
    },
    {
     "name": "stderr",
     "output_type": "stream",
     "text": [
      "\u001b[1A\r55.0%┣████████████████████████▊                    ┫ 55/100 [01:24<01:10, 2s/it]\n"
     ]
    },
    {
     "name": "stderr",
     "output_type": "stream",
     "text": [
      "\u001b[1A\r56.0%┣█████████████████████████▏                   ┫ 56/100 [01:25<01:08, 2s/it]\n"
     ]
    },
    {
     "name": "stderr",
     "output_type": "stream",
     "text": [
      "\u001b[1A\r57.0%┣█████████████████████████▋                   ┫ 57/100 [01:27<01:07, 2s/it]\n"
     ]
    },
    {
     "name": "stderr",
     "output_type": "stream",
     "text": [
      "\u001b[1A\r58.0%┣██████████████████████████                   ┫ 58/100 [01:28<01:05, 2s/it]\n"
     ]
    },
    {
     "name": "stderr",
     "output_type": "stream",
     "text": [
      "\u001b[1A\r59.0%┣██████████████████████████▌                  ┫ 59/100 [01:30<01:03, 2s/it]\n"
     ]
    },
    {
     "name": "stderr",
     "output_type": "stream",
     "text": [
      "\u001b[1A\r60.0%┣███████████████████████████                  ┫ 60/100 [01:31<01:02, 2s/it]\n"
     ]
    },
    {
     "name": "stderr",
     "output_type": "stream",
     "text": [
      "\u001b[1A\r61.0%┣███████████████████████████▌                 ┫ 61/100 [01:33<01:00, 2s/it]\n"
     ]
    },
    {
     "name": "stderr",
     "output_type": "stream",
     "text": [
      "\u001b[1A\r62.0%┣████████████████████████████                 ┫ 62/100 [01:34<00:59, 2s/it]\n"
     ]
    },
    {
     "name": "stderr",
     "output_type": "stream",
     "text": [
      "\u001b[1A\r63.0%┣████████████████████████████▍                ┫ 63/100 [01:36<00:57, 2s/it]\n"
     ]
    },
    {
     "name": "stderr",
     "output_type": "stream",
     "text": [
      "\u001b[1A\r64.0%┣████████████████████████████▉                ┫ 64/100 [01:37<00:56, 2s/it]\n"
     ]
    },
    {
     "name": "stderr",
     "output_type": "stream",
     "text": [
      "\u001b[1A\r65.0%┣█████████████████████████████▎               ┫ 65/100 [01:39<00:54, 2s/it]\n"
     ]
    },
    {
     "name": "stderr",
     "output_type": "stream",
     "text": [
      "\u001b[1A\r66.0%┣█████████████████████████████▊               ┫ 66/100 [01:40<00:52, 2s/it]\n"
     ]
    },
    {
     "name": "stderr",
     "output_type": "stream",
     "text": [
      "\u001b[1A\r67.0%┣██████████████████████████████▏              ┫ 67/100 [01:42<00:51, 2s/it]\n"
     ]
    },
    {
     "name": "stderr",
     "output_type": "stream",
     "text": [
      "\u001b[1A\r68.0%┣██████████████████████████████▋              ┫ 68/100 [01:43<00:49, 2s/it]\n"
     ]
    },
    {
     "name": "stderr",
     "output_type": "stream",
     "text": [
      "\u001b[1A\r69.0%┣███████████████████████████████              ┫ 69/100 [01:45<00:48, 2s/it]"
     ]
    },
    {
     "name": "stderr",
     "output_type": "stream",
     "text": [
      "\n",
      "\u001b[1A\r70.0%┣███████████████████████████████▌             ┫ 70/100 [01:46<00:46, 2s/it]\n"
     ]
    },
    {
     "name": "stderr",
     "output_type": "stream",
     "text": [
      "\u001b[1A\r71.0%┣████████████████████████████████             ┫ 71/100 [01:48<00:45, 2s/it]"
     ]
    },
    {
     "name": "stderr",
     "output_type": "stream",
     "text": [
      "\n",
      "\u001b[1A\r72.0%┣████████████████████████████████▍            ┫ 72/100 [01:49<00:43, 2s/it]\n"
     ]
    },
    {
     "name": "stderr",
     "output_type": "stream",
     "text": [
      "\u001b[1A\r73.0%┣████████████████████████████████▉            ┫ 73/100 [01:51<00:41, 2s/it]\n"
     ]
    },
    {
     "name": "stderr",
     "output_type": "stream",
     "text": [
      "\u001b[1A\r74.0%┣█████████████████████████████████▎           ┫ 74/100 [01:52<00:40, 2s/it]\n"
     ]
    },
    {
     "name": "stderr",
     "output_type": "stream",
     "text": [
      "\u001b[1A\r75.0%┣█████████████████████████████████▊           ┫ 75/100 [01:54<00:38, 2s/it]\n"
     ]
    },
    {
     "name": "stderr",
     "output_type": "stream",
     "text": [
      "\u001b[1A\r76.0%┣██████████████████████████████████▏          ┫ 76/100 [01:56<00:37, 2s/it]\n"
     ]
    },
    {
     "name": "stderr",
     "output_type": "stream",
     "text": [
      "\u001b[1A\r77.0%┣██████████████████████████████████▋          ┫ 77/100 [01:58<00:36, 2s/it]\n"
     ]
    },
    {
     "name": "stderr",
     "output_type": "stream",
     "text": [
      "\u001b[1A\r78.0%┣███████████████████████████████████          ┫ 78/100 [01:59<00:34, 2s/it]\n"
     ]
    },
    {
     "name": "stderr",
     "output_type": "stream",
     "text": [
      "\u001b[1A\r79.0%┣███████████████████████████████████▌         ┫ 79/100 [02:01<00:33, 2s/it]\n"
     ]
    },
    {
     "name": "stderr",
     "output_type": "stream",
     "text": [
      "\u001b[1A\r80.0%┣████████████████████████████████████         ┫ 80/100 [02:02<00:31, 2s/it]\n"
     ]
    },
    {
     "name": "stderr",
     "output_type": "stream",
     "text": [
      "\u001b[1A\r81.0%┣████████████████████████████████████▌        ┫ 81/100 [02:04<00:29, 2s/it]\n"
     ]
    },
    {
     "name": "stderr",
     "output_type": "stream",
     "text": [
      "\u001b[1A\r82.0%┣█████████████████████████████████████        ┫ 82/100 [02:05<00:28, 2s/it]\n"
     ]
    },
    {
     "name": "stderr",
     "output_type": "stream",
     "text": [
      "\u001b[1A\r83.0%┣█████████████████████████████████████▍       ┫ 83/100 [02:07<00:26, 2s/it]\n"
     ]
    },
    {
     "name": "stderr",
     "output_type": "stream",
     "text": [
      "\u001b[1A\r84.0%┣█████████████████████████████████████▉       ┫ 84/100 [02:09<00:25, 2s/it]\n"
     ]
    },
    {
     "name": "stderr",
     "output_type": "stream",
     "text": [
      "\u001b[1A\r85.0%┣██████████████████████████████████████▎      ┫ 85/100 [02:10<00:23, 2s/it]"
     ]
    },
    {
     "name": "stderr",
     "output_type": "stream",
     "text": [
      "\n",
      "\u001b[1A\r86.0%┣██████████████████████████████████████▊      ┫ 86/100 [02:12<00:22, 2s/it]\n"
     ]
    },
    {
     "name": "stderr",
     "output_type": "stream",
     "text": [
      "\u001b[1A\r87.0%┣███████████████████████████████████████▏     ┫ 87/100 [02:14<00:20, 2s/it]\n"
     ]
    },
    {
     "name": "stderr",
     "output_type": "stream",
     "text": [
      "\u001b[1A\r88.0%┣███████████████████████████████████████▋     ┫ 88/100 [02:15<00:19, 2s/it]\n"
     ]
    },
    {
     "name": "stderr",
     "output_type": "stream",
     "text": [
      "\u001b[1A\r89.0%┣████████████████████████████████████████     ┫ 89/100 [02:17<00:17, 2s/it]\n"
     ]
    },
    {
     "name": "stderr",
     "output_type": "stream",
     "text": [
      "\u001b[1A\r90.0%┣████████████████████████████████████████▌    ┫ 90/100 [02:18<00:16, 2s/it]\n"
     ]
    },
    {
     "name": "stderr",
     "output_type": "stream",
     "text": [
      "\u001b[1A\r91.0%┣█████████████████████████████████████████    ┫ 91/100 [02:20<00:14, 2s/it]\n"
     ]
    },
    {
     "name": "stderr",
     "output_type": "stream",
     "text": [
      "\u001b[1A\r92.0%┣█████████████████████████████████████████▍   ┫ 92/100 [02:22<00:12, 2s/it]\n"
     ]
    },
    {
     "name": "stderr",
     "output_type": "stream",
     "text": [
      "\u001b[1A\r93.0%┣█████████████████████████████████████████▉   ┫ 93/100 [02:23<00:11, 2s/it]"
     ]
    },
    {
     "name": "stderr",
     "output_type": "stream",
     "text": [
      "\n",
      "\u001b[1A\r94.0%┣██████████████████████████████████████████▎  ┫ 94/100 [02:25<00:09, 2s/it]\n"
     ]
    },
    {
     "name": "stderr",
     "output_type": "stream",
     "text": [
      "\u001b[1A\r95.0%┣██████████████████████████████████████████▊  ┫ 95/100 [02:26<00:08, 2s/it]\n"
     ]
    },
    {
     "name": "stderr",
     "output_type": "stream",
     "text": [
      "\u001b[1A\r96.0%┣███████████████████████████████████████████▏ ┫ 96/100 [02:28<00:06, 2s/it]\n"
     ]
    },
    {
     "name": "stderr",
     "output_type": "stream",
     "text": [
      "\u001b[1A\r97.0%┣███████████████████████████████████████████▋ ┫ 97/100 [02:29<00:05, 2s/it]\n"
     ]
    },
    {
     "name": "stderr",
     "output_type": "stream",
     "text": [
      "\u001b[1A\r98.0%┣████████████████████████████████████████████ ┫ 98/100 [02:31<00:03, 2s/it]"
     ]
    },
    {
     "name": "stderr",
     "output_type": "stream",
     "text": [
      "\n",
      "\u001b[1A\r99.0%┣████████████████████████████████████████████▌┫ 99/100 [02:32<00:02, 2s/it]\n"
     ]
    },
    {
     "name": "stderr",
     "output_type": "stream",
     "text": [
      "\u001b[1A\r100.0%┣███████████████████████████████████████████┫ 100/100 [02:34<00:00, 2s/it]\n",
      "\u001b[1A\r100.0%┣███████████████████████████████████████████┫ 100/100 [02:34<00:00, 2s/it]\n"
     ]
    },
    {
     "data": {
      "text/plain": [
       "0.97"
      ]
     },
     "metadata": {},
     "output_type": "display_data"
    }
   ],
   "source": [
    "# uncomment the next line to see progress bar\n",
    "# SHOW_PROGRESS_BAR = true \n",
    "pred_pre_trained = pre_trained_model(test_examples)\n",
    "sum(pred_pre_trained .== label) / length(label)"
   ]
  },
  {
   "attachments": {},
   "cell_type": "markdown",
   "id": "3577293f",
   "metadata": {},
   "source": [
    "We randomly select a sample from the test set and make the prediction with our toy model and the pre-trained model."
   ]
  },
  {
   "cell_type": "code",
   "execution_count": 38,
   "id": "85f0c35e",
   "metadata": {
    "scrolled": false
   },
   "outputs": [
    {
     "data": {
      "image/svg+xml": [
       "<?xml version=\"1.0\" encoding=\"UTF-8\"?>\n",
       "<!DOCTYPE svg PUBLIC \"-//W3C//DTD SVG 1.1//EN\"\n",
       " \"http://www.w3.org/Graphics/SVG/1.1/DTD/svg11.dtd\">\n",
       "<svg xmlns=\"http://www.w3.org/2000/svg\" version=\"1.1\"\n",
       "     width=\"150mm\" height=\"150mm\"\n",
       "     viewBox=\"0 0 28 28\" preserveAspectRatio=\"none\"\n",
       "     shape-rendering=\"crispEdges\" stroke=\"none\">\n",
       "<rect width=\".81\" height=\".81\" x=\"0\" y=\"0\" fill=\"#000000\" />\n",
       "<rect width=\".81\" height=\".81\" x=\"1\" y=\"0\" fill=\"#000000\" />\n",
       "<rect width=\".81\" height=\".81\" x=\"2\" y=\"0\" fill=\"#000000\" />\n",
       "<rect width=\".81\" height=\".81\" x=\"3\" y=\"0\" fill=\"#000000\" />\n",
       "<rect width=\".81\" height=\".81\" x=\"4\" y=\"0\" fill=\"#000000\" />\n",
       "<rect width=\".81\" height=\".81\" x=\"5\" y=\"0\" fill=\"#000000\" />\n",
       "<rect width=\".81\" height=\".81\" x=\"6\" y=\"0\" fill=\"#000000\" />\n",
       "<rect width=\".81\" height=\".81\" x=\"7\" y=\"0\" fill=\"#000000\" />\n",
       "<rect width=\".81\" height=\".81\" x=\"8\" y=\"0\" fill=\"#000000\" />\n",
       "<rect width=\".81\" height=\".81\" x=\"9\" y=\"0\" fill=\"#000000\" />\n",
       "<rect width=\".81\" height=\".81\" x=\"10\" y=\"0\" fill=\"#000000\" />\n",
       "<rect width=\".81\" height=\".81\" x=\"11\" y=\"0\" fill=\"#000000\" />\n",
       "<rect width=\".81\" height=\".81\" x=\"12\" y=\"0\" fill=\"#000000\" />\n",
       "<rect width=\".81\" height=\".81\" x=\"13\" y=\"0\" fill=\"#000000\" />\n",
       "<rect width=\".81\" height=\".81\" x=\"14\" y=\"0\" fill=\"#000000\" />\n",
       "<rect width=\".81\" height=\".81\" x=\"15\" y=\"0\" fill=\"#000000\" />\n",
       "<rect width=\".81\" height=\".81\" x=\"16\" y=\"0\" fill=\"#000000\" />\n",
       "<rect width=\".81\" height=\".81\" x=\"17\" y=\"0\" fill=\"#000000\" />\n",
       "<rect width=\".81\" height=\".81\" x=\"18\" y=\"0\" fill=\"#000000\" />\n",
       "<rect width=\".81\" height=\".81\" x=\"19\" y=\"0\" fill=\"#000000\" />\n",
       "<rect width=\".81\" height=\".81\" x=\"20\" y=\"0\" fill=\"#000000\" />\n",
       "<rect width=\".81\" height=\".81\" x=\"21\" y=\"0\" fill=\"#000000\" />\n",
       "<rect width=\".81\" height=\".81\" x=\"22\" y=\"0\" fill=\"#000000\" />\n",
       "<rect width=\".81\" height=\".81\" x=\"23\" y=\"0\" fill=\"#000000\" />\n",
       "<rect width=\".81\" height=\".81\" x=\"24\" y=\"0\" fill=\"#000000\" />\n",
       "<rect width=\".81\" height=\".81\" x=\"25\" y=\"0\" fill=\"#000000\" />\n",
       "<rect width=\".81\" height=\".81\" x=\"26\" y=\"0\" fill=\"#000000\" />\n",
       "<rect width=\".81\" height=\".81\" x=\"27\" y=\"0\" fill=\"#000000\" />\n",
       "<rect width=\".81\" height=\".81\" x=\"0\" y=\"1\" fill=\"#000000\" />\n",
       "<rect width=\".81\" height=\".81\" x=\"1\" y=\"1\" fill=\"#000000\" />\n",
       "<rect width=\".81\" height=\".81\" x=\"2\" y=\"1\" fill=\"#000000\" />\n",
       "<rect width=\".81\" height=\".81\" x=\"3\" y=\"1\" fill=\"#000000\" />\n",
       "<rect width=\".81\" height=\".81\" x=\"4\" y=\"1\" fill=\"#000000\" />\n",
       "<rect width=\".81\" height=\".81\" x=\"5\" y=\"1\" fill=\"#000000\" />\n",
       "<rect width=\".81\" height=\".81\" x=\"6\" y=\"1\" fill=\"#000000\" />\n",
       "<rect width=\".81\" height=\".81\" x=\"7\" y=\"1\" fill=\"#000000\" />\n",
       "<rect width=\".81\" height=\".81\" x=\"8\" y=\"1\" fill=\"#000000\" />\n",
       "<rect width=\".81\" height=\".81\" x=\"9\" y=\"1\" fill=\"#000000\" />\n",
       "<rect width=\".81\" height=\".81\" x=\"10\" y=\"1\" fill=\"#000000\" />\n",
       "<rect width=\".81\" height=\".81\" x=\"11\" y=\"1\" fill=\"#000000\" />\n",
       "<rect width=\".81\" height=\".81\" x=\"12\" y=\"1\" fill=\"#000000\" />\n",
       "<rect width=\".81\" height=\".81\" x=\"13\" y=\"1\" fill=\"#000000\" />\n",
       "<rect width=\".81\" height=\".81\" x=\"14\" y=\"1\" fill=\"#000000\" />\n",
       "<rect width=\".81\" height=\".81\" x=\"15\" y=\"1\" fill=\"#000000\" />\n",
       "<rect width=\".81\" height=\".81\" x=\"16\" y=\"1\" fill=\"#000000\" />\n",
       "<rect width=\".81\" height=\".81\" x=\"17\" y=\"1\" fill=\"#000000\" />\n",
       "<rect width=\".81\" height=\".81\" x=\"18\" y=\"1\" fill=\"#000000\" />\n",
       "<rect width=\".81\" height=\".81\" x=\"19\" y=\"1\" fill=\"#000000\" />\n",
       "<rect width=\".81\" height=\".81\" x=\"20\" y=\"1\" fill=\"#000000\" />\n",
       "<rect width=\".81\" height=\".81\" x=\"21\" y=\"1\" fill=\"#000000\" />\n",
       "<rect width=\".81\" height=\".81\" x=\"22\" y=\"1\" fill=\"#000000\" />\n",
       "<rect width=\".81\" height=\".81\" x=\"23\" y=\"1\" fill=\"#000000\" />\n",
       "<rect width=\".81\" height=\".81\" x=\"24\" y=\"1\" fill=\"#000000\" />\n",
       "<rect width=\".81\" height=\".81\" x=\"25\" y=\"1\" fill=\"#000000\" />\n",
       "<rect width=\".81\" height=\".81\" x=\"26\" y=\"1\" fill=\"#000000\" />\n",
       "<rect width=\".81\" height=\".81\" x=\"27\" y=\"1\" fill=\"#000000\" />\n",
       "<rect width=\".81\" height=\".81\" x=\"0\" y=\"2\" fill=\"#000000\" />\n",
       "<rect width=\".81\" height=\".81\" x=\"1\" y=\"2\" fill=\"#000000\" />\n",
       "<rect width=\".81\" height=\".81\" x=\"2\" y=\"2\" fill=\"#000000\" />\n",
       "<rect width=\".81\" height=\".81\" x=\"3\" y=\"2\" fill=\"#000000\" />\n",
       "<rect width=\".81\" height=\".81\" x=\"4\" y=\"2\" fill=\"#000000\" />\n",
       "<rect width=\".81\" height=\".81\" x=\"5\" y=\"2\" fill=\"#000000\" />\n",
       "<rect width=\".81\" height=\".81\" x=\"6\" y=\"2\" fill=\"#000000\" />\n",
       "<rect width=\".81\" height=\".81\" x=\"7\" y=\"2\" fill=\"#000000\" />\n",
       "<rect width=\".81\" height=\".81\" x=\"8\" y=\"2\" fill=\"#000000\" />\n",
       "<rect width=\".81\" height=\".81\" x=\"9\" y=\"2\" fill=\"#000000\" />\n",
       "<rect width=\".81\" height=\".81\" x=\"10\" y=\"2\" fill=\"#000000\" />\n",
       "<rect width=\".81\" height=\".81\" x=\"11\" y=\"2\" fill=\"#000000\" />\n",
       "<rect width=\".81\" height=\".81\" x=\"12\" y=\"2\" fill=\"#000000\" />\n",
       "<rect width=\".81\" height=\".81\" x=\"13\" y=\"2\" fill=\"#000000\" />\n",
       "<rect width=\".81\" height=\".81\" x=\"14\" y=\"2\" fill=\"#000000\" />\n",
       "<rect width=\".81\" height=\".81\" x=\"15\" y=\"2\" fill=\"#000000\" />\n",
       "<rect width=\".81\" height=\".81\" x=\"16\" y=\"2\" fill=\"#000000\" />\n",
       "<rect width=\".81\" height=\".81\" x=\"17\" y=\"2\" fill=\"#000000\" />\n",
       "<rect width=\".81\" height=\".81\" x=\"18\" y=\"2\" fill=\"#000000\" />\n",
       "<rect width=\".81\" height=\".81\" x=\"19\" y=\"2\" fill=\"#000000\" />\n",
       "<rect width=\".81\" height=\".81\" x=\"20\" y=\"2\" fill=\"#000000\" />\n",
       "<rect width=\".81\" height=\".81\" x=\"21\" y=\"2\" fill=\"#000000\" />\n",
       "<rect width=\".81\" height=\".81\" x=\"22\" y=\"2\" fill=\"#000000\" />\n",
       "<rect width=\".81\" height=\".81\" x=\"23\" y=\"2\" fill=\"#000000\" />\n",
       "<rect width=\".81\" height=\".81\" x=\"24\" y=\"2\" fill=\"#000000\" />\n",
       "<rect width=\".81\" height=\".81\" x=\"25\" y=\"2\" fill=\"#000000\" />\n",
       "<rect width=\".81\" height=\".81\" x=\"26\" y=\"2\" fill=\"#000000\" />\n",
       "<rect width=\".81\" height=\".81\" x=\"27\" y=\"2\" fill=\"#000000\" />\n",
       "<rect width=\".81\" height=\".81\" x=\"0\" y=\"3\" fill=\"#000000\" />\n",
       "<rect width=\".81\" height=\".81\" x=\"1\" y=\"3\" fill=\"#000000\" />\n",
       "<rect width=\".81\" height=\".81\" x=\"2\" y=\"3\" fill=\"#000000\" />\n",
       "<rect width=\".81\" height=\".81\" x=\"3\" y=\"3\" fill=\"#000000\" />\n",
       "<rect width=\".81\" height=\".81\" x=\"4\" y=\"3\" fill=\"#000000\" />\n",
       "<rect width=\".81\" height=\".81\" x=\"5\" y=\"3\" fill=\"#000000\" />\n",
       "<rect width=\".81\" height=\".81\" x=\"6\" y=\"3\" fill=\"#000000\" />\n",
       "<rect width=\".81\" height=\".81\" x=\"7\" y=\"3\" fill=\"#000000\" />\n",
       "<rect width=\".81\" height=\".81\" x=\"8\" y=\"3\" fill=\"#000000\" />\n",
       "<rect width=\".81\" height=\".81\" x=\"9\" y=\"3\" fill=\"#000000\" />\n",
       "<rect width=\".81\" height=\".81\" x=\"10\" y=\"3\" fill=\"#000000\" />\n",
       "<rect width=\".81\" height=\".81\" x=\"11\" y=\"3\" fill=\"#000000\" />\n",
       "<rect width=\".81\" height=\".81\" x=\"12\" y=\"3\" fill=\"#000000\" />\n",
       "<rect width=\".81\" height=\".81\" x=\"13\" y=\"3\" fill=\"#000000\" />\n",
       "<rect width=\".81\" height=\".81\" x=\"14\" y=\"3\" fill=\"#000000\" />\n",
       "<rect width=\".81\" height=\".81\" x=\"15\" y=\"3\" fill=\"#000000\" />\n",
       "<rect width=\".81\" height=\".81\" x=\"16\" y=\"3\" fill=\"#000000\" />\n",
       "<rect width=\".81\" height=\".81\" x=\"17\" y=\"3\" fill=\"#000000\" />\n",
       "<rect width=\".81\" height=\".81\" x=\"18\" y=\"3\" fill=\"#000000\" />\n",
       "<rect width=\".81\" height=\".81\" x=\"19\" y=\"3\" fill=\"#000000\" />\n",
       "<rect width=\".81\" height=\".81\" x=\"20\" y=\"3\" fill=\"#000000\" />\n",
       "<rect width=\".81\" height=\".81\" x=\"21\" y=\"3\" fill=\"#000000\" />\n",
       "<rect width=\".81\" height=\".81\" x=\"22\" y=\"3\" fill=\"#000000\" />\n",
       "<rect width=\".81\" height=\".81\" x=\"23\" y=\"3\" fill=\"#000000\" />\n",
       "<rect width=\".81\" height=\".81\" x=\"24\" y=\"3\" fill=\"#000000\" />\n",
       "<rect width=\".81\" height=\".81\" x=\"25\" y=\"3\" fill=\"#000000\" />\n",
       "<rect width=\".81\" height=\".81\" x=\"26\" y=\"3\" fill=\"#000000\" />\n",
       "<rect width=\".81\" height=\".81\" x=\"27\" y=\"3\" fill=\"#000000\" />\n",
       "<rect width=\".81\" height=\".81\" x=\"0\" y=\"4\" fill=\"#000000\" />\n",
       "<rect width=\".81\" height=\".81\" x=\"1\" y=\"4\" fill=\"#000000\" />\n",
       "<rect width=\".81\" height=\".81\" x=\"2\" y=\"4\" fill=\"#000000\" />\n",
       "<rect width=\".81\" height=\".81\" x=\"3\" y=\"4\" fill=\"#000000\" />\n",
       "<rect width=\".81\" height=\".81\" x=\"4\" y=\"4\" fill=\"#000000\" />\n",
       "<rect width=\".81\" height=\".81\" x=\"5\" y=\"4\" fill=\"#000000\" />\n",
       "<rect width=\".81\" height=\".81\" x=\"6\" y=\"4\" fill=\"#000000\" />\n",
       "<rect width=\".81\" height=\".81\" x=\"7\" y=\"4\" fill=\"#000000\" />\n",
       "<rect width=\".81\" height=\".81\" x=\"8\" y=\"4\" fill=\"#000000\" />\n",
       "<rect width=\".81\" height=\".81\" x=\"9\" y=\"4\" fill=\"#000000\" />\n",
       "<rect width=\".81\" height=\".81\" x=\"10\" y=\"4\" fill=\"#000000\" />\n",
       "<rect width=\".81\" height=\".81\" x=\"11\" y=\"4\" fill=\"#000000\" />\n",
       "<rect width=\".81\" height=\".81\" x=\"12\" y=\"4\" fill=\"#000000\" />\n",
       "<rect width=\".81\" height=\".81\" x=\"13\" y=\"4\" fill=\"#000000\" />\n",
       "<rect width=\".81\" height=\".81\" x=\"14\" y=\"4\" fill=\"#000000\" />\n",
       "<rect width=\".81\" height=\".81\" x=\"15\" y=\"4\" fill=\"#000000\" />\n",
       "<rect width=\".81\" height=\".81\" x=\"16\" y=\"4\" fill=\"#000000\" />\n",
       "<rect width=\".81\" height=\".81\" x=\"17\" y=\"4\" fill=\"#000000\" />\n",
       "<rect width=\".81\" height=\".81\" x=\"18\" y=\"4\" fill=\"#000000\" />\n",
       "<rect width=\".81\" height=\".81\" x=\"19\" y=\"4\" fill=\"#000000\" />\n",
       "<rect width=\".81\" height=\".81\" x=\"20\" y=\"4\" fill=\"#000000\" />\n",
       "<rect width=\".81\" height=\".81\" x=\"21\" y=\"4\" fill=\"#000000\" />\n",
       "<rect width=\".81\" height=\".81\" x=\"22\" y=\"4\" fill=\"#000000\" />\n",
       "<rect width=\".81\" height=\".81\" x=\"23\" y=\"4\" fill=\"#000000\" />\n",
       "<rect width=\".81\" height=\".81\" x=\"24\" y=\"4\" fill=\"#000000\" />\n",
       "<rect width=\".81\" height=\".81\" x=\"25\" y=\"4\" fill=\"#000000\" />\n",
       "<rect width=\".81\" height=\".81\" x=\"26\" y=\"4\" fill=\"#000000\" />\n",
       "<rect width=\".81\" height=\".81\" x=\"27\" y=\"4\" fill=\"#000000\" />\n",
       "<rect width=\".81\" height=\".81\" x=\"0\" y=\"5\" fill=\"#000000\" />\n",
       "<rect width=\".81\" height=\".81\" x=\"1\" y=\"5\" fill=\"#000000\" />\n",
       "<rect width=\".81\" height=\".81\" x=\"2\" y=\"5\" fill=\"#000000\" />\n",
       "<rect width=\".81\" height=\".81\" x=\"3\" y=\"5\" fill=\"#000000\" />\n",
       "<rect width=\".81\" height=\".81\" x=\"4\" y=\"5\" fill=\"#000000\" />\n",
       "<rect width=\".81\" height=\".81\" x=\"5\" y=\"5\" fill=\"#000000\" />\n",
       "<rect width=\".81\" height=\".81\" x=\"6\" y=\"5\" fill=\"#000000\" />\n",
       "<rect width=\".81\" height=\".81\" x=\"7\" y=\"5\" fill=\"#000000\" />\n",
       "<rect width=\".81\" height=\".81\" x=\"8\" y=\"5\" fill=\"#000000\" />\n",
       "<rect width=\".81\" height=\".81\" x=\"9\" y=\"5\" fill=\"#000000\" />\n",
       "<rect width=\".81\" height=\".81\" x=\"10\" y=\"5\" fill=\"#000000\" />\n",
       "<rect width=\".81\" height=\".81\" x=\"11\" y=\"5\" fill=\"#000000\" />\n",
       "<rect width=\".81\" height=\".81\" x=\"12\" y=\"5\" fill=\"#000000\" />\n",
       "<rect width=\".81\" height=\".81\" x=\"13\" y=\"5\" fill=\"#000000\" />\n",
       "<rect width=\".81\" height=\".81\" x=\"14\" y=\"5\" fill=\"#000000\" />\n",
       "<rect width=\".81\" height=\".81\" x=\"15\" y=\"5\" fill=\"#181818\" />\n",
       "<rect width=\".81\" height=\".81\" x=\"16\" y=\"5\" fill=\"#4D4D4D\" />\n",
       "<rect width=\".81\" height=\".81\" x=\"17\" y=\"5\" fill=\"#999999\" />\n",
       "<rect width=\".81\" height=\".81\" x=\"18\" y=\"5\" fill=\"#FEFEFE\" />\n",
       "<rect width=\".81\" height=\".81\" x=\"19\" y=\"5\" fill=\"#D8D8D8\" />\n",
       "<rect width=\".81\" height=\".81\" x=\"20\" y=\"5\" fill=\"#1B1B1B\" />\n",
       "<rect width=\".81\" height=\".81\" x=\"21\" y=\"5\" fill=\"#000000\" />\n",
       "<rect width=\".81\" height=\".81\" x=\"22\" y=\"5\" fill=\"#000000\" />\n",
       "<rect width=\".81\" height=\".81\" x=\"23\" y=\"5\" fill=\"#000000\" />\n",
       "<rect width=\".81\" height=\".81\" x=\"24\" y=\"5\" fill=\"#000000\" />\n",
       "<rect width=\".81\" height=\".81\" x=\"25\" y=\"5\" fill=\"#000000\" />\n",
       "<rect width=\".81\" height=\".81\" x=\"26\" y=\"5\" fill=\"#000000\" />\n",
       "<rect width=\".81\" height=\".81\" x=\"27\" y=\"5\" fill=\"#000000\" />\n",
       "<rect width=\".81\" height=\".81\" x=\"0\" y=\"6\" fill=\"#000000\" />\n",
       "<rect width=\".81\" height=\".81\" x=\"1\" y=\"6\" fill=\"#000000\" />\n",
       "<rect width=\".81\" height=\".81\" x=\"2\" y=\"6\" fill=\"#000000\" />\n",
       "<rect width=\".81\" height=\".81\" x=\"3\" y=\"6\" fill=\"#000000\" />\n",
       "<rect width=\".81\" height=\".81\" x=\"4\" y=\"6\" fill=\"#000000\" />\n",
       "<rect width=\".81\" height=\".81\" x=\"5\" y=\"6\" fill=\"#000000\" />\n",
       "<rect width=\".81\" height=\".81\" x=\"6\" y=\"6\" fill=\"#000000\" />\n",
       "<rect width=\".81\" height=\".81\" x=\"7\" y=\"6\" fill=\"#000000\" />\n",
       "<rect width=\".81\" height=\".81\" x=\"8\" y=\"6\" fill=\"#000000\" />\n",
       "<rect width=\".81\" height=\".81\" x=\"9\" y=\"6\" fill=\"#000000\" />\n",
       "<rect width=\".81\" height=\".81\" x=\"10\" y=\"6\" fill=\"#000000\" />\n",
       "<rect width=\".81\" height=\".81\" x=\"11\" y=\"6\" fill=\"#000000\" />\n",
       "<rect width=\".81\" height=\".81\" x=\"12\" y=\"6\" fill=\"#151515\" />\n",
       "<rect width=\".81\" height=\".81\" x=\"13\" y=\"6\" fill=\"#434343\" />\n",
       "<rect width=\".81\" height=\".81\" x=\"14\" y=\"6\" fill=\"#818181\" />\n",
       "<rect width=\".81\" height=\".81\" x=\"15\" y=\"6\" fill=\"#E6E6E6\" />\n",
       "<rect width=\".81\" height=\".81\" x=\"16\" y=\"6\" fill=\"#FDFDFD\" />\n",
       "<rect width=\".81\" height=\".81\" x=\"17\" y=\"6\" fill=\"#FDFDFD\" />\n",
       "<rect width=\".81\" height=\".81\" x=\"18\" y=\"6\" fill=\"#FDFDFD\" />\n",
       "<rect width=\".81\" height=\".81\" x=\"19\" y=\"6\" fill=\"#FDFDFD\" />\n",
       "<rect width=\".81\" height=\".81\" x=\"20\" y=\"6\" fill=\"#838383\" />\n",
       "<rect width=\".81\" height=\".81\" x=\"21\" y=\"6\" fill=\"#000000\" />\n",
       "<rect width=\".81\" height=\".81\" x=\"22\" y=\"6\" fill=\"#000000\" />\n",
       "<rect width=\".81\" height=\".81\" x=\"23\" y=\"6\" fill=\"#000000\" />\n",
       "<rect width=\".81\" height=\".81\" x=\"24\" y=\"6\" fill=\"#000000\" />\n",
       "<rect width=\".81\" height=\".81\" x=\"25\" y=\"6\" fill=\"#000000\" />\n",
       "<rect width=\".81\" height=\".81\" x=\"26\" y=\"6\" fill=\"#000000\" />\n",
       "<rect width=\".81\" height=\".81\" x=\"27\" y=\"6\" fill=\"#000000\" />\n",
       "<rect width=\".81\" height=\".81\" x=\"0\" y=\"7\" fill=\"#000000\" />\n",
       "<rect width=\".81\" height=\".81\" x=\"1\" y=\"7\" fill=\"#000000\" />\n",
       "<rect width=\".81\" height=\".81\" x=\"2\" y=\"7\" fill=\"#000000\" />\n",
       "<rect width=\".81\" height=\".81\" x=\"3\" y=\"7\" fill=\"#000000\" />\n",
       "<rect width=\".81\" height=\".81\" x=\"4\" y=\"7\" fill=\"#000000\" />\n",
       "<rect width=\".81\" height=\".81\" x=\"5\" y=\"7\" fill=\"#000000\" />\n",
       "<rect width=\".81\" height=\".81\" x=\"6\" y=\"7\" fill=\"#000000\" />\n",
       "<rect width=\".81\" height=\".81\" x=\"7\" y=\"7\" fill=\"#000000\" />\n",
       "<rect width=\".81\" height=\".81\" x=\"8\" y=\"7\" fill=\"#000000\" />\n",
       "<rect width=\".81\" height=\".81\" x=\"9\" y=\"7\" fill=\"#000000\" />\n",
       "<rect width=\".81\" height=\".81\" x=\"10\" y=\"7\" fill=\"#000000\" />\n",
       "<rect width=\".81\" height=\".81\" x=\"11\" y=\"7\" fill=\"#3E3E3E\" />\n",
       "<rect width=\".81\" height=\".81\" x=\"12\" y=\"7\" fill=\"#C3C3C3\" />\n",
       "<rect width=\".81\" height=\".81\" x=\"13\" y=\"7\" fill=\"#FDFDFD\" />\n",
       "<rect width=\".81\" height=\".81\" x=\"14\" y=\"7\" fill=\"#FEFEFE\" />\n",
       "<rect width=\".81\" height=\".81\" x=\"15\" y=\"7\" fill=\"#FDFDFD\" />\n",
       "<rect width=\".81\" height=\".81\" x=\"16\" y=\"7\" fill=\"#FDFDFD\" />\n",
       "<rect width=\".81\" height=\".81\" x=\"17\" y=\"7\" fill=\"#FDFDFD\" />\n",
       "<rect width=\".81\" height=\".81\" x=\"18\" y=\"7\" fill=\"#FDFDFD\" />\n",
       "<rect width=\".81\" height=\".81\" x=\"19\" y=\"7\" fill=\"#B4B4B4\" />\n",
       "<rect width=\".81\" height=\".81\" x=\"20\" y=\"7\" fill=\"#171717\" />\n",
       "<rect width=\".81\" height=\".81\" x=\"21\" y=\"7\" fill=\"#000000\" />\n",
       "<rect width=\".81\" height=\".81\" x=\"22\" y=\"7\" fill=\"#000000\" />\n",
       "<rect width=\".81\" height=\".81\" x=\"23\" y=\"7\" fill=\"#000000\" />\n",
       "<rect width=\".81\" height=\".81\" x=\"24\" y=\"7\" fill=\"#000000\" />\n",
       "<rect width=\".81\" height=\".81\" x=\"25\" y=\"7\" fill=\"#000000\" />\n",
       "<rect width=\".81\" height=\".81\" x=\"26\" y=\"7\" fill=\"#000000\" />\n",
       "<rect width=\".81\" height=\".81\" x=\"27\" y=\"7\" fill=\"#000000\" />\n",
       "<rect width=\".81\" height=\".81\" x=\"0\" y=\"8\" fill=\"#000000\" />\n",
       "<rect width=\".81\" height=\".81\" x=\"1\" y=\"8\" fill=\"#000000\" />\n",
       "<rect width=\".81\" height=\".81\" x=\"2\" y=\"8\" fill=\"#000000\" />\n",
       "<rect width=\".81\" height=\".81\" x=\"3\" y=\"8\" fill=\"#000000\" />\n",
       "<rect width=\".81\" height=\".81\" x=\"4\" y=\"8\" fill=\"#000000\" />\n",
       "<rect width=\".81\" height=\".81\" x=\"5\" y=\"8\" fill=\"#000000\" />\n",
       "<rect width=\".81\" height=\".81\" x=\"6\" y=\"8\" fill=\"#000000\" />\n",
       "<rect width=\".81\" height=\".81\" x=\"7\" y=\"8\" fill=\"#000000\" />\n",
       "<rect width=\".81\" height=\".81\" x=\"8\" y=\"8\" fill=\"#050505\" />\n",
       "<rect width=\".81\" height=\".81\" x=\"9\" y=\"8\" fill=\"#3D3D3D\" />\n",
       "<rect width=\".81\" height=\".81\" x=\"10\" y=\"8\" fill=\"#EAEAEA\" />\n",
       "<rect width=\".81\" height=\".81\" x=\"11\" y=\"8\" fill=\"#FAFAFA\" />\n",
       "<rect width=\".81\" height=\".81\" x=\"12\" y=\"8\" fill=\"#FDFDFD\" />\n",
       "<rect width=\".81\" height=\".81\" x=\"13\" y=\"8\" fill=\"#FDFDFD\" />\n",
       "<rect width=\".81\" height=\".81\" x=\"14\" y=\"8\" fill=\"#FEFEFE\" />\n",
       "<rect width=\".81\" height=\".81\" x=\"15\" y=\"8\" fill=\"#FDFDFD\" />\n",
       "<rect width=\".81\" height=\".81\" x=\"16\" y=\"8\" fill=\"#FDFDFD\" />\n",
       "<rect width=\".81\" height=\".81\" x=\"17\" y=\"8\" fill=\"#FDFDFD\" />\n",
       "<rect width=\".81\" height=\".81\" x=\"18\" y=\"8\" fill=\"#FDFDFD\" />\n",
       "<rect width=\".81\" height=\".81\" x=\"19\" y=\"8\" fill=\"#FAFAFA\" />\n",
       "<rect width=\".81\" height=\".81\" x=\"20\" y=\"8\" fill=\"#4F4F4F\" />\n",
       "<rect width=\".81\" height=\".81\" x=\"21\" y=\"8\" fill=\"#000000\" />\n",
       "<rect width=\".81\" height=\".81\" x=\"22\" y=\"8\" fill=\"#000000\" />\n",
       "<rect width=\".81\" height=\".81\" x=\"23\" y=\"8\" fill=\"#000000\" />\n",
       "<rect width=\".81\" height=\".81\" x=\"24\" y=\"8\" fill=\"#000000\" />\n",
       "<rect width=\".81\" height=\".81\" x=\"25\" y=\"8\" fill=\"#000000\" />\n",
       "<rect width=\".81\" height=\".81\" x=\"26\" y=\"8\" fill=\"#000000\" />\n",
       "<rect width=\".81\" height=\".81\" x=\"27\" y=\"8\" fill=\"#000000\" />\n",
       "<rect width=\".81\" height=\".81\" x=\"0\" y=\"9\" fill=\"#000000\" />\n",
       "<rect width=\".81\" height=\".81\" x=\"1\" y=\"9\" fill=\"#000000\" />\n",
       "<rect width=\".81\" height=\".81\" x=\"2\" y=\"9\" fill=\"#000000\" />\n",
       "<rect width=\".81\" height=\".81\" x=\"3\" y=\"9\" fill=\"#000000\" />\n",
       "<rect width=\".81\" height=\".81\" x=\"4\" y=\"9\" fill=\"#000000\" />\n",
       "<rect width=\".81\" height=\".81\" x=\"5\" y=\"9\" fill=\"#000000\" />\n",
       "<rect width=\".81\" height=\".81\" x=\"6\" y=\"9\" fill=\"#000000\" />\n",
       "<rect width=\".81\" height=\".81\" x=\"7\" y=\"9\" fill=\"#000000\" />\n",
       "<rect width=\".81\" height=\".81\" x=\"8\" y=\"9\" fill=\"#383838\" />\n",
       "<rect width=\".81\" height=\".81\" x=\"9\" y=\"9\" fill=\"#FDFDFD\" />\n",
       "<rect width=\".81\" height=\".81\" x=\"10\" y=\"9\" fill=\"#FDFDFD\" />\n",
       "<rect width=\".81\" height=\".81\" x=\"11\" y=\"9\" fill=\"#FDFDFD\" />\n",
       "<rect width=\".81\" height=\".81\" x=\"12\" y=\"9\" fill=\"#FDFDFD\" />\n",
       "<rect width=\".81\" height=\".81\" x=\"13\" y=\"9\" fill=\"#FDFDFD\" />\n",
       "<rect width=\".81\" height=\".81\" x=\"14\" y=\"9\" fill=\"#FEFEFE\" />\n",
       "<rect width=\".81\" height=\".81\" x=\"15\" y=\"9\" fill=\"#FDFDFD\" />\n",
       "<rect width=\".81\" height=\".81\" x=\"16\" y=\"9\" fill=\"#FDFDFD\" />\n",
       "<rect width=\".81\" height=\".81\" x=\"17\" y=\"9\" fill=\"#FDFDFD\" />\n",
       "<rect width=\".81\" height=\".81\" x=\"18\" y=\"9\" fill=\"#FDFDFD\" />\n",
       "<rect width=\".81\" height=\".81\" x=\"19\" y=\"9\" fill=\"#FDFDFD\" />\n",
       "<rect width=\".81\" height=\".81\" x=\"20\" y=\"9\" fill=\"#838383\" />\n",
       "<rect width=\".81\" height=\".81\" x=\"21\" y=\"9\" fill=\"#000000\" />\n",
       "<rect width=\".81\" height=\".81\" x=\"22\" y=\"9\" fill=\"#000000\" />\n",
       "<rect width=\".81\" height=\".81\" x=\"23\" y=\"9\" fill=\"#000000\" />\n",
       "<rect width=\".81\" height=\".81\" x=\"24\" y=\"9\" fill=\"#000000\" />\n",
       "<rect width=\".81\" height=\".81\" x=\"25\" y=\"9\" fill=\"#000000\" />\n",
       "<rect width=\".81\" height=\".81\" x=\"26\" y=\"9\" fill=\"#000000\" />\n",
       "<rect width=\".81\" height=\".81\" x=\"27\" y=\"9\" fill=\"#000000\" />\n",
       "<rect width=\".81\" height=\".81\" x=\"0\" y=\"10\" fill=\"#000000\" />\n",
       "<rect width=\".81\" height=\".81\" x=\"1\" y=\"10\" fill=\"#000000\" />\n",
       "<rect width=\".81\" height=\".81\" x=\"2\" y=\"10\" fill=\"#000000\" />\n",
       "<rect width=\".81\" height=\".81\" x=\"3\" y=\"10\" fill=\"#000000\" />\n",
       "<rect width=\".81\" height=\".81\" x=\"4\" y=\"10\" fill=\"#000000\" />\n",
       "<rect width=\".81\" height=\".81\" x=\"5\" y=\"10\" fill=\"#000000\" />\n",
       "<rect width=\".81\" height=\".81\" x=\"6\" y=\"10\" fill=\"#000000\" />\n",
       "<rect width=\".81\" height=\".81\" x=\"7\" y=\"10\" fill=\"#000000\" />\n",
       "<rect width=\".81\" height=\".81\" x=\"8\" y=\"10\" fill=\"#383838\" />\n",
       "<rect width=\".81\" height=\".81\" x=\"9\" y=\"10\" fill=\"#FDFDFD\" />\n",
       "<rect width=\".81\" height=\".81\" x=\"10\" y=\"10\" fill=\"#FDFDFD\" />\n",
       "<rect width=\".81\" height=\".81\" x=\"11\" y=\"10\" fill=\"#FDFDFD\" />\n",
       "<rect width=\".81\" height=\".81\" x=\"12\" y=\"10\" fill=\"#FDFDFD\" />\n",
       "<rect width=\".81\" height=\".81\" x=\"13\" y=\"10\" fill=\"#D7D7D7\" />\n",
       "<rect width=\".81\" height=\".81\" x=\"14\" y=\"10\" fill=\"#A5A5A5\" />\n",
       "<rect width=\".81\" height=\".81\" x=\"15\" y=\"10\" fill=\"#585858\" />\n",
       "<rect width=\".81\" height=\".81\" x=\"16\" y=\"10\" fill=\"#848484\" />\n",
       "<rect width=\".81\" height=\".81\" x=\"17\" y=\"10\" fill=\"#FDFDFD\" />\n",
       "<rect width=\".81\" height=\".81\" x=\"18\" y=\"10\" fill=\"#FDFDFD\" />\n",
       "<rect width=\".81\" height=\".81\" x=\"19\" y=\"10\" fill=\"#FDFDFD\" />\n",
       "<rect width=\".81\" height=\".81\" x=\"20\" y=\"10\" fill=\"#838383\" />\n",
       "<rect width=\".81\" height=\".81\" x=\"21\" y=\"10\" fill=\"#000000\" />\n",
       "<rect width=\".81\" height=\".81\" x=\"22\" y=\"10\" fill=\"#000000\" />\n",
       "<rect width=\".81\" height=\".81\" x=\"23\" y=\"10\" fill=\"#000000\" />\n",
       "<rect width=\".81\" height=\".81\" x=\"24\" y=\"10\" fill=\"#000000\" />\n",
       "<rect width=\".81\" height=\".81\" x=\"25\" y=\"10\" fill=\"#000000\" />\n",
       "<rect width=\".81\" height=\".81\" x=\"26\" y=\"10\" fill=\"#000000\" />\n",
       "<rect width=\".81\" height=\".81\" x=\"27\" y=\"10\" fill=\"#000000\" />\n",
       "<rect width=\".81\" height=\".81\" x=\"0\" y=\"11\" fill=\"#000000\" />\n",
       "<rect width=\".81\" height=\".81\" x=\"1\" y=\"11\" fill=\"#000000\" />\n",
       "<rect width=\".81\" height=\".81\" x=\"2\" y=\"11\" fill=\"#000000\" />\n",
       "<rect width=\".81\" height=\".81\" x=\"3\" y=\"11\" fill=\"#000000\" />\n",
       "<rect width=\".81\" height=\".81\" x=\"4\" y=\"11\" fill=\"#000000\" />\n",
       "<rect width=\".81\" height=\".81\" x=\"5\" y=\"11\" fill=\"#000000\" />\n",
       "<rect width=\".81\" height=\".81\" x=\"6\" y=\"11\" fill=\"#000000\" />\n",
       "<rect width=\".81\" height=\".81\" x=\"7\" y=\"11\" fill=\"#000000\" />\n",
       "<rect width=\".81\" height=\".81\" x=\"8\" y=\"11\" fill=\"#050505\" />\n",
       "<rect width=\".81\" height=\".81\" x=\"9\" y=\"11\" fill=\"#161616\" />\n",
       "<rect width=\".81\" height=\".81\" x=\"10\" y=\"11\" fill=\"#7B7B7B\" />\n",
       "<rect width=\".81\" height=\".81\" x=\"11\" y=\"11\" fill=\"#414141\" />\n",
       "<rect width=\".81\" height=\".81\" x=\"12\" y=\"11\" fill=\"#161616\" />\n",
       "<rect width=\".81\" height=\".81\" x=\"13\" y=\"11\" fill=\"#0C0C0C\" />\n",
       "<rect width=\".81\" height=\".81\" x=\"14\" y=\"11\" fill=\"#070707\" />\n",
       "<rect width=\".81\" height=\".81\" x=\"15\" y=\"11\" fill=\"#767676\" />\n",
       "<rect width=\".81\" height=\".81\" x=\"16\" y=\"11\" fill=\"#F1F1F1\" />\n",
       "<rect width=\".81\" height=\".81\" x=\"17\" y=\"11\" fill=\"#FDFDFD\" />\n",
       "<rect width=\".81\" height=\".81\" x=\"18\" y=\"11\" fill=\"#FDFDFD\" />\n",
       "<rect width=\".81\" height=\".81\" x=\"19\" y=\"11\" fill=\"#F5F5F5\" />\n",
       "<rect width=\".81\" height=\".81\" x=\"20\" y=\"11\" fill=\"#1E1E1E\" />\n",
       "<rect width=\".81\" height=\".81\" x=\"21\" y=\"11\" fill=\"#000000\" />\n",
       "<rect width=\".81\" height=\".81\" x=\"22\" y=\"11\" fill=\"#000000\" />\n",
       "<rect width=\".81\" height=\".81\" x=\"23\" y=\"11\" fill=\"#000000\" />\n",
       "<rect width=\".81\" height=\".81\" x=\"24\" y=\"11\" fill=\"#000000\" />\n",
       "<rect width=\".81\" height=\".81\" x=\"25\" y=\"11\" fill=\"#000000\" />\n",
       "<rect width=\".81\" height=\".81\" x=\"26\" y=\"11\" fill=\"#000000\" />\n",
       "<rect width=\".81\" height=\".81\" x=\"27\" y=\"11\" fill=\"#000000\" />\n",
       "<rect width=\".81\" height=\".81\" x=\"0\" y=\"12\" fill=\"#000000\" />\n",
       "<rect width=\".81\" height=\".81\" x=\"1\" y=\"12\" fill=\"#000000\" />\n",
       "<rect width=\".81\" height=\".81\" x=\"2\" y=\"12\" fill=\"#000000\" />\n",
       "<rect width=\".81\" height=\".81\" x=\"3\" y=\"12\" fill=\"#000000\" />\n",
       "<rect width=\".81\" height=\".81\" x=\"4\" y=\"12\" fill=\"#000000\" />\n",
       "<rect width=\".81\" height=\".81\" x=\"5\" y=\"12\" fill=\"#000000\" />\n",
       "<rect width=\".81\" height=\".81\" x=\"6\" y=\"12\" fill=\"#000000\" />\n",
       "<rect width=\".81\" height=\".81\" x=\"7\" y=\"12\" fill=\"#000000\" />\n",
       "<rect width=\".81\" height=\".81\" x=\"8\" y=\"12\" fill=\"#000000\" />\n",
       "<rect width=\".81\" height=\".81\" x=\"9\" y=\"12\" fill=\"#000000\" />\n",
       "<rect width=\".81\" height=\".81\" x=\"10\" y=\"12\" fill=\"#292929\" />\n",
       "<rect width=\".81\" height=\".81\" x=\"11\" y=\"12\" fill=\"#2D2D2D\" />\n",
       "<rect width=\".81\" height=\".81\" x=\"12\" y=\"12\" fill=\"#7F7F7F\" />\n",
       "<rect width=\".81\" height=\".81\" x=\"13\" y=\"12\" fill=\"#9B9B9B\" />\n",
       "<rect width=\".81\" height=\".81\" x=\"14\" y=\"12\" fill=\"#D3D3D3\" />\n",
       "<rect width=\".81\" height=\".81\" x=\"15\" y=\"12\" fill=\"#FDFDFD\" />\n",
       "<rect width=\".81\" height=\".81\" x=\"16\" y=\"12\" fill=\"#FDFDFD\" />\n",
       "<rect width=\".81\" height=\".81\" x=\"17\" y=\"12\" fill=\"#FDFDFD\" />\n",
       "<rect width=\".81\" height=\".81\" x=\"18\" y=\"12\" fill=\"#F4F4F4\" />\n",
       "<rect width=\".81\" height=\".81\" x=\"19\" y=\"12\" fill=\"#2D2D2D\" />\n",
       "<rect width=\".81\" height=\".81\" x=\"20\" y=\"12\" fill=\"#000000\" />\n",
       "<rect width=\".81\" height=\".81\" x=\"21\" y=\"12\" fill=\"#000000\" />\n",
       "<rect width=\".81\" height=\".81\" x=\"22\" y=\"12\" fill=\"#000000\" />\n",
       "<rect width=\".81\" height=\".81\" x=\"23\" y=\"12\" fill=\"#000000\" />\n",
       "<rect width=\".81\" height=\".81\" x=\"24\" y=\"12\" fill=\"#000000\" />\n",
       "<rect width=\".81\" height=\".81\" x=\"25\" y=\"12\" fill=\"#000000\" />\n",
       "<rect width=\".81\" height=\".81\" x=\"26\" y=\"12\" fill=\"#000000\" />\n",
       "<rect width=\".81\" height=\".81\" x=\"27\" y=\"12\" fill=\"#000000\" />\n",
       "<rect width=\".81\" height=\".81\" x=\"0\" y=\"13\" fill=\"#000000\" />\n",
       "<rect width=\".81\" height=\".81\" x=\"1\" y=\"13\" fill=\"#000000\" />\n",
       "<rect width=\".81\" height=\".81\" x=\"2\" y=\"13\" fill=\"#000000\" />\n",
       "<rect width=\".81\" height=\".81\" x=\"3\" y=\"13\" fill=\"#000000\" />\n",
       "<rect width=\".81\" height=\".81\" x=\"4\" y=\"13\" fill=\"#000000\" />\n",
       "<rect width=\".81\" height=\".81\" x=\"5\" y=\"13\" fill=\"#000000\" />\n",
       "<rect width=\".81\" height=\".81\" x=\"6\" y=\"13\" fill=\"#000000\" />\n",
       "<rect width=\".81\" height=\".81\" x=\"7\" y=\"13\" fill=\"#000000\" />\n",
       "<rect width=\".81\" height=\".81\" x=\"8\" y=\"13\" fill=\"#000000\" />\n",
       "<rect width=\".81\" height=\".81\" x=\"9\" y=\"13\" fill=\"#1C1C1C\" />\n",
       "<rect width=\".81\" height=\".81\" x=\"10\" y=\"13\" fill=\"#EFEFEF\" />\n",
       "<rect width=\".81\" height=\".81\" x=\"11\" y=\"13\" fill=\"#FDFDFD\" />\n",
       "<rect width=\".81\" height=\".81\" x=\"12\" y=\"13\" fill=\"#FDFDFD\" />\n",
       "<rect width=\".81\" height=\".81\" x=\"13\" y=\"13\" fill=\"#FDFDFD\" />\n",
       "<rect width=\".81\" height=\".81\" x=\"14\" y=\"13\" fill=\"#FEFEFE\" />\n",
       "<rect width=\".81\" height=\".81\" x=\"15\" y=\"13\" fill=\"#FDFDFD\" />\n",
       "<rect width=\".81\" height=\".81\" x=\"16\" y=\"13\" fill=\"#FDFDFD\" />\n",
       "<rect width=\".81\" height=\".81\" x=\"17\" y=\"13\" fill=\"#EDEDED\" />\n",
       "<rect width=\".81\" height=\".81\" x=\"18\" y=\"13\" fill=\"#343434\" />\n",
       "<rect width=\".81\" height=\".81\" x=\"19\" y=\"13\" fill=\"#000000\" />\n",
       "<rect width=\".81\" height=\".81\" x=\"20\" y=\"13\" fill=\"#000000\" />\n",
       "<rect width=\".81\" height=\".81\" x=\"21\" y=\"13\" fill=\"#000000\" />\n",
       "<rect width=\".81\" height=\".81\" x=\"22\" y=\"13\" fill=\"#000000\" />\n",
       "<rect width=\".81\" height=\".81\" x=\"23\" y=\"13\" fill=\"#000000\" />\n",
       "<rect width=\".81\" height=\".81\" x=\"24\" y=\"13\" fill=\"#000000\" />\n",
       "<rect width=\".81\" height=\".81\" x=\"25\" y=\"13\" fill=\"#000000\" />\n",
       "<rect width=\".81\" height=\".81\" x=\"26\" y=\"13\" fill=\"#000000\" />\n",
       "<rect width=\".81\" height=\".81\" x=\"27\" y=\"13\" fill=\"#000000\" />\n",
       "<rect width=\".81\" height=\".81\" x=\"0\" y=\"14\" fill=\"#000000\" />\n",
       "<rect width=\".81\" height=\".81\" x=\"1\" y=\"14\" fill=\"#000000\" />\n",
       "<rect width=\".81\" height=\".81\" x=\"2\" y=\"14\" fill=\"#000000\" />\n",
       "<rect width=\".81\" height=\".81\" x=\"3\" y=\"14\" fill=\"#000000\" />\n",
       "<rect width=\".81\" height=\".81\" x=\"4\" y=\"14\" fill=\"#000000\" />\n",
       "<rect width=\".81\" height=\".81\" x=\"5\" y=\"14\" fill=\"#000000\" />\n",
       "<rect width=\".81\" height=\".81\" x=\"6\" y=\"14\" fill=\"#000000\" />\n",
       "<rect width=\".81\" height=\".81\" x=\"7\" y=\"14\" fill=\"#000000\" />\n",
       "<rect width=\".81\" height=\".81\" x=\"8\" y=\"14\" fill=\"#000000\" />\n",
       "<rect width=\".81\" height=\".81\" x=\"9\" y=\"14\" fill=\"#595959\" />\n",
       "<rect width=\".81\" height=\".81\" x=\"10\" y=\"14\" fill=\"#FDFDFD\" />\n",
       "<rect width=\".81\" height=\".81\" x=\"11\" y=\"14\" fill=\"#FDFDFD\" />\n",
       "<rect width=\".81\" height=\".81\" x=\"12\" y=\"14\" fill=\"#FDFDFD\" />\n",
       "<rect width=\".81\" height=\".81\" x=\"13\" y=\"14\" fill=\"#FDFDFD\" />\n",
       "<rect width=\".81\" height=\".81\" x=\"14\" y=\"14\" fill=\"#FEFEFE\" />\n",
       "<rect width=\".81\" height=\".81\" x=\"15\" y=\"14\" fill=\"#FDFDFD\" />\n",
       "<rect width=\".81\" height=\".81\" x=\"16\" y=\"14\" fill=\"#FDFDFD\" />\n",
       "<rect width=\".81\" height=\".81\" x=\"17\" y=\"14\" fill=\"#F1F1F1\" />\n",
       "<rect width=\".81\" height=\".81\" x=\"18\" y=\"14\" fill=\"#272727\" />\n",
       "<rect width=\".81\" height=\".81\" x=\"19\" y=\"14\" fill=\"#000000\" />\n",
       "<rect width=\".81\" height=\".81\" x=\"20\" y=\"14\" fill=\"#000000\" />\n",
       "<rect width=\".81\" height=\".81\" x=\"21\" y=\"14\" fill=\"#000000\" />\n",
       "<rect width=\".81\" height=\".81\" x=\"22\" y=\"14\" fill=\"#000000\" />\n",
       "<rect width=\".81\" height=\".81\" x=\"23\" y=\"14\" fill=\"#000000\" />\n",
       "<rect width=\".81\" height=\".81\" x=\"24\" y=\"14\" fill=\"#000000\" />\n",
       "<rect width=\".81\" height=\".81\" x=\"25\" y=\"14\" fill=\"#000000\" />\n",
       "<rect width=\".81\" height=\".81\" x=\"26\" y=\"14\" fill=\"#000000\" />\n",
       "<rect width=\".81\" height=\".81\" x=\"27\" y=\"14\" fill=\"#000000\" />\n",
       "<rect width=\".81\" height=\".81\" x=\"0\" y=\"15\" fill=\"#000000\" />\n",
       "<rect width=\".81\" height=\".81\" x=\"1\" y=\"15\" fill=\"#000000\" />\n",
       "<rect width=\".81\" height=\".81\" x=\"2\" y=\"15\" fill=\"#000000\" />\n",
       "<rect width=\".81\" height=\".81\" x=\"3\" y=\"15\" fill=\"#000000\" />\n",
       "<rect width=\".81\" height=\".81\" x=\"4\" y=\"15\" fill=\"#000000\" />\n",
       "<rect width=\".81\" height=\".81\" x=\"5\" y=\"15\" fill=\"#000000\" />\n",
       "<rect width=\".81\" height=\".81\" x=\"6\" y=\"15\" fill=\"#000000\" />\n",
       "<rect width=\".81\" height=\".81\" x=\"7\" y=\"15\" fill=\"#000000\" />\n",
       "<rect width=\".81\" height=\".81\" x=\"8\" y=\"15\" fill=\"#000000\" />\n",
       "<rect width=\".81\" height=\".81\" x=\"9\" y=\"15\" fill=\"#000000\" />\n",
       "<rect width=\".81\" height=\".81\" x=\"10\" y=\"15\" fill=\"#666666\" />\n",
       "<rect width=\".81\" height=\".81\" x=\"11\" y=\"15\" fill=\"#6F6F6F\" />\n",
       "<rect width=\".81\" height=\".81\" x=\"12\" y=\"15\" fill=\"#6F6F6F\" />\n",
       "<rect width=\".81\" height=\".81\" x=\"13\" y=\"15\" fill=\"#6F6F6F\" />\n",
       "<rect width=\".81\" height=\".81\" x=\"14\" y=\"15\" fill=\"#707070\" />\n",
       "<rect width=\".81\" height=\".81\" x=\"15\" y=\"15\" fill=\"#949494\" />\n",
       "<rect width=\".81\" height=\".81\" x=\"16\" y=\"15\" fill=\"#FEFEFE\" />\n",
       "<rect width=\".81\" height=\".81\" x=\"17\" y=\"15\" fill=\"#FFFFFF\" />\n",
       "<rect width=\".81\" height=\".81\" x=\"18\" y=\"15\" fill=\"#C7C7C7\" />\n",
       "<rect width=\".81\" height=\".81\" x=\"19\" y=\"15\" fill=\"#000000\" />\n",
       "<rect width=\".81\" height=\".81\" x=\"20\" y=\"15\" fill=\"#000000\" />\n",
       "<rect width=\".81\" height=\".81\" x=\"21\" y=\"15\" fill=\"#000000\" />\n",
       "<rect width=\".81\" height=\".81\" x=\"22\" y=\"15\" fill=\"#000000\" />\n",
       "<rect width=\".81\" height=\".81\" x=\"23\" y=\"15\" fill=\"#000000\" />\n",
       "<rect width=\".81\" height=\".81\" x=\"24\" y=\"15\" fill=\"#000000\" />\n",
       "<rect width=\".81\" height=\".81\" x=\"25\" y=\"15\" fill=\"#000000\" />\n",
       "<rect width=\".81\" height=\".81\" x=\"26\" y=\"15\" fill=\"#000000\" />\n",
       "<rect width=\".81\" height=\".81\" x=\"27\" y=\"15\" fill=\"#000000\" />\n",
       "<rect width=\".81\" height=\".81\" x=\"0\" y=\"16\" fill=\"#000000\" />\n",
       "<rect width=\".81\" height=\".81\" x=\"1\" y=\"16\" fill=\"#000000\" />\n",
       "<rect width=\".81\" height=\".81\" x=\"2\" y=\"16\" fill=\"#000000\" />\n",
       "<rect width=\".81\" height=\".81\" x=\"3\" y=\"16\" fill=\"#000000\" />\n",
       "<rect width=\".81\" height=\".81\" x=\"4\" y=\"16\" fill=\"#000000\" />\n",
       "<rect width=\".81\" height=\".81\" x=\"5\" y=\"16\" fill=\"#000000\" />\n",
       "<rect width=\".81\" height=\".81\" x=\"6\" y=\"16\" fill=\"#000000\" />\n",
       "<rect width=\".81\" height=\".81\" x=\"7\" y=\"16\" fill=\"#000000\" />\n",
       "<rect width=\".81\" height=\".81\" x=\"8\" y=\"16\" fill=\"#000000\" />\n",
       "<rect width=\".81\" height=\".81\" x=\"9\" y=\"16\" fill=\"#000000\" />\n",
       "<rect width=\".81\" height=\".81\" x=\"10\" y=\"16\" fill=\"#000000\" />\n",
       "<rect width=\".81\" height=\".81\" x=\"11\" y=\"16\" fill=\"#000000\" />\n",
       "<rect width=\".81\" height=\".81\" x=\"12\" y=\"16\" fill=\"#000000\" />\n",
       "<rect width=\".81\" height=\".81\" x=\"13\" y=\"16\" fill=\"#000000\" />\n",
       "<rect width=\".81\" height=\".81\" x=\"14\" y=\"16\" fill=\"#000000\" />\n",
       "<rect width=\".81\" height=\".81\" x=\"15\" y=\"16\" fill=\"#8F8F8F\" />\n",
       "<rect width=\".81\" height=\".81\" x=\"16\" y=\"16\" fill=\"#FDFDFD\" />\n",
       "<rect width=\".81\" height=\".81\" x=\"17\" y=\"16\" fill=\"#FDFDFD\" />\n",
       "<rect width=\".81\" height=\".81\" x=\"18\" y=\"16\" fill=\"#C6C6C6\" />\n",
       "<rect width=\".81\" height=\".81\" x=\"19\" y=\"16\" fill=\"#000000\" />\n",
       "<rect width=\".81\" height=\".81\" x=\"20\" y=\"16\" fill=\"#000000\" />\n",
       "<rect width=\".81\" height=\".81\" x=\"21\" y=\"16\" fill=\"#000000\" />\n",
       "<rect width=\".81\" height=\".81\" x=\"22\" y=\"16\" fill=\"#000000\" />\n",
       "<rect width=\".81\" height=\".81\" x=\"23\" y=\"16\" fill=\"#000000\" />\n",
       "<rect width=\".81\" height=\".81\" x=\"24\" y=\"16\" fill=\"#000000\" />\n",
       "<rect width=\".81\" height=\".81\" x=\"25\" y=\"16\" fill=\"#000000\" />\n",
       "<rect width=\".81\" height=\".81\" x=\"26\" y=\"16\" fill=\"#000000\" />\n",
       "<rect width=\".81\" height=\".81\" x=\"27\" y=\"16\" fill=\"#000000\" />\n",
       "<rect width=\".81\" height=\".81\" x=\"0\" y=\"17\" fill=\"#000000\" />\n",
       "<rect width=\".81\" height=\".81\" x=\"1\" y=\"17\" fill=\"#000000\" />\n",
       "<rect width=\".81\" height=\".81\" x=\"2\" y=\"17\" fill=\"#000000\" />\n",
       "<rect width=\".81\" height=\".81\" x=\"3\" y=\"17\" fill=\"#000000\" />\n",
       "<rect width=\".81\" height=\".81\" x=\"4\" y=\"17\" fill=\"#000000\" />\n",
       "<rect width=\".81\" height=\".81\" x=\"5\" y=\"17\" fill=\"#000000\" />\n",
       "<rect width=\".81\" height=\".81\" x=\"6\" y=\"17\" fill=\"#000000\" />\n",
       "<rect width=\".81\" height=\".81\" x=\"7\" y=\"17\" fill=\"#000000\" />\n",
       "<rect width=\".81\" height=\".81\" x=\"8\" y=\"17\" fill=\"#000000\" />\n",
       "<rect width=\".81\" height=\".81\" x=\"9\" y=\"17\" fill=\"#000000\" />\n",
       "<rect width=\".81\" height=\".81\" x=\"10\" y=\"17\" fill=\"#000000\" />\n",
       "<rect width=\".81\" height=\".81\" x=\"11\" y=\"17\" fill=\"#000000\" />\n",
       "<rect width=\".81\" height=\".81\" x=\"12\" y=\"17\" fill=\"#000000\" />\n",
       "<rect width=\".81\" height=\".81\" x=\"13\" y=\"17\" fill=\"#000000\" />\n",
       "<rect width=\".81\" height=\".81\" x=\"14\" y=\"17\" fill=\"#000000\" />\n",
       "<rect width=\".81\" height=\".81\" x=\"15\" y=\"17\" fill=\"#B1B1B1\" />\n",
       "<rect width=\".81\" height=\".81\" x=\"16\" y=\"17\" fill=\"#FDFDFD\" />\n",
       "<rect width=\".81\" height=\".81\" x=\"17\" y=\"17\" fill=\"#FDFDFD\" />\n",
       "<rect width=\".81\" height=\".81\" x=\"18\" y=\"17\" fill=\"#9A9A9A\" />\n",
       "<rect width=\".81\" height=\".81\" x=\"19\" y=\"17\" fill=\"#000000\" />\n",
       "<rect width=\".81\" height=\".81\" x=\"20\" y=\"17\" fill=\"#000000\" />\n",
       "<rect width=\".81\" height=\".81\" x=\"21\" y=\"17\" fill=\"#000000\" />\n",
       "<rect width=\".81\" height=\".81\" x=\"22\" y=\"17\" fill=\"#000000\" />\n",
       "<rect width=\".81\" height=\".81\" x=\"23\" y=\"17\" fill=\"#2C2C2C\" />\n",
       "<rect width=\".81\" height=\".81\" x=\"24\" y=\"17\" fill=\"#000000\" />\n",
       "<rect width=\".81\" height=\".81\" x=\"25\" y=\"17\" fill=\"#000000\" />\n",
       "<rect width=\".81\" height=\".81\" x=\"26\" y=\"17\" fill=\"#000000\" />\n",
       "<rect width=\".81\" height=\".81\" x=\"27\" y=\"17\" fill=\"#000000\" />\n",
       "<rect width=\".81\" height=\".81\" x=\"0\" y=\"18\" fill=\"#000000\" />\n",
       "<rect width=\".81\" height=\".81\" x=\"1\" y=\"18\" fill=\"#000000\" />\n",
       "<rect width=\".81\" height=\".81\" x=\"2\" y=\"18\" fill=\"#000000\" />\n",
       "<rect width=\".81\" height=\".81\" x=\"3\" y=\"18\" fill=\"#000000\" />\n",
       "<rect width=\".81\" height=\".81\" x=\"4\" y=\"18\" fill=\"#000000\" />\n",
       "<rect width=\".81\" height=\".81\" x=\"5\" y=\"18\" fill=\"#000000\" />\n",
       "<rect width=\".81\" height=\".81\" x=\"6\" y=\"18\" fill=\"#000000\" />\n",
       "<rect width=\".81\" height=\".81\" x=\"7\" y=\"18\" fill=\"#000000\" />\n",
       "<rect width=\".81\" height=\".81\" x=\"8\" y=\"18\" fill=\"#000000\" />\n",
       "<rect width=\".81\" height=\".81\" x=\"9\" y=\"18\" fill=\"#000000\" />\n",
       "<rect width=\".81\" height=\".81\" x=\"10\" y=\"18\" fill=\"#000000\" />\n",
       "<rect width=\".81\" height=\".81\" x=\"11\" y=\"18\" fill=\"#000000\" />\n",
       "<rect width=\".81\" height=\".81\" x=\"12\" y=\"18\" fill=\"#000000\" />\n",
       "<rect width=\".81\" height=\".81\" x=\"13\" y=\"18\" fill=\"#000000\" />\n",
       "<rect width=\".81\" height=\".81\" x=\"14\" y=\"18\" fill=\"#949494\" />\n",
       "<rect width=\".81\" height=\".81\" x=\"15\" y=\"18\" fill=\"#FAFAFA\" />\n",
       "<rect width=\".81\" height=\".81\" x=\"16\" y=\"18\" fill=\"#FDFDFD\" />\n",
       "<rect width=\".81\" height=\".81\" x=\"17\" y=\"18\" fill=\"#F2F2F2\" />\n",
       "<rect width=\".81\" height=\".81\" x=\"18\" y=\"18\" fill=\"#2A2A2A\" />\n",
       "<rect width=\".81\" height=\".81\" x=\"19\" y=\"18\" fill=\"#000000\" />\n",
       "<rect width=\".81\" height=\".81\" x=\"20\" y=\"18\" fill=\"#000000\" />\n",
       "<rect width=\".81\" height=\".81\" x=\"21\" y=\"18\" fill=\"#000000\" />\n",
       "<rect width=\".81\" height=\".81\" x=\"22\" y=\"18\" fill=\"#000000\" />\n",
       "<rect width=\".81\" height=\".81\" x=\"23\" y=\"18\" fill=\"#050505\" />\n",
       "<rect width=\".81\" height=\".81\" x=\"24\" y=\"18\" fill=\"#000000\" />\n",
       "<rect width=\".81\" height=\".81\" x=\"25\" y=\"18\" fill=\"#000000\" />\n",
       "<rect width=\".81\" height=\".81\" x=\"26\" y=\"18\" fill=\"#000000\" />\n",
       "<rect width=\".81\" height=\".81\" x=\"27\" y=\"18\" fill=\"#000000\" />\n",
       "<rect width=\".81\" height=\".81\" x=\"0\" y=\"19\" fill=\"#000000\" />\n",
       "<rect width=\".81\" height=\".81\" x=\"1\" y=\"19\" fill=\"#000000\" />\n",
       "<rect width=\".81\" height=\".81\" x=\"2\" y=\"19\" fill=\"#000000\" />\n",
       "<rect width=\".81\" height=\".81\" x=\"3\" y=\"19\" fill=\"#000000\" />\n",
       "<rect width=\".81\" height=\".81\" x=\"4\" y=\"19\" fill=\"#000000\" />\n",
       "<rect width=\".81\" height=\".81\" x=\"5\" y=\"19\" fill=\"#000000\" />\n",
       "<rect width=\".81\" height=\".81\" x=\"6\" y=\"19\" fill=\"#000000\" />\n",
       "<rect width=\".81\" height=\".81\" x=\"7\" y=\"19\" fill=\"#000000\" />\n",
       "<rect width=\".81\" height=\".81\" x=\"8\" y=\"19\" fill=\"#000000\" />\n",
       "<rect width=\".81\" height=\".81\" x=\"9\" y=\"19\" fill=\"#000000\" />\n",
       "<rect width=\".81\" height=\".81\" x=\"10\" y=\"19\" fill=\"#000000\" />\n",
       "<rect width=\".81\" height=\".81\" x=\"11\" y=\"19\" fill=\"#000000\" />\n",
       "<rect width=\".81\" height=\".81\" x=\"12\" y=\"19\" fill=\"#000000\" />\n",
       "<rect width=\".81\" height=\".81\" x=\"13\" y=\"19\" fill=\"#191919\" />\n",
       "<rect width=\".81\" height=\".81\" x=\"14\" y=\"19\" fill=\"#FEFEFE\" />\n",
       "<rect width=\".81\" height=\".81\" x=\"15\" y=\"19\" fill=\"#FDFDFD\" />\n",
       "<rect width=\".81\" height=\".81\" x=\"16\" y=\"19\" fill=\"#FDFDFD\" />\n",
       "<rect width=\".81\" height=\".81\" x=\"17\" y=\"19\" fill=\"#9F9F9F\" />\n",
       "<rect width=\".81\" height=\".81\" x=\"18\" y=\"19\" fill=\"#000000\" />\n",
       "<rect width=\".81\" height=\".81\" x=\"19\" y=\"19\" fill=\"#000000\" />\n",
       "<rect width=\".81\" height=\".81\" x=\"20\" y=\"19\" fill=\"#000000\" />\n",
       "<rect width=\".81\" height=\".81\" x=\"21\" y=\"19\" fill=\"#000000\" />\n",
       "<rect width=\".81\" height=\".81\" x=\"22\" y=\"19\" fill=\"#000000\" />\n",
       "<rect width=\".81\" height=\".81\" x=\"23\" y=\"19\" fill=\"#000000\" />\n",
       "<rect width=\".81\" height=\".81\" x=\"24\" y=\"19\" fill=\"#000000\" />\n",
       "<rect width=\".81\" height=\".81\" x=\"25\" y=\"19\" fill=\"#000000\" />\n",
       "<rect width=\".81\" height=\".81\" x=\"26\" y=\"19\" fill=\"#000000\" />\n",
       "<rect width=\".81\" height=\".81\" x=\"27\" y=\"19\" fill=\"#000000\" />\n",
       "<rect width=\".81\" height=\".81\" x=\"0\" y=\"20\" fill=\"#000000\" />\n",
       "<rect width=\".81\" height=\".81\" x=\"1\" y=\"20\" fill=\"#000000\" />\n",
       "<rect width=\".81\" height=\".81\" x=\"2\" y=\"20\" fill=\"#000000\" />\n",
       "<rect width=\".81\" height=\".81\" x=\"3\" y=\"20\" fill=\"#000000\" />\n",
       "<rect width=\".81\" height=\".81\" x=\"4\" y=\"20\" fill=\"#000000\" />\n",
       "<rect width=\".81\" height=\".81\" x=\"5\" y=\"20\" fill=\"#000000\" />\n",
       "<rect width=\".81\" height=\".81\" x=\"6\" y=\"20\" fill=\"#000000\" />\n",
       "<rect width=\".81\" height=\".81\" x=\"7\" y=\"20\" fill=\"#000000\" />\n",
       "<rect width=\".81\" height=\".81\" x=\"8\" y=\"20\" fill=\"#000000\" />\n",
       "<rect width=\".81\" height=\".81\" x=\"9\" y=\"20\" fill=\"#000000\" />\n",
       "<rect width=\".81\" height=\".81\" x=\"10\" y=\"20\" fill=\"#000000\" />\n",
       "<rect width=\".81\" height=\".81\" x=\"11\" y=\"20\" fill=\"#373737\" />\n",
       "<rect width=\".81\" height=\".81\" x=\"12\" y=\"20\" fill=\"#7B7B7B\" />\n",
       "<rect width=\".81\" height=\".81\" x=\"13\" y=\"20\" fill=\"#DFDFDF\" />\n",
       "<rect width=\".81\" height=\".81\" x=\"14\" y=\"20\" fill=\"#FEFEFE\" />\n",
       "<rect width=\".81\" height=\".81\" x=\"15\" y=\"20\" fill=\"#FDFDFD\" />\n",
       "<rect width=\".81\" height=\".81\" x=\"16\" y=\"20\" fill=\"#AFAFAF\" />\n",
       "<rect width=\".81\" height=\".81\" x=\"17\" y=\"20\" fill=\"#1A1A1A\" />\n",
       "<rect width=\".81\" height=\".81\" x=\"18\" y=\"20\" fill=\"#000000\" />\n",
       "<rect width=\".81\" height=\".81\" x=\"19\" y=\"20\" fill=\"#000000\" />\n",
       "<rect width=\".81\" height=\".81\" x=\"20\" y=\"20\" fill=\"#000000\" />\n",
       "<rect width=\".81\" height=\".81\" x=\"21\" y=\"20\" fill=\"#000000\" />\n",
       "<rect width=\".81\" height=\".81\" x=\"22\" y=\"20\" fill=\"#000000\" />\n",
       "<rect width=\".81\" height=\".81\" x=\"23\" y=\"20\" fill=\"#000000\" />\n",
       "<rect width=\".81\" height=\".81\" x=\"24\" y=\"20\" fill=\"#000000\" />\n",
       "<rect width=\".81\" height=\".81\" x=\"25\" y=\"20\" fill=\"#000000\" />\n",
       "<rect width=\".81\" height=\".81\" x=\"26\" y=\"20\" fill=\"#000000\" />\n",
       "<rect width=\".81\" height=\".81\" x=\"27\" y=\"20\" fill=\"#000000\" />\n",
       "<rect width=\".81\" height=\".81\" x=\"0\" y=\"21\" fill=\"#000000\" />\n",
       "<rect width=\".81\" height=\".81\" x=\"1\" y=\"21\" fill=\"#000000\" />\n",
       "<rect width=\".81\" height=\".81\" x=\"2\" y=\"21\" fill=\"#000000\" />\n",
       "<rect width=\".81\" height=\".81\" x=\"3\" y=\"21\" fill=\"#000000\" />\n",
       "<rect width=\".81\" height=\".81\" x=\"4\" y=\"21\" fill=\"#000000\" />\n",
       "<rect width=\".81\" height=\".81\" x=\"5\" y=\"21\" fill=\"#030303\" />\n",
       "<rect width=\".81\" height=\".81\" x=\"6\" y=\"21\" fill=\"#686868\" />\n",
       "<rect width=\".81\" height=\".81\" x=\"7\" y=\"21\" fill=\"#B4B4B4\" />\n",
       "<rect width=\".81\" height=\".81\" x=\"8\" y=\"21\" fill=\"#E8E8E8\" />\n",
       "<rect width=\".81\" height=\".81\" x=\"9\" y=\"21\" fill=\"#E8E8E8\" />\n",
       "<rect width=\".81\" height=\".81\" x=\"10\" y=\"21\" fill=\"#E8E8E8\" />\n",
       "<rect width=\".81\" height=\".81\" x=\"11\" y=\"21\" fill=\"#F5F5F5\" />\n",
       "<rect width=\".81\" height=\".81\" x=\"12\" y=\"21\" fill=\"#FDFDFD\" />\n",
       "<rect width=\".81\" height=\".81\" x=\"13\" y=\"21\" fill=\"#FDFDFD\" />\n",
       "<rect width=\".81\" height=\".81\" x=\"14\" y=\"21\" fill=\"#F8F8F8\" />\n",
       "<rect width=\".81\" height=\".81\" x=\"15\" y=\"21\" fill=\"#888888\" />\n",
       "<rect width=\".81\" height=\".81\" x=\"16\" y=\"21\" fill=\"#0D0D0D\" />\n",
       "<rect width=\".81\" height=\".81\" x=\"17\" y=\"21\" fill=\"#000000\" />\n",
       "<rect width=\".81\" height=\".81\" x=\"18\" y=\"21\" fill=\"#000000\" />\n",
       "<rect width=\".81\" height=\".81\" x=\"19\" y=\"21\" fill=\"#000000\" />\n",
       "<rect width=\".81\" height=\".81\" x=\"20\" y=\"21\" fill=\"#000000\" />\n",
       "<rect width=\".81\" height=\".81\" x=\"21\" y=\"21\" fill=\"#000000\" />\n",
       "<rect width=\".81\" height=\".81\" x=\"22\" y=\"21\" fill=\"#000000\" />\n",
       "<rect width=\".81\" height=\".81\" x=\"23\" y=\"21\" fill=\"#000000\" />\n",
       "<rect width=\".81\" height=\".81\" x=\"24\" y=\"21\" fill=\"#000000\" />\n",
       "<rect width=\".81\" height=\".81\" x=\"25\" y=\"21\" fill=\"#000000\" />\n",
       "<rect width=\".81\" height=\".81\" x=\"26\" y=\"21\" fill=\"#000000\" />\n",
       "<rect width=\".81\" height=\".81\" x=\"27\" y=\"21\" fill=\"#000000\" />\n",
       "<rect width=\".81\" height=\".81\" x=\"0\" y=\"22\" fill=\"#000000\" />\n",
       "<rect width=\".81\" height=\".81\" x=\"1\" y=\"22\" fill=\"#000000\" />\n",
       "<rect width=\".81\" height=\".81\" x=\"2\" y=\"22\" fill=\"#000000\" />\n",
       "<rect width=\".81\" height=\".81\" x=\"3\" y=\"22\" fill=\"#000000\" />\n",
       "<rect width=\".81\" height=\".81\" x=\"4\" y=\"22\" fill=\"#282828\" />\n",
       "<rect width=\".81\" height=\".81\" x=\"5\" y=\"22\" fill=\"#B5B5B5\" />\n",
       "<rect width=\".81\" height=\".81\" x=\"6\" y=\"22\" fill=\"#FDFDFD\" />\n",
       "<rect width=\".81\" height=\".81\" x=\"7\" y=\"22\" fill=\"#FDFDFD\" />\n",
       "<rect width=\".81\" height=\".81\" x=\"8\" y=\"22\" fill=\"#FDFDFD\" />\n",
       "<rect width=\".81\" height=\".81\" x=\"9\" y=\"22\" fill=\"#FDFDFD\" />\n",
       "<rect width=\".81\" height=\".81\" x=\"10\" y=\"22\" fill=\"#FDFDFD\" />\n",
       "<rect width=\".81\" height=\".81\" x=\"11\" y=\"22\" fill=\"#FDFDFD\" />\n",
       "<rect width=\".81\" height=\".81\" x=\"12\" y=\"22\" fill=\"#F0F0F0\" />\n",
       "<rect width=\".81\" height=\".81\" x=\"13\" y=\"22\" fill=\"#D1D1D1\" />\n",
       "<rect width=\".81\" height=\".81\" x=\"14\" y=\"22\" fill=\"#2C2C2C\" />\n",
       "<rect width=\".81\" height=\".81\" x=\"15\" y=\"22\" fill=\"#000000\" />\n",
       "<rect width=\".81\" height=\".81\" x=\"16\" y=\"22\" fill=\"#000000\" />\n",
       "<rect width=\".81\" height=\".81\" x=\"17\" y=\"22\" fill=\"#000000\" />\n",
       "<rect width=\".81\" height=\".81\" x=\"18\" y=\"22\" fill=\"#000000\" />\n",
       "<rect width=\".81\" height=\".81\" x=\"19\" y=\"22\" fill=\"#000000\" />\n",
       "<rect width=\".81\" height=\".81\" x=\"20\" y=\"22\" fill=\"#000000\" />\n",
       "<rect width=\".81\" height=\".81\" x=\"21\" y=\"22\" fill=\"#000000\" />\n",
       "<rect width=\".81\" height=\".81\" x=\"22\" y=\"22\" fill=\"#000000\" />\n",
       "<rect width=\".81\" height=\".81\" x=\"23\" y=\"22\" fill=\"#000000\" />\n",
       "<rect width=\".81\" height=\".81\" x=\"24\" y=\"22\" fill=\"#000000\" />\n",
       "<rect width=\".81\" height=\".81\" x=\"25\" y=\"22\" fill=\"#000000\" />\n",
       "<rect width=\".81\" height=\".81\" x=\"26\" y=\"22\" fill=\"#000000\" />\n",
       "<rect width=\".81\" height=\".81\" x=\"27\" y=\"22\" fill=\"#000000\" />\n",
       "<rect width=\".81\" height=\".81\" x=\"0\" y=\"23\" fill=\"#000000\" />\n",
       "<rect width=\".81\" height=\".81\" x=\"1\" y=\"23\" fill=\"#000000\" />\n",
       "<rect width=\".81\" height=\".81\" x=\"2\" y=\"23\" fill=\"#000000\" />\n",
       "<rect width=\".81\" height=\".81\" x=\"3\" y=\"23\" fill=\"#000000\" />\n",
       "<rect width=\".81\" height=\".81\" x=\"4\" y=\"23\" fill=\"#909090\" />\n",
       "<rect width=\".81\" height=\".81\" x=\"5\" y=\"23\" fill=\"#FDFDFD\" />\n",
       "<rect width=\".81\" height=\".81\" x=\"6\" y=\"23\" fill=\"#FDFDFD\" />\n",
       "<rect width=\".81\" height=\".81\" x=\"7\" y=\"23\" fill=\"#FDFDFD\" />\n",
       "<rect width=\".81\" height=\".81\" x=\"8\" y=\"23\" fill=\"#FDFDFD\" />\n",
       "<rect width=\".81\" height=\".81\" x=\"9\" y=\"23\" fill=\"#FDFDFD\" />\n",
       "<rect width=\".81\" height=\".81\" x=\"10\" y=\"23\" fill=\"#B6B6B6\" />\n",
       "<rect width=\".81\" height=\".81\" x=\"11\" y=\"23\" fill=\"#6D6D6D\" />\n",
       "<rect width=\".81\" height=\".81\" x=\"12\" y=\"23\" fill=\"#2E2E2E\" />\n",
       "<rect width=\".81\" height=\".81\" x=\"13\" y=\"23\" fill=\"#000000\" />\n",
       "<rect width=\".81\" height=\".81\" x=\"14\" y=\"23\" fill=\"#000000\" />\n",
       "<rect width=\".81\" height=\".81\" x=\"15\" y=\"23\" fill=\"#000000\" />\n",
       "<rect width=\".81\" height=\".81\" x=\"16\" y=\"23\" fill=\"#000000\" />\n",
       "<rect width=\".81\" height=\".81\" x=\"17\" y=\"23\" fill=\"#000000\" />\n",
       "<rect width=\".81\" height=\".81\" x=\"18\" y=\"23\" fill=\"#000000\" />\n",
       "<rect width=\".81\" height=\".81\" x=\"19\" y=\"23\" fill=\"#000000\" />\n",
       "<rect width=\".81\" height=\".81\" x=\"20\" y=\"23\" fill=\"#000000\" />\n",
       "<rect width=\".81\" height=\".81\" x=\"21\" y=\"23\" fill=\"#000000\" />\n",
       "<rect width=\".81\" height=\".81\" x=\"22\" y=\"23\" fill=\"#000000\" />\n",
       "<rect width=\".81\" height=\".81\" x=\"23\" y=\"23\" fill=\"#000000\" />\n",
       "<rect width=\".81\" height=\".81\" x=\"24\" y=\"23\" fill=\"#000000\" />\n",
       "<rect width=\".81\" height=\".81\" x=\"25\" y=\"23\" fill=\"#000000\" />\n",
       "<rect width=\".81\" height=\".81\" x=\"26\" y=\"23\" fill=\"#000000\" />\n",
       "<rect width=\".81\" height=\".81\" x=\"27\" y=\"23\" fill=\"#000000\" />\n",
       "<rect width=\".81\" height=\".81\" x=\"0\" y=\"24\" fill=\"#000000\" />\n",
       "<rect width=\".81\" height=\".81\" x=\"1\" y=\"24\" fill=\"#000000\" />\n",
       "<rect width=\".81\" height=\".81\" x=\"2\" y=\"24\" fill=\"#000000\" />\n",
       "<rect width=\".81\" height=\".81\" x=\"3\" y=\"24\" fill=\"#000000\" />\n",
       "<rect width=\".81\" height=\".81\" x=\"4\" y=\"24\" fill=\"#606060\" />\n",
       "<rect width=\".81\" height=\".81\" x=\"5\" y=\"24\" fill=\"#FDFDFD\" />\n",
       "<rect width=\".81\" height=\".81\" x=\"6\" y=\"24\" fill=\"#FDFDFD\" />\n",
       "<rect width=\".81\" height=\".81\" x=\"7\" y=\"24\" fill=\"#939393\" />\n",
       "<rect width=\".81\" height=\".81\" x=\"8\" y=\"24\" fill=\"#474747\" />\n",
       "<rect width=\".81\" height=\".81\" x=\"9\" y=\"24\" fill=\"#212121\" />\n",
       "<rect width=\".81\" height=\".81\" x=\"10\" y=\"24\" fill=\"#030303\" />\n",
       "<rect width=\".81\" height=\".81\" x=\"11\" y=\"24\" fill=\"#000000\" />\n",
       "<rect width=\".81\" height=\".81\" x=\"12\" y=\"24\" fill=\"#000000\" />\n",
       "<rect width=\".81\" height=\".81\" x=\"13\" y=\"24\" fill=\"#000000\" />\n",
       "<rect width=\".81\" height=\".81\" x=\"14\" y=\"24\" fill=\"#000000\" />\n",
       "<rect width=\".81\" height=\".81\" x=\"15\" y=\"24\" fill=\"#000000\" />\n",
       "<rect width=\".81\" height=\".81\" x=\"16\" y=\"24\" fill=\"#000000\" />\n",
       "<rect width=\".81\" height=\".81\" x=\"17\" y=\"24\" fill=\"#000000\" />\n",
       "<rect width=\".81\" height=\".81\" x=\"18\" y=\"24\" fill=\"#000000\" />\n",
       "<rect width=\".81\" height=\".81\" x=\"19\" y=\"24\" fill=\"#000000\" />\n",
       "<rect width=\".81\" height=\".81\" x=\"20\" y=\"24\" fill=\"#000000\" />\n",
       "<rect width=\".81\" height=\".81\" x=\"21\" y=\"24\" fill=\"#000000\" />\n",
       "<rect width=\".81\" height=\".81\" x=\"22\" y=\"24\" fill=\"#000000\" />\n",
       "<rect width=\".81\" height=\".81\" x=\"23\" y=\"24\" fill=\"#000000\" />\n",
       "<rect width=\".81\" height=\".81\" x=\"24\" y=\"24\" fill=\"#000000\" />\n",
       "<rect width=\".81\" height=\".81\" x=\"25\" y=\"24\" fill=\"#000000\" />\n",
       "<rect width=\".81\" height=\".81\" x=\"26\" y=\"24\" fill=\"#000000\" />\n",
       "<rect width=\".81\" height=\".81\" x=\"27\" y=\"24\" fill=\"#000000\" />\n",
       "<rect width=\".81\" height=\".81\" x=\"0\" y=\"25\" fill=\"#000000\" />\n",
       "<rect width=\".81\" height=\".81\" x=\"1\" y=\"25\" fill=\"#000000\" />\n",
       "<rect width=\".81\" height=\".81\" x=\"2\" y=\"25\" fill=\"#000000\" />\n",
       "<rect width=\".81\" height=\".81\" x=\"3\" y=\"25\" fill=\"#000000\" />\n",
       "<rect width=\".81\" height=\".81\" x=\"4\" y=\"25\" fill=\"#000000\" />\n",
       "<rect width=\".81\" height=\".81\" x=\"5\" y=\"25\" fill=\"#000000\" />\n",
       "<rect width=\".81\" height=\".81\" x=\"6\" y=\"25\" fill=\"#000000\" />\n",
       "<rect width=\".81\" height=\".81\" x=\"7\" y=\"25\" fill=\"#000000\" />\n",
       "<rect width=\".81\" height=\".81\" x=\"8\" y=\"25\" fill=\"#000000\" />\n",
       "<rect width=\".81\" height=\".81\" x=\"9\" y=\"25\" fill=\"#000000\" />\n",
       "<rect width=\".81\" height=\".81\" x=\"10\" y=\"25\" fill=\"#000000\" />\n",
       "<rect width=\".81\" height=\".81\" x=\"11\" y=\"25\" fill=\"#000000\" />\n",
       "<rect width=\".81\" height=\".81\" x=\"12\" y=\"25\" fill=\"#000000\" />\n",
       "<rect width=\".81\" height=\".81\" x=\"13\" y=\"25\" fill=\"#000000\" />\n",
       "<rect width=\".81\" height=\".81\" x=\"14\" y=\"25\" fill=\"#000000\" />\n",
       "<rect width=\".81\" height=\".81\" x=\"15\" y=\"25\" fill=\"#000000\" />\n",
       "<rect width=\".81\" height=\".81\" x=\"16\" y=\"25\" fill=\"#000000\" />\n",
       "<rect width=\".81\" height=\".81\" x=\"17\" y=\"25\" fill=\"#000000\" />\n",
       "<rect width=\".81\" height=\".81\" x=\"18\" y=\"25\" fill=\"#000000\" />\n",
       "<rect width=\".81\" height=\".81\" x=\"19\" y=\"25\" fill=\"#000000\" />\n",
       "<rect width=\".81\" height=\".81\" x=\"20\" y=\"25\" fill=\"#000000\" />\n",
       "<rect width=\".81\" height=\".81\" x=\"21\" y=\"25\" fill=\"#000000\" />\n",
       "<rect width=\".81\" height=\".81\" x=\"22\" y=\"25\" fill=\"#000000\" />\n",
       "<rect width=\".81\" height=\".81\" x=\"23\" y=\"25\" fill=\"#000000\" />\n",
       "<rect width=\".81\" height=\".81\" x=\"24\" y=\"25\" fill=\"#000000\" />\n",
       "<rect width=\".81\" height=\".81\" x=\"25\" y=\"25\" fill=\"#000000\" />\n",
       "<rect width=\".81\" height=\".81\" x=\"26\" y=\"25\" fill=\"#000000\" />\n",
       "<rect width=\".81\" height=\".81\" x=\"27\" y=\"25\" fill=\"#000000\" />\n",
       "<rect width=\".81\" height=\".81\" x=\"0\" y=\"26\" fill=\"#000000\" />\n",
       "<rect width=\".81\" height=\".81\" x=\"1\" y=\"26\" fill=\"#000000\" />\n",
       "<rect width=\".81\" height=\".81\" x=\"2\" y=\"26\" fill=\"#000000\" />\n",
       "<rect width=\".81\" height=\".81\" x=\"3\" y=\"26\" fill=\"#000000\" />\n",
       "<rect width=\".81\" height=\".81\" x=\"4\" y=\"26\" fill=\"#000000\" />\n",
       "<rect width=\".81\" height=\".81\" x=\"5\" y=\"26\" fill=\"#000000\" />\n",
       "<rect width=\".81\" height=\".81\" x=\"6\" y=\"26\" fill=\"#000000\" />\n",
       "<rect width=\".81\" height=\".81\" x=\"7\" y=\"26\" fill=\"#000000\" />\n",
       "<rect width=\".81\" height=\".81\" x=\"8\" y=\"26\" fill=\"#000000\" />\n",
       "<rect width=\".81\" height=\".81\" x=\"9\" y=\"26\" fill=\"#000000\" />\n",
       "<rect width=\".81\" height=\".81\" x=\"10\" y=\"26\" fill=\"#000000\" />\n",
       "<rect width=\".81\" height=\".81\" x=\"11\" y=\"26\" fill=\"#000000\" />\n",
       "<rect width=\".81\" height=\".81\" x=\"12\" y=\"26\" fill=\"#000000\" />\n",
       "<rect width=\".81\" height=\".81\" x=\"13\" y=\"26\" fill=\"#000000\" />\n",
       "<rect width=\".81\" height=\".81\" x=\"14\" y=\"26\" fill=\"#000000\" />\n",
       "<rect width=\".81\" height=\".81\" x=\"15\" y=\"26\" fill=\"#000000\" />\n",
       "<rect width=\".81\" height=\".81\" x=\"16\" y=\"26\" fill=\"#000000\" />\n",
       "<rect width=\".81\" height=\".81\" x=\"17\" y=\"26\" fill=\"#000000\" />\n",
       "<rect width=\".81\" height=\".81\" x=\"18\" y=\"26\" fill=\"#000000\" />\n",
       "<rect width=\".81\" height=\".81\" x=\"19\" y=\"26\" fill=\"#000000\" />\n",
       "<rect width=\".81\" height=\".81\" x=\"20\" y=\"26\" fill=\"#000000\" />\n",
       "<rect width=\".81\" height=\".81\" x=\"21\" y=\"26\" fill=\"#000000\" />\n",
       "<rect width=\".81\" height=\".81\" x=\"22\" y=\"26\" fill=\"#000000\" />\n",
       "<rect width=\".81\" height=\".81\" x=\"23\" y=\"26\" fill=\"#000000\" />\n",
       "<rect width=\".81\" height=\".81\" x=\"24\" y=\"26\" fill=\"#000000\" />\n",
       "<rect width=\".81\" height=\".81\" x=\"25\" y=\"26\" fill=\"#000000\" />\n",
       "<rect width=\".81\" height=\".81\" x=\"26\" y=\"26\" fill=\"#000000\" />\n",
       "<rect width=\".81\" height=\".81\" x=\"27\" y=\"26\" fill=\"#000000\" />\n",
       "<rect width=\".81\" height=\".81\" x=\"0\" y=\"27\" fill=\"#000000\" />\n",
       "<rect width=\".81\" height=\".81\" x=\"1\" y=\"27\" fill=\"#000000\" />\n",
       "<rect width=\".81\" height=\".81\" x=\"2\" y=\"27\" fill=\"#000000\" />\n",
       "<rect width=\".81\" height=\".81\" x=\"3\" y=\"27\" fill=\"#000000\" />\n",
       "<rect width=\".81\" height=\".81\" x=\"4\" y=\"27\" fill=\"#000000\" />\n",
       "<rect width=\".81\" height=\".81\" x=\"5\" y=\"27\" fill=\"#000000\" />\n",
       "<rect width=\".81\" height=\".81\" x=\"6\" y=\"27\" fill=\"#000000\" />\n",
       "<rect width=\".81\" height=\".81\" x=\"7\" y=\"27\" fill=\"#000000\" />\n",
       "<rect width=\".81\" height=\".81\" x=\"8\" y=\"27\" fill=\"#000000\" />\n",
       "<rect width=\".81\" height=\".81\" x=\"9\" y=\"27\" fill=\"#000000\" />\n",
       "<rect width=\".81\" height=\".81\" x=\"10\" y=\"27\" fill=\"#000000\" />\n",
       "<rect width=\".81\" height=\".81\" x=\"11\" y=\"27\" fill=\"#000000\" />\n",
       "<rect width=\".81\" height=\".81\" x=\"12\" y=\"27\" fill=\"#000000\" />\n",
       "<rect width=\".81\" height=\".81\" x=\"13\" y=\"27\" fill=\"#000000\" />\n",
       "<rect width=\".81\" height=\".81\" x=\"14\" y=\"27\" fill=\"#000000\" />\n",
       "<rect width=\".81\" height=\".81\" x=\"15\" y=\"27\" fill=\"#000000\" />\n",
       "<rect width=\".81\" height=\".81\" x=\"16\" y=\"27\" fill=\"#000000\" />\n",
       "<rect width=\".81\" height=\".81\" x=\"17\" y=\"27\" fill=\"#000000\" />\n",
       "<rect width=\".81\" height=\".81\" x=\"18\" y=\"27\" fill=\"#000000\" />\n",
       "<rect width=\".81\" height=\".81\" x=\"19\" y=\"27\" fill=\"#000000\" />\n",
       "<rect width=\".81\" height=\".81\" x=\"20\" y=\"27\" fill=\"#000000\" />\n",
       "<rect width=\".81\" height=\".81\" x=\"21\" y=\"27\" fill=\"#000000\" />\n",
       "<rect width=\".81\" height=\".81\" x=\"22\" y=\"27\" fill=\"#000000\" />\n",
       "<rect width=\".81\" height=\".81\" x=\"23\" y=\"27\" fill=\"#000000\" />\n",
       "<rect width=\".81\" height=\".81\" x=\"24\" y=\"27\" fill=\"#000000\" />\n",
       "<rect width=\".81\" height=\".81\" x=\"25\" y=\"27\" fill=\"#000000\" />\n",
       "<rect width=\".81\" height=\".81\" x=\"26\" y=\"27\" fill=\"#000000\" />\n",
       "<rect width=\".81\" height=\".81\" x=\"27\" y=\"27\" fill=\"#000000\" />\n",
       "</svg>"
      ],
      "text/plain": [
       "28×28 Array{Gray{Float32},2} with eltype Gray{Float32}:\n",
       " Gray{Float32}(0.0)  Gray{Float32}(0.0)  …  Gray{Float32}(0.0)\n",
       " Gray{Float32}(0.0)  Gray{Float32}(0.0)     Gray{Float32}(0.0)\n",
       " Gray{Float32}(0.0)  Gray{Float32}(0.0)     Gray{Float32}(0.0)\n",
       " Gray{Float32}(0.0)  Gray{Float32}(0.0)     Gray{Float32}(0.0)\n",
       " Gray{Float32}(0.0)  Gray{Float32}(0.0)     Gray{Float32}(0.0)\n",
       " Gray{Float32}(0.0)  Gray{Float32}(0.0)  …  Gray{Float32}(0.0)\n",
       " Gray{Float32}(0.0)  Gray{Float32}(0.0)     Gray{Float32}(0.0)\n",
       " Gray{Float32}(0.0)  Gray{Float32}(0.0)     Gray{Float32}(0.0)\n",
       " Gray{Float32}(0.0)  Gray{Float32}(0.0)     Gray{Float32}(0.0)\n",
       " Gray{Float32}(0.0)  Gray{Float32}(0.0)     Gray{Float32}(0.0)\n",
       " ⋮                                       ⋱  \n",
       " Gray{Float32}(0.0)  Gray{Float32}(0.0)     Gray{Float32}(0.0)\n",
       " Gray{Float32}(0.0)  Gray{Float32}(0.0)  …  Gray{Float32}(0.0)\n",
       " Gray{Float32}(0.0)  Gray{Float32}(0.0)     Gray{Float32}(0.0)\n",
       " Gray{Float32}(0.0)  Gray{Float32}(0.0)     Gray{Float32}(0.0)\n",
       " Gray{Float32}(0.0)  Gray{Float32}(0.0)     Gray{Float32}(0.0)\n",
       " Gray{Float32}(0.0)  Gray{Float32}(0.0)     Gray{Float32}(0.0)\n",
       " Gray{Float32}(0.0)  Gray{Float32}(0.0)  …  Gray{Float32}(0.0)\n",
       " Gray{Float32}(0.0)  Gray{Float32}(0.0)     Gray{Float32}(0.0)\n",
       " Gray{Float32}(0.0)  Gray{Float32}(0.0)     Gray{Float32}(0.0)"
      ]
     },
     "metadata": {},
     "output_type": "display_data"
    }
   ],
   "source": [
    "sample_id = rand(1:10000)\n",
    "random_sample = data_test.features[:,:, sample_id]\n",
    "Gray.(random_sample')"
   ]
  },
  {
   "attachments": {},
   "cell_type": "markdown",
   "id": "31719238",
   "metadata": {},
   "source": [
    "Now we use these two models for prediction."
   ]
  },
  {
   "cell_type": "code",
   "execution_count": 39,
   "id": "09cfdc77",
   "metadata": {},
   "outputs": [
    {
     "name": "stderr",
     "output_type": "stream",
     "text": [
      "\r0.0%┣                                                ┫ 0/1 [00:00<00:00, -0s/it]\n",
      "\u001b[1A\r100.0%┣██████████████████████████████████████████┫ 1/1 [00:00<Inf:Inf, InfGs/it]\n",
      "\u001b[1A\r100.0%┣██████████████████████████████████████████┫ 1/1 [00:00<Inf:Inf, InfGs/it]\n"
     ]
    },
    {
     "data": {
      "text/plain": [
       "1-element Vector{Int64}:\n",
       " 3"
      ]
     },
     "metadata": {},
     "output_type": "display_data"
    }
   ],
   "source": [
    "toy_model(random_sample)"
   ]
  },
  {
   "cell_type": "code",
   "execution_count": 40,
   "id": "315beff7",
   "metadata": {},
   "outputs": [
    {
     "name": "stderr",
     "output_type": "stream",
     "text": [
      "\r0.0%┣                                                ┫ 0/1 [00:00<00:00, -0s/it]\n"
     ]
    },
    {
     "name": "stderr",
     "output_type": "stream",
     "text": [
      "\u001b[1A\r100.0%┣██████████████████████████████████████████┫ 1/1 [00:01<Inf:Inf, InfGs/it]\n",
      "\u001b[1A\r100.0%┣██████████████████████████████████████████┫ 1/1 [00:01<Inf:Inf, InfGs/it]\n"
     ]
    },
    {
     "data": {
      "text/plain": [
       "1-element Vector{Int64}:\n",
       " 3"
      ]
     },
     "metadata": {},
     "output_type": "display_data"
    }
   ],
   "source": [
    "pre_trained_model(random_sample)"
   ]
  }
 ],
 "metadata": {
  "kernelspec": {
   "display_name": "Julia 1.9.2",
   "language": "julia",
   "name": "julia-1.9"
  },
  "language_info": {
   "file_extension": ".jl",
   "mimetype": "application/julia",
   "name": "julia",
   "version": "1.9.2"
  }
 },
 "nbformat": 4,
 "nbformat_minor": 5
}
